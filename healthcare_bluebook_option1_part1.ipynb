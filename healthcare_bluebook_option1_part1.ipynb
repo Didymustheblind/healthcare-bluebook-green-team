{
 "cells": [
  {
   "cell_type": "markdown",
   "metadata": {},
   "source": [
    "Question: How much are nearby Hospitals and Ambulatory Surgical Centers (surgery centers) paid for the same procedure / in the same area?"
   ]
  },
  {
   "cell_type": "code",
   "execution_count": 1,
   "metadata": {},
   "outputs": [],
   "source": [
    "import pandas as pd \n",
    "import numpy as np  \n",
    "import matplotlib.pyplot as plt  \n",
    "import seaborn as sns"
   ]
  },
  {
   "cell_type": "code",
   "execution_count": 2,
   "metadata": {},
   "outputs": [],
   "source": [
    "%matplotlib inline"
   ]
  },
  {
   "cell_type": "markdown",
   "metadata": {},
   "source": [
    "d1 = Medicare Provider Utilization and Payment Data: Physician and Other Supplier PUF CY2017"
   ]
  },
  {
   "cell_type": "code",
   "execution_count": 20,
   "metadata": {},
   "outputs": [
    {
     "data": {
      "text/plain": [
       "National Provider Identifier                                  int64\n",
       "Last Name/Organization Name of the Provider                  object\n",
       "First Name of the Provider                                   object\n",
       "Middle Initial of the Provider                               object\n",
       "Credentials of the Provider                                  object\n",
       "Gender of the Provider                                       object\n",
       "Entity Type of the Provider                                  object\n",
       "Street Address 1 of the Provider                             object\n",
       "Street Address 2 of the Provider                             object\n",
       "City of the Provider                                         object\n",
       "Zip Code of the Provider                                     object\n",
       "State Code of the Provider                                   object\n",
       "Country Code of the Provider                                 object\n",
       "Provider Type                                                object\n",
       "Medicare Participation Indicator                             object\n",
       "Place of Service                                             object\n",
       "HCPCS Code                                                   object\n",
       "HCPCS Description                                            object\n",
       "HCPCS Drug Indicator                                         object\n",
       "Number of Services                                          float64\n",
       "Number of Medicare Beneficiaries                              int64\n",
       "Number of Distinct Medicare Beneficiary/Per Day Services      int64\n",
       "Average Medicare Allowed Amount                             float64\n",
       "Average Submitted Charge Amount                             float64\n",
       "Average Medicare Payment Amount                             float64\n",
       "Average Medicare Standardized Amount                        float64\n",
       "dtype: object"
      ]
     },
     "execution_count": 20,
     "metadata": {},
     "output_type": "execute_result"
    }
   ],
   "source": [
    "pd.read_csv(\n",
    "        'c:/users/erinm/Documents/healthcare-bluebook-green-team/data/Medicare_Provider_Utilization_and_Payment_Data__Physician_and_Other_Supplier_PUF_CY2017.tsv', sep='\\t').dtypes\n",
    "#d1.shape"
   ]
  },
  {
   "cell_type": "markdown",
   "metadata": {},
   "source": [
    "Note: for now, I only read in National Provider Identifer (and not all the NPI subcolumns, like name, address, etc., since I figured those could be brought in later if we are interested.)"
   ]
  },
  {
   "cell_type": "code",
   "execution_count": 4,
   "metadata": {},
   "outputs": [
    {
     "data": {
      "text/plain": [
       "(9847443, 8)"
      ]
     },
     "execution_count": 4,
     "metadata": {},
     "output_type": "execute_result"
    }
   ],
   "source": [
    "d1=pd.read_csv(\n",
    "        'c:/users/erinm/Documents/healthcare-bluebook-green-team/data/Medicare_Provider_Utilization_and_Payment_Data__Physician_and_Other_Supplier_PUF_CY2017.tsv', \n",
    "        sep='\\t',\n",
    "        usecols=['National Provider Identifier', 'Entity Type of the Provider', 'Provider Type', 'Place of Service', 'HCPCS Code', 'HCPCS Description', 'Number of Distinct Medicare Beneficiary/Per Day Services', 'Average Medicare Allowed Amount']\n",
    ")\n",
    "d1.shape"
   ]
  },
  {
   "cell_type": "code",
   "execution_count": 5,
   "metadata": {},
   "outputs": [
    {
     "data": {
      "text/html": [
       "<div>\n",
       "<style scoped>\n",
       "    .dataframe tbody tr th:only-of-type {\n",
       "        vertical-align: middle;\n",
       "    }\n",
       "\n",
       "    .dataframe tbody tr th {\n",
       "        vertical-align: top;\n",
       "    }\n",
       "\n",
       "    .dataframe thead th {\n",
       "        text-align: right;\n",
       "    }\n",
       "</style>\n",
       "<table border=\"1\" class=\"dataframe\">\n",
       "  <thead>\n",
       "    <tr style=\"text-align: right;\">\n",
       "      <th></th>\n",
       "      <th>National Provider Identifier</th>\n",
       "      <th>Entity Type of the Provider</th>\n",
       "      <th>Provider Type</th>\n",
       "      <th>Place of Service</th>\n",
       "      <th>HCPCS Code</th>\n",
       "      <th>HCPCS Description</th>\n",
       "      <th>Number of Distinct Medicare Beneficiary/Per Day Services</th>\n",
       "      <th>Average Medicare Allowed Amount</th>\n",
       "    </tr>\n",
       "  </thead>\n",
       "  <tbody>\n",
       "    <tr>\n",
       "      <td>0</td>\n",
       "      <td>1003000126</td>\n",
       "      <td>I</td>\n",
       "      <td>Internal Medicine</td>\n",
       "      <td>F</td>\n",
       "      <td>99217</td>\n",
       "      <td>Hospital observation care discharge</td>\n",
       "      <td>100</td>\n",
       "      <td>73.398800</td>\n",
       "    </tr>\n",
       "    <tr>\n",
       "      <td>1</td>\n",
       "      <td>1003000126</td>\n",
       "      <td>I</td>\n",
       "      <td>Internal Medicine</td>\n",
       "      <td>F</td>\n",
       "      <td>99218</td>\n",
       "      <td>Hospital observation care typically 30 minutes</td>\n",
       "      <td>26</td>\n",
       "      <td>100.080000</td>\n",
       "    </tr>\n",
       "    <tr>\n",
       "      <td>2</td>\n",
       "      <td>1003000126</td>\n",
       "      <td>I</td>\n",
       "      <td>Internal Medicine</td>\n",
       "      <td>F</td>\n",
       "      <td>99219</td>\n",
       "      <td>Hospital observation care typically 50 minutes</td>\n",
       "      <td>52</td>\n",
       "      <td>136.380000</td>\n",
       "    </tr>\n",
       "    <tr>\n",
       "      <td>3</td>\n",
       "      <td>1003000126</td>\n",
       "      <td>I</td>\n",
       "      <td>Internal Medicine</td>\n",
       "      <td>F</td>\n",
       "      <td>99220</td>\n",
       "      <td>Hospital observation care typically 70 minutes...</td>\n",
       "      <td>59</td>\n",
       "      <td>190.363729</td>\n",
       "    </tr>\n",
       "    <tr>\n",
       "      <td>4</td>\n",
       "      <td>1003000126</td>\n",
       "      <td>I</td>\n",
       "      <td>Internal Medicine</td>\n",
       "      <td>F</td>\n",
       "      <td>99221</td>\n",
       "      <td>Initial hospital inpatient care, typically 30 ...</td>\n",
       "      <td>16</td>\n",
       "      <td>101.680000</td>\n",
       "    </tr>\n",
       "  </tbody>\n",
       "</table>\n",
       "</div>"
      ],
      "text/plain": [
       "   National Provider Identifier Entity Type of the Provider  \\\n",
       "0                    1003000126                           I   \n",
       "1                    1003000126                           I   \n",
       "2                    1003000126                           I   \n",
       "3                    1003000126                           I   \n",
       "4                    1003000126                           I   \n",
       "\n",
       "       Provider Type Place of Service HCPCS Code  \\\n",
       "0  Internal Medicine                F      99217   \n",
       "1  Internal Medicine                F      99218   \n",
       "2  Internal Medicine                F      99219   \n",
       "3  Internal Medicine                F      99220   \n",
       "4  Internal Medicine                F      99221   \n",
       "\n",
       "                                   HCPCS Description  \\\n",
       "0                Hospital observation care discharge   \n",
       "1     Hospital observation care typically 30 minutes   \n",
       "2     Hospital observation care typically 50 minutes   \n",
       "3  Hospital observation care typically 70 minutes...   \n",
       "4  Initial hospital inpatient care, typically 30 ...   \n",
       "\n",
       "   Number of Distinct Medicare Beneficiary/Per Day Services  \\\n",
       "0                                                100          \n",
       "1                                                 26          \n",
       "2                                                 52          \n",
       "3                                                 59          \n",
       "4                                                 16          \n",
       "\n",
       "   Average Medicare Allowed Amount  \n",
       "0                        73.398800  \n",
       "1                       100.080000  \n",
       "2                       136.380000  \n",
       "3                       190.363729  \n",
       "4                       101.680000  "
      ]
     },
     "execution_count": 5,
     "metadata": {},
     "output_type": "execute_result"
    }
   ],
   "source": [
    "d1.head()"
   ]
  },
  {
   "cell_type": "markdown",
   "metadata": {},
   "source": [
    "d2 = Provider Outpatient Hospital Charge Data by APC, CY2017"
   ]
  },
  {
   "cell_type": "code",
   "execution_count": 28,
   "metadata": {},
   "outputs": [
    {
     "data": {
      "text/plain": [
       "(61779, 6)"
      ]
     },
     "execution_count": 28,
     "metadata": {},
     "output_type": "execute_result"
    }
   ],
   "source": [
    "d2 = pd.read_csv(\n",
    "    'c:/users/erinm/Documents/healthcare-bluebook-green-team/data/Provider_Outpatient_Hospital_Charge_Data_by_APC__CY2017.tsv', \n",
    "    sep='\\t',\n",
    "    usecols=['Provider_ID','APC','APC_Desc', 'Beneficiaries', 'CAPC_Services','Average_Medicare_Allowed_Amount']\n",
    ")\n",
    "d2.shape"
   ]
  },
  {
   "cell_type": "code",
   "execution_count": 29,
   "metadata": {},
   "outputs": [
    {
     "data": {
      "text/html": [
       "<div>\n",
       "<style scoped>\n",
       "    .dataframe tbody tr th:only-of-type {\n",
       "        vertical-align: middle;\n",
       "    }\n",
       "\n",
       "    .dataframe tbody tr th {\n",
       "        vertical-align: top;\n",
       "    }\n",
       "\n",
       "    .dataframe thead th {\n",
       "        text-align: right;\n",
       "    }\n",
       "</style>\n",
       "<table border=\"1\" class=\"dataframe\">\n",
       "  <thead>\n",
       "    <tr style=\"text-align: right;\">\n",
       "      <th></th>\n",
       "      <th>Provider_ID</th>\n",
       "      <th>APC</th>\n",
       "      <th>APC_Desc</th>\n",
       "      <th>Beneficiaries</th>\n",
       "      <th>CAPC_Services</th>\n",
       "      <th>Average_Medicare_Allowed_Amount</th>\n",
       "    </tr>\n",
       "  </thead>\n",
       "  <tbody>\n",
       "    <tr>\n",
       "      <td>0</td>\n",
       "      <td>10001</td>\n",
       "      <td>5072</td>\n",
       "      <td>Level 2 Excision/ Biopsy/ Incision and Drainage</td>\n",
       "      <td>249.0</td>\n",
       "      <td>259</td>\n",
       "      <td>1038.45</td>\n",
       "    </tr>\n",
       "    <tr>\n",
       "      <td>1</td>\n",
       "      <td>10001</td>\n",
       "      <td>5073</td>\n",
       "      <td>Level 3 Excision/ Biopsy/ Incision and Drainage</td>\n",
       "      <td>52.0</td>\n",
       "      <td>53</td>\n",
       "      <td>1792.60</td>\n",
       "    </tr>\n",
       "    <tr>\n",
       "      <td>2</td>\n",
       "      <td>10001</td>\n",
       "      <td>5091</td>\n",
       "      <td>Level 1 Breast/Lymphatic Surgery and Related P...</td>\n",
       "      <td>26.0</td>\n",
       "      <td>27</td>\n",
       "      <td>2113.58</td>\n",
       "    </tr>\n",
       "    <tr>\n",
       "      <td>3</td>\n",
       "      <td>10001</td>\n",
       "      <td>5092</td>\n",
       "      <td>Level 2 Breast/Lymphatic Surgery and Related P...</td>\n",
       "      <td>23.0</td>\n",
       "      <td>23</td>\n",
       "      <td>3737.14</td>\n",
       "    </tr>\n",
       "    <tr>\n",
       "      <td>4</td>\n",
       "      <td>10001</td>\n",
       "      <td>5112</td>\n",
       "      <td>Level 2 Musculoskeletal Procedures</td>\n",
       "      <td>17.0</td>\n",
       "      <td>17</td>\n",
       "      <td>1029.46</td>\n",
       "    </tr>\n",
       "  </tbody>\n",
       "</table>\n",
       "</div>"
      ],
      "text/plain": [
       "   Provider_ID   APC                                           APC_Desc  \\\n",
       "0        10001  5072    Level 2 Excision/ Biopsy/ Incision and Drainage   \n",
       "1        10001  5073    Level 3 Excision/ Biopsy/ Incision and Drainage   \n",
       "2        10001  5091  Level 1 Breast/Lymphatic Surgery and Related P...   \n",
       "3        10001  5092  Level 2 Breast/Lymphatic Surgery and Related P...   \n",
       "4        10001  5112                 Level 2 Musculoskeletal Procedures   \n",
       "\n",
       "   Beneficiaries  CAPC_Services  Average_Medicare_Allowed_Amount  \n",
       "0          249.0            259                          1038.45  \n",
       "1           52.0             53                          1792.60  \n",
       "2           26.0             27                          2113.58  \n",
       "3           23.0             23                          3737.14  \n",
       "4           17.0             17                          1029.46  "
      ]
     },
     "execution_count": 29,
     "metadata": {},
     "output_type": "execute_result"
    }
   ],
   "source": [
    "d2.head()"
   ]
  },
  {
   "cell_type": "code",
   "execution_count": 30,
   "metadata": {},
   "outputs": [
    {
     "data": {
      "text/plain": [
       "Index(['Provider_ID', 'APC', 'APC_Desc', 'Beneficiaries', 'CAPC_Services',\n",
       "       'Average_Medicare_Allowed_Amount'],\n",
       "      dtype='object')"
      ]
     },
     "execution_count": 30,
     "metadata": {},
     "output_type": "execute_result"
    }
   ],
   "source": [
    "d2.columns"
   ]
  },
  {
   "cell_type": "markdown",
   "metadata": {},
   "source": [
    "d3 = APC to CPT/HCPCS crosswalk (Jan 2020 Addendum B)"
   ]
  },
  {
   "cell_type": "code",
   "execution_count": 31,
   "metadata": {},
   "outputs": [
    {
     "data": {
      "text/html": [
       "<div>\n",
       "<style scoped>\n",
       "    .dataframe tbody tr th:only-of-type {\n",
       "        vertical-align: middle;\n",
       "    }\n",
       "\n",
       "    .dataframe tbody tr th {\n",
       "        vertical-align: top;\n",
       "    }\n",
       "\n",
       "    .dataframe thead th {\n",
       "        text-align: right;\n",
       "    }\n",
       "</style>\n",
       "<table border=\"1\" class=\"dataframe\">\n",
       "  <thead>\n",
       "    <tr style=\"text-align: right;\">\n",
       "      <th></th>\n",
       "      <th>HCPCS Code</th>\n",
       "      <th>Short Descriptor</th>\n",
       "      <th>APC</th>\n",
       "    </tr>\n",
       "  </thead>\n",
       "  <tbody>\n",
       "    <tr>\n",
       "      <td>0</td>\n",
       "      <td>00100</td>\n",
       "      <td>Anesth salivary gland</td>\n",
       "      <td>NaN</td>\n",
       "    </tr>\n",
       "    <tr>\n",
       "      <td>1</td>\n",
       "      <td>00102</td>\n",
       "      <td>Anesth repair of cleft lip</td>\n",
       "      <td>NaN</td>\n",
       "    </tr>\n",
       "    <tr>\n",
       "      <td>2</td>\n",
       "      <td>00103</td>\n",
       "      <td>Anesth blepharoplasty</td>\n",
       "      <td>NaN</td>\n",
       "    </tr>\n",
       "    <tr>\n",
       "      <td>3</td>\n",
       "      <td>00104</td>\n",
       "      <td>Anesth electroshock</td>\n",
       "      <td>NaN</td>\n",
       "    </tr>\n",
       "    <tr>\n",
       "      <td>4</td>\n",
       "      <td>00120</td>\n",
       "      <td>Anesth ear surgery</td>\n",
       "      <td>NaN</td>\n",
       "    </tr>\n",
       "  </tbody>\n",
       "</table>\n",
       "</div>"
      ],
      "text/plain": [
       "  HCPCS Code            Short Descriptor  APC \n",
       "0      00100       Anesth salivary gland   NaN\n",
       "1      00102  Anesth repair of cleft lip   NaN\n",
       "2      00103       Anesth blepharoplasty   NaN\n",
       "3      00104         Anesth electroshock   NaN\n",
       "4      00120          Anesth ear surgery   NaN"
      ]
     },
     "execution_count": 31,
     "metadata": {},
     "output_type": "execute_result"
    }
   ],
   "source": [
    "d3 = pd.read_excel('c:/users/erinm/Documents/healthcare-bluebook-green-team/data/2020_january_web_addendum_b.12312019.xlsx',usecols=[0,1,3], skiprows=2)\n",
    "d3.head()"
   ]
  },
  {
   "cell_type": "markdown",
   "metadata": {},
   "source": [
    "d4 = Zip to CBSA crosswalk (Q1 2020)"
   ]
  },
  {
   "cell_type": "code",
   "execution_count": 32,
   "metadata": {},
   "outputs": [
    {
     "data": {
      "text/html": [
       "<div>\n",
       "<style scoped>\n",
       "    .dataframe tbody tr th:only-of-type {\n",
       "        vertical-align: middle;\n",
       "    }\n",
       "\n",
       "    .dataframe tbody tr th {\n",
       "        vertical-align: top;\n",
       "    }\n",
       "\n",
       "    .dataframe thead th {\n",
       "        text-align: right;\n",
       "    }\n",
       "</style>\n",
       "<table border=\"1\" class=\"dataframe\">\n",
       "  <thead>\n",
       "    <tr style=\"text-align: right;\">\n",
       "      <th></th>\n",
       "      <th>ZIP</th>\n",
       "      <th>CBSA</th>\n",
       "      <th>RES_RATIO</th>\n",
       "      <th>BUS_RATIO</th>\n",
       "      <th>OTH_RATIO</th>\n",
       "      <th>TOT_RATIO</th>\n",
       "    </tr>\n",
       "  </thead>\n",
       "  <tbody>\n",
       "    <tr>\n",
       "      <td>0</td>\n",
       "      <td>501</td>\n",
       "      <td>35620</td>\n",
       "      <td>0.0</td>\n",
       "      <td>1.0</td>\n",
       "      <td>0.0</td>\n",
       "      <td>1.0</td>\n",
       "    </tr>\n",
       "    <tr>\n",
       "      <td>1</td>\n",
       "      <td>601</td>\n",
       "      <td>38660</td>\n",
       "      <td>1.0</td>\n",
       "      <td>1.0</td>\n",
       "      <td>1.0</td>\n",
       "      <td>1.0</td>\n",
       "    </tr>\n",
       "    <tr>\n",
       "      <td>2</td>\n",
       "      <td>602</td>\n",
       "      <td>10380</td>\n",
       "      <td>1.0</td>\n",
       "      <td>1.0</td>\n",
       "      <td>1.0</td>\n",
       "      <td>1.0</td>\n",
       "    </tr>\n",
       "    <tr>\n",
       "      <td>3</td>\n",
       "      <td>603</td>\n",
       "      <td>10380</td>\n",
       "      <td>1.0</td>\n",
       "      <td>1.0</td>\n",
       "      <td>1.0</td>\n",
       "      <td>1.0</td>\n",
       "    </tr>\n",
       "    <tr>\n",
       "      <td>4</td>\n",
       "      <td>604</td>\n",
       "      <td>10380</td>\n",
       "      <td>1.0</td>\n",
       "      <td>1.0</td>\n",
       "      <td>1.0</td>\n",
       "      <td>1.0</td>\n",
       "    </tr>\n",
       "  </tbody>\n",
       "</table>\n",
       "</div>"
      ],
      "text/plain": [
       "   ZIP   CBSA  RES_RATIO  BUS_RATIO  OTH_RATIO  TOT_RATIO\n",
       "0  501  35620        0.0        1.0        0.0        1.0\n",
       "1  601  38660        1.0        1.0        1.0        1.0\n",
       "2  602  10380        1.0        1.0        1.0        1.0\n",
       "3  603  10380        1.0        1.0        1.0        1.0\n",
       "4  604  10380        1.0        1.0        1.0        1.0"
      ]
     },
     "execution_count": 32,
     "metadata": {},
     "output_type": "execute_result"
    }
   ],
   "source": [
    "d4 = pd.read_excel('c:/users/erinm/documents/healthcare-bluebook-green-team/data/ZIP_CBSA_032020.xlsx')\n",
    "d4.head()"
   ]
  },
  {
   "cell_type": "markdown",
   "metadata": {},
   "source": [
    "Inner join provider payment data (d1) with APC to HCPCS crosswalk (d3) on HCPCS Code."
   ]
  },
  {
   "cell_type": "code",
   "execution_count": 33,
   "metadata": {},
   "outputs": [
    {
     "data": {
      "text/plain": [
       "(9502517, 10)"
      ]
     },
     "execution_count": 33,
     "metadata": {},
     "output_type": "execute_result"
    }
   ],
   "source": [
    "d1_d3 = pd.merge(d1, d3, on=('HCPCS Code'), how='inner')\n",
    "d1_d3.shape"
   ]
  },
  {
   "cell_type": "code",
   "execution_count": 34,
   "metadata": {},
   "outputs": [
    {
     "data": {
      "text/html": [
       "<div>\n",
       "<style scoped>\n",
       "    .dataframe tbody tr th:only-of-type {\n",
       "        vertical-align: middle;\n",
       "    }\n",
       "\n",
       "    .dataframe tbody tr th {\n",
       "        vertical-align: top;\n",
       "    }\n",
       "\n",
       "    .dataframe thead th {\n",
       "        text-align: right;\n",
       "    }\n",
       "</style>\n",
       "<table border=\"1\" class=\"dataframe\">\n",
       "  <thead>\n",
       "    <tr style=\"text-align: right;\">\n",
       "      <th></th>\n",
       "      <th>National Provider Identifier</th>\n",
       "      <th>Entity Type of the Provider</th>\n",
       "      <th>Provider Type</th>\n",
       "      <th>Place of Service</th>\n",
       "      <th>HCPCS Code</th>\n",
       "      <th>HCPCS Description</th>\n",
       "      <th>Number of Distinct Medicare Beneficiary/Per Day Services</th>\n",
       "      <th>Average Medicare Allowed Amount</th>\n",
       "      <th>Short Descriptor</th>\n",
       "      <th>APC</th>\n",
       "    </tr>\n",
       "  </thead>\n",
       "  <tbody>\n",
       "    <tr>\n",
       "      <td>0</td>\n",
       "      <td>1003000126</td>\n",
       "      <td>I</td>\n",
       "      <td>Internal Medicine</td>\n",
       "      <td>F</td>\n",
       "      <td>99217</td>\n",
       "      <td>Hospital observation care discharge</td>\n",
       "      <td>100</td>\n",
       "      <td>73.3988</td>\n",
       "      <td>Observation care discharge</td>\n",
       "      <td>NaN</td>\n",
       "    </tr>\n",
       "    <tr>\n",
       "      <td>1</td>\n",
       "      <td>1003000407</td>\n",
       "      <td>I</td>\n",
       "      <td>Family Practice</td>\n",
       "      <td>F</td>\n",
       "      <td>99217</td>\n",
       "      <td>Hospital observation care discharge</td>\n",
       "      <td>15</td>\n",
       "      <td>72.3000</td>\n",
       "      <td>Observation care discharge</td>\n",
       "      <td>NaN</td>\n",
       "    </tr>\n",
       "    <tr>\n",
       "      <td>2</td>\n",
       "      <td>1003006586</td>\n",
       "      <td>I</td>\n",
       "      <td>Internal Medicine</td>\n",
       "      <td>F</td>\n",
       "      <td>99217</td>\n",
       "      <td>Hospital observation care discharge</td>\n",
       "      <td>53</td>\n",
       "      <td>82.0900</td>\n",
       "      <td>Observation care discharge</td>\n",
       "      <td>NaN</td>\n",
       "    </tr>\n",
       "    <tr>\n",
       "      <td>3</td>\n",
       "      <td>1003007824</td>\n",
       "      <td>I</td>\n",
       "      <td>Internal Medicine</td>\n",
       "      <td>F</td>\n",
       "      <td>99217</td>\n",
       "      <td>Hospital observation care discharge</td>\n",
       "      <td>12</td>\n",
       "      <td>79.6300</td>\n",
       "      <td>Observation care discharge</td>\n",
       "      <td>NaN</td>\n",
       "    </tr>\n",
       "    <tr>\n",
       "      <td>4</td>\n",
       "      <td>1003008590</td>\n",
       "      <td>I</td>\n",
       "      <td>Internal Medicine</td>\n",
       "      <td>F</td>\n",
       "      <td>99217</td>\n",
       "      <td>Hospital observation care discharge</td>\n",
       "      <td>28</td>\n",
       "      <td>75.7300</td>\n",
       "      <td>Observation care discharge</td>\n",
       "      <td>NaN</td>\n",
       "    </tr>\n",
       "  </tbody>\n",
       "</table>\n",
       "</div>"
      ],
      "text/plain": [
       "   National Provider Identifier Entity Type of the Provider  \\\n",
       "0                    1003000126                           I   \n",
       "1                    1003000407                           I   \n",
       "2                    1003006586                           I   \n",
       "3                    1003007824                           I   \n",
       "4                    1003008590                           I   \n",
       "\n",
       "       Provider Type Place of Service HCPCS Code  \\\n",
       "0  Internal Medicine                F      99217   \n",
       "1    Family Practice                F      99217   \n",
       "2  Internal Medicine                F      99217   \n",
       "3  Internal Medicine                F      99217   \n",
       "4  Internal Medicine                F      99217   \n",
       "\n",
       "                     HCPCS Description  \\\n",
       "0  Hospital observation care discharge   \n",
       "1  Hospital observation care discharge   \n",
       "2  Hospital observation care discharge   \n",
       "3  Hospital observation care discharge   \n",
       "4  Hospital observation care discharge   \n",
       "\n",
       "   Number of Distinct Medicare Beneficiary/Per Day Services  \\\n",
       "0                                                100          \n",
       "1                                                 15          \n",
       "2                                                 53          \n",
       "3                                                 12          \n",
       "4                                                 28          \n",
       "\n",
       "   Average Medicare Allowed Amount            Short Descriptor  APC   \n",
       "0                          73.3988  Observation care discharge   NaN  \n",
       "1                          72.3000  Observation care discharge   NaN  \n",
       "2                          82.0900  Observation care discharge   NaN  \n",
       "3                          79.6300  Observation care discharge   NaN  \n",
       "4                          75.7300  Observation care discharge   NaN  "
      ]
     },
     "execution_count": 34,
     "metadata": {},
     "output_type": "execute_result"
    }
   ],
   "source": [
    "d1_d3.head()"
   ]
  },
  {
   "cell_type": "markdown",
   "metadata": {},
   "source": [
    "Rename columns."
   ]
  },
  {
   "cell_type": "code",
   "execution_count": 35,
   "metadata": {},
   "outputs": [
    {
     "data": {
      "text/plain": [
       "Index(['National Provider Identifier', 'Entity Type of the Provider',\n",
       "       'Provider Type', 'Place of Service', 'HCPCS Code', 'HCPCS Description',\n",
       "       'Number of Distinct Medicare Beneficiary/Per Day Services',\n",
       "       'Average Medicare Allowed Amount', 'Short Descriptor', 'APC '],\n",
       "      dtype='object')"
      ]
     },
     "execution_count": 35,
     "metadata": {},
     "output_type": "execute_result"
    }
   ],
   "source": [
    "d1_d3.columns"
   ]
  },
  {
   "cell_type": "code",
   "execution_count": 36,
   "metadata": {},
   "outputs": [
    {
     "data": {
      "text/plain": [
       "Index(['NPI', 'Entity Type', 'Provider Type', 'Place of Service', 'HCPCS Code',\n",
       "       'HCPCS Desc', 'No. Distinct Medicare Beneficiaries Per Day Services',\n",
       "       'Avg Medicare Amt Allowed', 'APC Desc', 'APC'],\n",
       "      dtype='object')"
      ]
     },
     "execution_count": 36,
     "metadata": {},
     "output_type": "execute_result"
    }
   ],
   "source": [
    "d1_d3.columns=['NPI', \n",
    "              'Entity Type', \n",
    "              'Provider Type', \n",
    "              'Place of Service', \n",
    "              'HCPCS Code', \n",
    "              'HCPCS Desc', \n",
    "              'No. Distinct Medicare Beneficiaries Per Day Services', \n",
    "              'Avg Medicare Amt Allowed', \n",
    "              'APC Desc', \n",
    "              'APC']\n",
    "d1_d3.columns"
   ]
  },
  {
   "cell_type": "markdown",
   "metadata": {},
   "source": [
    "Remove entries with nans in APC Code field."
   ]
  },
  {
   "cell_type": "code",
   "execution_count": 37,
   "metadata": {},
   "outputs": [
    {
     "data": {
      "text/plain": [
       "(4016376, 10)"
      ]
     },
     "execution_count": 37,
     "metadata": {},
     "output_type": "execute_result"
    }
   ],
   "source": [
    "d1_d3_nn=d1_d3[d1_d3['APC'].notnull()]\n",
    "d1_d3_nn.shape"
   ]
  },
  {
   "cell_type": "markdown",
   "metadata": {},
   "source": [
    "***Note: Tried to do the following but got memory error, so am moving join to after filters imposed.  \n",
    "\n",
    "Full join d1_d3_nn (provider payment data (d1) with APC to HCPCS crosswalk (d3) on HCPCS Code) with Outpatient Charge data (d2) on APC."
   ]
  },
  {
   "cell_type": "code",
   "execution_count": 40,
   "metadata": {},
   "outputs": [
    {
     "data": {
      "text/plain": [
       "NPI                                                       int64\n",
       "Entity Type                                              object\n",
       "Provider Type                                            object\n",
       "Place of Service                                         object\n",
       "HCPCS Code                                               object\n",
       "HCPCS Desc                                               object\n",
       "No. Distinct Medicare Beneficiaries Per Day Services      int64\n",
       "Avg Medicare Amt Allowed                                float64\n",
       "APC Desc                                                 object\n",
       "APC                                                     float64\n",
       "dtype: object"
      ]
     },
     "execution_count": 40,
     "metadata": {},
     "output_type": "execute_result"
    }
   ],
   "source": [
    "d1_d3_nn.dtypes"
   ]
  },
  {
   "cell_type": "markdown",
   "metadata": {},
   "source": [
    "From PowerPoint: \n",
    "\n",
    "\"Physician/Other Supplier Data Filters - pulling ASCs\n",
    "entity type = 'O'\n",
    "Provider Type = Ambulatory Surgical Center\n",
    "CPT = 43249\n",
    "Hospital Outpatient\n",
    "APC = 5302\n",
    "Knowing what they get paid for an APC, we can tell what they get paid for a procedure.\n",
    "Compare results within a CBSA (what is a)\"\n",
    "\n",
    "Create filters:\n",
    "filter1 = entity type (I or O)\n",
    "filter2 = HCPCS Code\n",
    "filter3 = provider type"
   ]
  },
  {
   "cell_type": "code",
   "execution_count": 41,
   "metadata": {},
   "outputs": [
    {
     "data": {
      "text/plain": [
       "(616, 10)"
      ]
     },
     "execution_count": 41,
     "metadata": {},
     "output_type": "execute_result"
    }
   ],
   "source": [
    "filter1 = d1_d3_nn['Entity Type'].isin(['O'])\n",
    "filter2 = d1_d3_nn['HCPCS Code'].isin(['43249'])\n",
    "filter3 = d1_d3_nn['Provider Type'].isin(['Ambulatory Surgical Center'])\n",
    "\n",
    "F1_F2_F3 = d1_d3_nn[filter1 & filter2 & filter3]\n",
    "F1_F2_F3.shape"
   ]
  },
  {
   "cell_type": "code",
   "execution_count": 42,
   "metadata": {},
   "outputs": [
    {
     "data": {
      "text/html": [
       "<div>\n",
       "<style scoped>\n",
       "    .dataframe tbody tr th:only-of-type {\n",
       "        vertical-align: middle;\n",
       "    }\n",
       "\n",
       "    .dataframe tbody tr th {\n",
       "        vertical-align: top;\n",
       "    }\n",
       "\n",
       "    .dataframe thead th {\n",
       "        text-align: right;\n",
       "    }\n",
       "</style>\n",
       "<table border=\"1\" class=\"dataframe\">\n",
       "  <thead>\n",
       "    <tr style=\"text-align: right;\">\n",
       "      <th></th>\n",
       "      <th>NPI</th>\n",
       "      <th>Entity Type</th>\n",
       "      <th>Provider Type</th>\n",
       "      <th>Place of Service</th>\n",
       "      <th>HCPCS Code</th>\n",
       "      <th>HCPCS Desc</th>\n",
       "      <th>No. Distinct Medicare Beneficiaries Per Day Services</th>\n",
       "      <th>Avg Medicare Amt Allowed</th>\n",
       "      <th>APC Desc</th>\n",
       "      <th>APC</th>\n",
       "    </tr>\n",
       "  </thead>\n",
       "  <tbody>\n",
       "    <tr>\n",
       "      <td>7529288</td>\n",
       "      <td>1003015843</td>\n",
       "      <td>O</td>\n",
       "      <td>Ambulatory Surgical Center</td>\n",
       "      <td>F</td>\n",
       "      <td>43249</td>\n",
       "      <td>Balloon dilation of esophagus using an endoscope</td>\n",
       "      <td>20</td>\n",
       "      <td>814.53450</td>\n",
       "      <td>Esoph egd dilation &lt;30 mm</td>\n",
       "      <td>5302.0</td>\n",
       "    </tr>\n",
       "    <tr>\n",
       "      <td>7529292</td>\n",
       "      <td>1003079187</td>\n",
       "      <td>O</td>\n",
       "      <td>Ambulatory Surgical Center</td>\n",
       "      <td>F</td>\n",
       "      <td>43249</td>\n",
       "      <td>Balloon dilation of esophagus using an endoscope</td>\n",
       "      <td>17</td>\n",
       "      <td>555.31000</td>\n",
       "      <td>Esoph egd dilation &lt;30 mm</td>\n",
       "      <td>5302.0</td>\n",
       "    </tr>\n",
       "    <tr>\n",
       "      <td>7529293</td>\n",
       "      <td>1003220187</td>\n",
       "      <td>O</td>\n",
       "      <td>Ambulatory Surgical Center</td>\n",
       "      <td>F</td>\n",
       "      <td>43249</td>\n",
       "      <td>Balloon dilation of esophagus using an endoscope</td>\n",
       "      <td>94</td>\n",
       "      <td>596.51000</td>\n",
       "      <td>Esoph egd dilation &lt;30 mm</td>\n",
       "      <td>5302.0</td>\n",
       "    </tr>\n",
       "    <tr>\n",
       "      <td>7529297</td>\n",
       "      <td>1003815242</td>\n",
       "      <td>O</td>\n",
       "      <td>Ambulatory Surgical Center</td>\n",
       "      <td>F</td>\n",
       "      <td>43249</td>\n",
       "      <td>Balloon dilation of esophagus using an endoscope</td>\n",
       "      <td>446</td>\n",
       "      <td>509.85778</td>\n",
       "      <td>Esoph egd dilation &lt;30 mm</td>\n",
       "      <td>5302.0</td>\n",
       "    </tr>\n",
       "    <tr>\n",
       "      <td>7529307</td>\n",
       "      <td>1003887225</td>\n",
       "      <td>O</td>\n",
       "      <td>Ambulatory Surgical Center</td>\n",
       "      <td>F</td>\n",
       "      <td>43249</td>\n",
       "      <td>Balloon dilation of esophagus using an endoscope</td>\n",
       "      <td>26</td>\n",
       "      <td>576.83000</td>\n",
       "      <td>Esoph egd dilation &lt;30 mm</td>\n",
       "      <td>5302.0</td>\n",
       "    </tr>\n",
       "  </tbody>\n",
       "</table>\n",
       "</div>"
      ],
      "text/plain": [
       "                NPI Entity Type               Provider Type Place of Service  \\\n",
       "7529288  1003015843           O  Ambulatory Surgical Center                F   \n",
       "7529292  1003079187           O  Ambulatory Surgical Center                F   \n",
       "7529293  1003220187           O  Ambulatory Surgical Center                F   \n",
       "7529297  1003815242           O  Ambulatory Surgical Center                F   \n",
       "7529307  1003887225           O  Ambulatory Surgical Center                F   \n",
       "\n",
       "        HCPCS Code                                        HCPCS Desc  \\\n",
       "7529288      43249  Balloon dilation of esophagus using an endoscope   \n",
       "7529292      43249  Balloon dilation of esophagus using an endoscope   \n",
       "7529293      43249  Balloon dilation of esophagus using an endoscope   \n",
       "7529297      43249  Balloon dilation of esophagus using an endoscope   \n",
       "7529307      43249  Balloon dilation of esophagus using an endoscope   \n",
       "\n",
       "         No. Distinct Medicare Beneficiaries Per Day Services  \\\n",
       "7529288                                                 20      \n",
       "7529292                                                 17      \n",
       "7529293                                                 94      \n",
       "7529297                                                446      \n",
       "7529307                                                 26      \n",
       "\n",
       "         Avg Medicare Amt Allowed                   APC Desc     APC  \n",
       "7529288                 814.53450  Esoph egd dilation <30 mm  5302.0  \n",
       "7529292                 555.31000  Esoph egd dilation <30 mm  5302.0  \n",
       "7529293                 596.51000  Esoph egd dilation <30 mm  5302.0  \n",
       "7529297                 509.85778  Esoph egd dilation <30 mm  5302.0  \n",
       "7529307                 576.83000  Esoph egd dilation <30 mm  5302.0  "
      ]
     },
     "execution_count": 42,
     "metadata": {},
     "output_type": "execute_result"
    }
   ],
   "source": [
    "F1_F2_F3.head()"
   ]
  },
  {
   "cell_type": "markdown",
   "metadata": {},
   "source": [
    "Confirming that Place of Service is uniform."
   ]
  },
  {
   "cell_type": "code",
   "execution_count": 43,
   "metadata": {},
   "outputs": [
    {
     "data": {
      "text/plain": [
       "F    616\n",
       "Name: Place of Service, dtype: int64"
      ]
     },
     "execution_count": 43,
     "metadata": {},
     "output_type": "execute_result"
    }
   ],
   "source": [
    "F1_F2_F3['Place of Service'].value_counts()"
   ]
  },
  {
   "cell_type": "markdown",
   "metadata": {},
   "source": [
    "***Note: again tried to merge with d2 but am getting memory error.  Tried to limit with nrows (like Taylor suggested with a read_csv) but this does not work with the merge function.  Need to troubleshoot."
   ]
  },
  {
   "cell_type": "code",
   "execution_count": 47,
   "metadata": {},
   "outputs": [
    {
     "ename": "MemoryError",
     "evalue": "",
     "output_type": "error",
     "traceback": [
      "\u001b[1;31m---------------------------------------------------------------------------\u001b[0m",
      "\u001b[1;31mMemoryError\u001b[0m                               Traceback (most recent call last)",
      "\u001b[1;32m<ipython-input-47-9ef9cc73ba06>\u001b[0m in \u001b[0;36m<module>\u001b[1;34m\u001b[0m\n\u001b[1;32m----> 1\u001b[1;33m \u001b[0mF1_F2_F3_with_d2\u001b[0m\u001b[1;33m=\u001b[0m \u001b[0mpd\u001b[0m\u001b[1;33m.\u001b[0m\u001b[0mmerge\u001b[0m\u001b[1;33m(\u001b[0m\u001b[0md1_d3_nn\u001b[0m\u001b[1;33m,\u001b[0m \u001b[0md2\u001b[0m\u001b[1;33m,\u001b[0m \u001b[0mon\u001b[0m\u001b[1;33m=\u001b[0m\u001b[1;33m(\u001b[0m\u001b[1;34m'APC'\u001b[0m\u001b[1;33m)\u001b[0m\u001b[1;33m,\u001b[0m \u001b[0mhow\u001b[0m\u001b[1;33m=\u001b[0m\u001b[1;34m'inner'\u001b[0m\u001b[1;33m)\u001b[0m\u001b[1;33m\u001b[0m\u001b[1;33m\u001b[0m\u001b[0m\n\u001b[0m\u001b[0;32m      2\u001b[0m \u001b[0mF1_F2_F3_with_d2\u001b[0m\u001b[1;33m.\u001b[0m\u001b[0mshape\u001b[0m\u001b[1;33m\u001b[0m\u001b[1;33m\u001b[0m\u001b[0m\n",
      "\u001b[1;32m~\\Anaconda3\\lib\\site-packages\\pandas\\core\\reshape\\merge.py\u001b[0m in \u001b[0;36mmerge\u001b[1;34m(left, right, how, on, left_on, right_on, left_index, right_index, sort, suffixes, copy, indicator, validate)\u001b[0m\n\u001b[0;32m     81\u001b[0m         \u001b[0mvalidate\u001b[0m\u001b[1;33m=\u001b[0m\u001b[0mvalidate\u001b[0m\u001b[1;33m,\u001b[0m\u001b[1;33m\u001b[0m\u001b[1;33m\u001b[0m\u001b[0m\n\u001b[0;32m     82\u001b[0m     )\n\u001b[1;32m---> 83\u001b[1;33m     \u001b[1;32mreturn\u001b[0m \u001b[0mop\u001b[0m\u001b[1;33m.\u001b[0m\u001b[0mget_result\u001b[0m\u001b[1;33m(\u001b[0m\u001b[1;33m)\u001b[0m\u001b[1;33m\u001b[0m\u001b[1;33m\u001b[0m\u001b[0m\n\u001b[0m\u001b[0;32m     84\u001b[0m \u001b[1;33m\u001b[0m\u001b[0m\n\u001b[0;32m     85\u001b[0m \u001b[1;33m\u001b[0m\u001b[0m\n",
      "\u001b[1;32m~\\Anaconda3\\lib\\site-packages\\pandas\\core\\reshape\\merge.py\u001b[0m in \u001b[0;36mget_result\u001b[1;34m(self)\u001b[0m\n\u001b[0;32m    656\u001b[0m             \u001b[0maxes\u001b[0m\u001b[1;33m=\u001b[0m\u001b[1;33m[\u001b[0m\u001b[0mllabels\u001b[0m\u001b[1;33m.\u001b[0m\u001b[0mappend\u001b[0m\u001b[1;33m(\u001b[0m\u001b[0mrlabels\u001b[0m\u001b[1;33m)\u001b[0m\u001b[1;33m,\u001b[0m \u001b[0mjoin_index\u001b[0m\u001b[1;33m]\u001b[0m\u001b[1;33m,\u001b[0m\u001b[1;33m\u001b[0m\u001b[1;33m\u001b[0m\u001b[0m\n\u001b[0;32m    657\u001b[0m             \u001b[0mconcat_axis\u001b[0m\u001b[1;33m=\u001b[0m\u001b[1;36m0\u001b[0m\u001b[1;33m,\u001b[0m\u001b[1;33m\u001b[0m\u001b[1;33m\u001b[0m\u001b[0m\n\u001b[1;32m--> 658\u001b[1;33m             \u001b[0mcopy\u001b[0m\u001b[1;33m=\u001b[0m\u001b[0mself\u001b[0m\u001b[1;33m.\u001b[0m\u001b[0mcopy\u001b[0m\u001b[1;33m,\u001b[0m\u001b[1;33m\u001b[0m\u001b[1;33m\u001b[0m\u001b[0m\n\u001b[0m\u001b[0;32m    659\u001b[0m         )\n\u001b[0;32m    660\u001b[0m \u001b[1;33m\u001b[0m\u001b[0m\n",
      "\u001b[1;32m~\\Anaconda3\\lib\\site-packages\\pandas\\core\\internals\\managers.py\u001b[0m in \u001b[0;36mconcatenate_block_managers\u001b[1;34m(mgrs_indexers, axes, concat_axis, copy)\u001b[0m\n\u001b[0;32m   2052\u001b[0m         \u001b[1;32melse\u001b[0m\u001b[1;33m:\u001b[0m\u001b[1;33m\u001b[0m\u001b[1;33m\u001b[0m\u001b[0m\n\u001b[0;32m   2053\u001b[0m             b = make_block(\n\u001b[1;32m-> 2054\u001b[1;33m                 \u001b[0mconcatenate_join_units\u001b[0m\u001b[1;33m(\u001b[0m\u001b[0mjoin_units\u001b[0m\u001b[1;33m,\u001b[0m \u001b[0mconcat_axis\u001b[0m\u001b[1;33m,\u001b[0m \u001b[0mcopy\u001b[0m\u001b[1;33m=\u001b[0m\u001b[0mcopy\u001b[0m\u001b[1;33m)\u001b[0m\u001b[1;33m,\u001b[0m\u001b[1;33m\u001b[0m\u001b[1;33m\u001b[0m\u001b[0m\n\u001b[0m\u001b[0;32m   2055\u001b[0m                 \u001b[0mplacement\u001b[0m\u001b[1;33m=\u001b[0m\u001b[0mplacement\u001b[0m\u001b[1;33m,\u001b[0m\u001b[1;33m\u001b[0m\u001b[1;33m\u001b[0m\u001b[0m\n\u001b[0;32m   2056\u001b[0m             )\n",
      "\u001b[1;32m~\\Anaconda3\\lib\\site-packages\\pandas\\core\\internals\\concat.py\u001b[0m in \u001b[0;36mconcatenate_join_units\u001b[1;34m(join_units, concat_axis, copy)\u001b[0m\n\u001b[0;32m    251\u001b[0m     to_concat = [\n\u001b[0;32m    252\u001b[0m         \u001b[0mju\u001b[0m\u001b[1;33m.\u001b[0m\u001b[0mget_reindexed_values\u001b[0m\u001b[1;33m(\u001b[0m\u001b[0mempty_dtype\u001b[0m\u001b[1;33m=\u001b[0m\u001b[0mempty_dtype\u001b[0m\u001b[1;33m,\u001b[0m \u001b[0mupcasted_na\u001b[0m\u001b[1;33m=\u001b[0m\u001b[0mupcasted_na\u001b[0m\u001b[1;33m)\u001b[0m\u001b[1;33m\u001b[0m\u001b[1;33m\u001b[0m\u001b[0m\n\u001b[1;32m--> 253\u001b[1;33m         \u001b[1;32mfor\u001b[0m \u001b[0mju\u001b[0m \u001b[1;32min\u001b[0m \u001b[0mjoin_units\u001b[0m\u001b[1;33m\u001b[0m\u001b[1;33m\u001b[0m\u001b[0m\n\u001b[0m\u001b[0;32m    254\u001b[0m     ]\n\u001b[0;32m    255\u001b[0m \u001b[1;33m\u001b[0m\u001b[0m\n",
      "\u001b[1;32m~\\Anaconda3\\lib\\site-packages\\pandas\\core\\internals\\concat.py\u001b[0m in \u001b[0;36m<listcomp>\u001b[1;34m(.0)\u001b[0m\n\u001b[0;32m    251\u001b[0m     to_concat = [\n\u001b[0;32m    252\u001b[0m         \u001b[0mju\u001b[0m\u001b[1;33m.\u001b[0m\u001b[0mget_reindexed_values\u001b[0m\u001b[1;33m(\u001b[0m\u001b[0mempty_dtype\u001b[0m\u001b[1;33m=\u001b[0m\u001b[0mempty_dtype\u001b[0m\u001b[1;33m,\u001b[0m \u001b[0mupcasted_na\u001b[0m\u001b[1;33m=\u001b[0m\u001b[0mupcasted_na\u001b[0m\u001b[1;33m)\u001b[0m\u001b[1;33m\u001b[0m\u001b[1;33m\u001b[0m\u001b[0m\n\u001b[1;32m--> 253\u001b[1;33m         \u001b[1;32mfor\u001b[0m \u001b[0mju\u001b[0m \u001b[1;32min\u001b[0m \u001b[0mjoin_units\u001b[0m\u001b[1;33m\u001b[0m\u001b[1;33m\u001b[0m\u001b[0m\n\u001b[0m\u001b[0;32m    254\u001b[0m     ]\n\u001b[0;32m    255\u001b[0m \u001b[1;33m\u001b[0m\u001b[0m\n",
      "\u001b[1;32m~\\Anaconda3\\lib\\site-packages\\pandas\\core\\internals\\concat.py\u001b[0m in \u001b[0;36mget_reindexed_values\u001b[1;34m(self, empty_dtype, upcasted_na)\u001b[0m\n\u001b[0;32m    234\u001b[0m         \u001b[1;32melse\u001b[0m\u001b[1;33m:\u001b[0m\u001b[1;33m\u001b[0m\u001b[1;33m\u001b[0m\u001b[0m\n\u001b[0;32m    235\u001b[0m             \u001b[1;32mfor\u001b[0m \u001b[0max\u001b[0m\u001b[1;33m,\u001b[0m \u001b[0mindexer\u001b[0m \u001b[1;32min\u001b[0m \u001b[0mself\u001b[0m\u001b[1;33m.\u001b[0m\u001b[0mindexers\u001b[0m\u001b[1;33m.\u001b[0m\u001b[0mitems\u001b[0m\u001b[1;33m(\u001b[0m\u001b[1;33m)\u001b[0m\u001b[1;33m:\u001b[0m\u001b[1;33m\u001b[0m\u001b[1;33m\u001b[0m\u001b[0m\n\u001b[1;32m--> 236\u001b[1;33m                 \u001b[0mvalues\u001b[0m \u001b[1;33m=\u001b[0m \u001b[0malgos\u001b[0m\u001b[1;33m.\u001b[0m\u001b[0mtake_nd\u001b[0m\u001b[1;33m(\u001b[0m\u001b[0mvalues\u001b[0m\u001b[1;33m,\u001b[0m \u001b[0mindexer\u001b[0m\u001b[1;33m,\u001b[0m \u001b[0maxis\u001b[0m\u001b[1;33m=\u001b[0m\u001b[0max\u001b[0m\u001b[1;33m,\u001b[0m \u001b[0mfill_value\u001b[0m\u001b[1;33m=\u001b[0m\u001b[0mfill_value\u001b[0m\u001b[1;33m)\u001b[0m\u001b[1;33m\u001b[0m\u001b[1;33m\u001b[0m\u001b[0m\n\u001b[0m\u001b[0;32m    237\u001b[0m \u001b[1;33m\u001b[0m\u001b[0m\n\u001b[0;32m    238\u001b[0m         \u001b[1;32mreturn\u001b[0m \u001b[0mvalues\u001b[0m\u001b[1;33m\u001b[0m\u001b[1;33m\u001b[0m\u001b[0m\n",
      "\u001b[1;32m~\\Anaconda3\\lib\\site-packages\\pandas\\core\\algorithms.py\u001b[0m in \u001b[0;36mtake_nd\u001b[1;34m(arr, indexer, axis, out, fill_value, mask_info, allow_fill)\u001b[0m\n\u001b[0;32m   1714\u001b[0m             \u001b[0mout\u001b[0m \u001b[1;33m=\u001b[0m \u001b[0mnp\u001b[0m\u001b[1;33m.\u001b[0m\u001b[0mempty\u001b[0m\u001b[1;33m(\u001b[0m\u001b[0mout_shape\u001b[0m\u001b[1;33m,\u001b[0m \u001b[0mdtype\u001b[0m\u001b[1;33m=\u001b[0m\u001b[0mdtype\u001b[0m\u001b[1;33m,\u001b[0m \u001b[0morder\u001b[0m\u001b[1;33m=\u001b[0m\u001b[1;34m\"F\"\u001b[0m\u001b[1;33m)\u001b[0m\u001b[1;33m\u001b[0m\u001b[1;33m\u001b[0m\u001b[0m\n\u001b[0;32m   1715\u001b[0m         \u001b[1;32melse\u001b[0m\u001b[1;33m:\u001b[0m\u001b[1;33m\u001b[0m\u001b[1;33m\u001b[0m\u001b[0m\n\u001b[1;32m-> 1716\u001b[1;33m             \u001b[0mout\u001b[0m \u001b[1;33m=\u001b[0m \u001b[0mnp\u001b[0m\u001b[1;33m.\u001b[0m\u001b[0mempty\u001b[0m\u001b[1;33m(\u001b[0m\u001b[0mout_shape\u001b[0m\u001b[1;33m,\u001b[0m \u001b[0mdtype\u001b[0m\u001b[1;33m=\u001b[0m\u001b[0mdtype\u001b[0m\u001b[1;33m)\u001b[0m\u001b[1;33m\u001b[0m\u001b[1;33m\u001b[0m\u001b[0m\n\u001b[0m\u001b[0;32m   1717\u001b[0m \u001b[1;33m\u001b[0m\u001b[0m\n\u001b[0;32m   1718\u001b[0m     func = _get_take_nd_function(\n",
      "\u001b[1;31mMemoryError\u001b[0m: "
     ]
    }
   ],
   "source": [
    "#F1_F2_F3_with_d2= pd.merge(d1_d3_nn, d2, on=('APC'), how='inner')\n",
    "#F1_F2_F3_with_d2.shape"
   ]
  },
  {
   "cell_type": "markdown",
   "metadata": {},
   "source": [
    "Assign new filters to d1_d3_nn.  Filters relate to our choice to look at hip replacements.  Know that APC code is [5112, 5113, 5114, 5115, 5116], which are various levels of muskoskeletal procedures.  Look at HCPCS within those APCs to find hip replacement code."
   ]
  },
  {
   "cell_type": "code",
   "execution_count": 50,
   "metadata": {},
   "outputs": [
    {
     "data": {
      "text/plain": [
       "(60478, 10)"
      ]
     },
     "execution_count": 50,
     "metadata": {},
     "output_type": "execute_result"
    }
   ],
   "source": [
    "filter4 = d1_d3_nn['APC'].isin([5112, 5113, 5114, 5115, 5116])\n",
    "\n",
    "F4 = d1_d3_nn[filter4]\n",
    "F4.shape"
   ]
  },
  {
   "cell_type": "code",
   "execution_count": 53,
   "metadata": {},
   "outputs": [
    {
     "data": {
      "text/plain": [
       "27447    11213\n",
       "27130     6780\n",
       "63047     5039\n",
       "29827     3593\n",
       "26055     2678\n",
       "         ...  \n",
       "27080        1\n",
       "25001        1\n",
       "26455        1\n",
       "26615        1\n",
       "25300        1\n",
       "Name: HCPCS Code, Length: 390, dtype: int64"
      ]
     },
     "execution_count": 53,
     "metadata": {},
     "output_type": "execute_result"
    }
   ],
   "source": [
    "F4['HCPCS Code'].value_counts()"
   ]
  },
  {
   "cell_type": "code",
   "execution_count": 54,
   "metadata": {},
   "outputs": [
    {
     "data": {
      "text/plain": [
       "Repair of knee joint                                                              11807\n",
       "Replacement of thigh bone and hip joint prosthesis                                 6780\n",
       "Partial removal of middle spine bone with release of spinal cord and/or nerves     5047\n",
       "Repair of shoulder rotator cuff using an endoscope                                 3593\n",
       "Incision of tendon covering                                                        2678\n",
       "                                                                                  ...  \n",
       "Partial removal of leg bone                                                           1\n",
       "Partial removal of hand bone                                                          1\n",
       "Treatment of knee joint fractures with assistance of an endoscope                     1\n",
       "Diagnostic examination of elbow joint using an endoscope                              1\n",
       "Creation of web space between toes                                                    1\n",
       "Name: HCPCS Desc, Length: 336, dtype: int64"
      ]
     },
     "execution_count": 54,
     "metadata": {},
     "output_type": "execute_result"
    }
   ],
   "source": [
    "F4['HCPCS Desc'].value_counts()"
   ]
  },
  {
   "cell_type": "code",
   "execution_count": 60,
   "metadata": {},
   "outputs": [
    {
     "data": {
      "text/plain": [
       "(63853, 10)"
      ]
     },
     "execution_count": 60,
     "metadata": {},
     "output_type": "execute_result"
    }
   ],
   "source": [
    "F5 = d1_d3_nn[d1_d3_nn['HCPCS Desc'].str.contains('hip')]\n",
    "\n",
    "F5.shape"
   ]
  },
  {
   "cell_type": "code",
   "execution_count": 61,
   "metadata": {},
   "outputs": [
    {
     "data": {
      "text/html": [
       "<div>\n",
       "<style scoped>\n",
       "    .dataframe tbody tr th:only-of-type {\n",
       "        vertical-align: middle;\n",
       "    }\n",
       "\n",
       "    .dataframe tbody tr th {\n",
       "        vertical-align: top;\n",
       "    }\n",
       "\n",
       "    .dataframe thead th {\n",
       "        text-align: right;\n",
       "    }\n",
       "</style>\n",
       "<table border=\"1\" class=\"dataframe\">\n",
       "  <thead>\n",
       "    <tr style=\"text-align: right;\">\n",
       "      <th></th>\n",
       "      <th>NPI</th>\n",
       "      <th>Entity Type</th>\n",
       "      <th>Provider Type</th>\n",
       "      <th>Place of Service</th>\n",
       "      <th>HCPCS Code</th>\n",
       "      <th>HCPCS Desc</th>\n",
       "      <th>No. Distinct Medicare Beneficiaries Per Day Services</th>\n",
       "      <th>Avg Medicare Amt Allowed</th>\n",
       "      <th>APC Desc</th>\n",
       "      <th>APC</th>\n",
       "    </tr>\n",
       "  </thead>\n",
       "  <tbody>\n",
       "    <tr>\n",
       "      <td>4902359</td>\n",
       "      <td>1003001785</td>\n",
       "      <td>I</td>\n",
       "      <td>Orthopedic Surgery</td>\n",
       "      <td>O</td>\n",
       "      <td>73502</td>\n",
       "      <td>X-ray of hip with pelvis, 2-3 views</td>\n",
       "      <td>24</td>\n",
       "      <td>26.91</td>\n",
       "      <td>X-ray exam hip uni 2-3 views</td>\n",
       "      <td>5521.0</td>\n",
       "    </tr>\n",
       "    <tr>\n",
       "      <td>4902360</td>\n",
       "      <td>1003002148</td>\n",
       "      <td>I</td>\n",
       "      <td>Diagnostic Radiology</td>\n",
       "      <td>F</td>\n",
       "      <td>73502</td>\n",
       "      <td>X-ray of hip with pelvis, 2-3 views</td>\n",
       "      <td>39</td>\n",
       "      <td>11.19</td>\n",
       "      <td>X-ray exam hip uni 2-3 views</td>\n",
       "      <td>5521.0</td>\n",
       "    </tr>\n",
       "    <tr>\n",
       "      <td>4902361</td>\n",
       "      <td>1003002809</td>\n",
       "      <td>I</td>\n",
       "      <td>Diagnostic Radiology</td>\n",
       "      <td>O</td>\n",
       "      <td>73502</td>\n",
       "      <td>X-ray of hip with pelvis, 2-3 views</td>\n",
       "      <td>89</td>\n",
       "      <td>47.39</td>\n",
       "      <td>X-ray exam hip uni 2-3 views</td>\n",
       "      <td>5521.0</td>\n",
       "    </tr>\n",
       "    <tr>\n",
       "      <td>4902362</td>\n",
       "      <td>1003006636</td>\n",
       "      <td>I</td>\n",
       "      <td>Diagnostic Radiology</td>\n",
       "      <td>F</td>\n",
       "      <td>73502</td>\n",
       "      <td>X-ray of hip with pelvis, 2-3 views</td>\n",
       "      <td>27</td>\n",
       "      <td>11.39</td>\n",
       "      <td>X-ray exam hip uni 2-3 views</td>\n",
       "      <td>5521.0</td>\n",
       "    </tr>\n",
       "    <tr>\n",
       "      <td>4902363</td>\n",
       "      <td>1003013129</td>\n",
       "      <td>I</td>\n",
       "      <td>Interventional Radiology</td>\n",
       "      <td>F</td>\n",
       "      <td>73502</td>\n",
       "      <td>X-ray of hip with pelvis, 2-3 views</td>\n",
       "      <td>30</td>\n",
       "      <td>12.04</td>\n",
       "      <td>X-ray exam hip uni 2-3 views</td>\n",
       "      <td>5521.0</td>\n",
       "    </tr>\n",
       "  </tbody>\n",
       "</table>\n",
       "</div>"
      ],
      "text/plain": [
       "                NPI Entity Type             Provider Type Place of Service  \\\n",
       "4902359  1003001785           I        Orthopedic Surgery                O   \n",
       "4902360  1003002148           I      Diagnostic Radiology                F   \n",
       "4902361  1003002809           I      Diagnostic Radiology                O   \n",
       "4902362  1003006636           I      Diagnostic Radiology                F   \n",
       "4902363  1003013129           I  Interventional Radiology                F   \n",
       "\n",
       "        HCPCS Code                           HCPCS Desc  \\\n",
       "4902359      73502  X-ray of hip with pelvis, 2-3 views   \n",
       "4902360      73502  X-ray of hip with pelvis, 2-3 views   \n",
       "4902361      73502  X-ray of hip with pelvis, 2-3 views   \n",
       "4902362      73502  X-ray of hip with pelvis, 2-3 views   \n",
       "4902363      73502  X-ray of hip with pelvis, 2-3 views   \n",
       "\n",
       "         No. Distinct Medicare Beneficiaries Per Day Services  \\\n",
       "4902359                                                 24      \n",
       "4902360                                                 39      \n",
       "4902361                                                 89      \n",
       "4902362                                                 27      \n",
       "4902363                                                 30      \n",
       "\n",
       "         Avg Medicare Amt Allowed                      APC Desc     APC  \n",
       "4902359                     26.91  X-ray exam hip uni 2-3 views  5521.0  \n",
       "4902360                     11.19  X-ray exam hip uni 2-3 views  5521.0  \n",
       "4902361                     47.39  X-ray exam hip uni 2-3 views  5521.0  \n",
       "4902362                     11.39  X-ray exam hip uni 2-3 views  5521.0  \n",
       "4902363                     12.04  X-ray exam hip uni 2-3 views  5521.0  "
      ]
     },
     "execution_count": 61,
     "metadata": {},
     "output_type": "execute_result"
    }
   ],
   "source": [
    "F5.head()"
   ]
  },
  {
   "cell_type": "code",
   "execution_count": 69,
   "metadata": {},
   "outputs": [
    {
     "data": {
      "text/plain": [
       "X-ray of hip with pelvis, 2-3 views                                                           39763\n",
       "X-ray of hip with pelvis, 1 view                                                               6817\n",
       "Replacement of thigh bone and hip joint prosthesis                                             6780\n",
       "X-ray of both hips with pelvis, 2 views                                                        3797\n",
       "X-ray of both hips with pelvis, 3-4 views                                                      3629\n",
       "X-ray of both hips with pelvis, minimum of 5 views                                             1929\n",
       "X-ray of hip with pelvis, minimum of 4 views                                                    713\n",
       "Radiological supervision and interpretation X-ray of hip joint                                  250\n",
       "Strapping of hip                                                                                 66\n",
       "Removal or shaving of hip joint socket cartilage using an endoscope                              12\n",
       "Incision of hip tendon, accessed through the skin                                                11\n",
       "Reconstruction of hip socket and repair of thigh bone using an endoscope                         11\n",
       "Incision of hip tendons, open procedure                                                          10\n",
       "Pelvis or hip joint procedure                                                                     8\n",
       "Drainage of abscess or blood accumulation in pelvis or hip joint                                  7\n",
       "Removal of bone cyst or growth of hip or pelvic bone                                              7\n",
       "Manipulation of hip joint under general anesthesia                                                6\n",
       "Removal and shaving of hip joint socket cartilage using an endoscope                              6\n",
       "Removal of hip joint lining using an endoscope                                                    5\n",
       "Biopsy of tissue of pelvis and hip                                                                4\n",
       "Incision of hip tendon, open procedure                                                            4\n",
       "Incision of hip joint with exploration or removal of loose or foreign body                        2\n",
       "Transfer of muscle to hip                                                                         2\n",
       "Reconstruction of hip socket using an endoscope                                                   2\n",
       "Removal (5 centimeters or greater) muscle growth of pelvis or hip                                 2\n",
       "Removal (less than 5 centimeters) muscle growth of pelvis or hip                                  2\n",
       "Removal of (less than 5 centimeters) tissue growth of pelvis or hip                               1\n",
       "Closed treatment of dislocated hip prosthesis under anesthesia                                    1\n",
       "Closed treatment of hip socket fractures                                                          1\n",
       "Application of hip spica cast on one leg                                                          1\n",
       "Removal of pressure sore at hip bone in preparation of muscle flap or skin graft                  1\n",
       "Removal (5 centimeters or greater) tissue growth of pelvis or hip                                 1\n",
       "Removal or scraping of bone cyst or growth of ankle bone with graft from hip or other bone        1\n",
       "Removal of foreign body in tissue or muscle of pelvis or hip                                      1\n",
       "Name: HCPCS Desc, dtype: int64"
      ]
     },
     "execution_count": 69,
     "metadata": {},
     "output_type": "execute_result"
    }
   ],
   "source": [
    "F5['HCPCS Desc'].value_counts()"
   ]
  },
  {
   "cell_type": "code",
   "execution_count": 64,
   "metadata": {},
   "outputs": [
    {
     "data": {
      "text/plain": [
       "5521.0    46580\n",
       "5522.0    10068\n",
       "5115.0     6780\n",
       "5572.0      250\n",
       "5733.0       66\n",
       "5114.0       35\n",
       "5113.0       35\n",
       "5112.0       18\n",
       "5111.0        9\n",
       "5073.0        6\n",
       "5072.0        4\n",
       "5102.0        1\n",
       "5054.0        1\n",
       "Name: APC, dtype: int64"
      ]
     },
     "execution_count": 64,
     "metadata": {},
     "output_type": "execute_result"
    }
   ],
   "source": [
    "F5['APC'].value_counts()"
   ]
  },
  {
   "cell_type": "code",
   "execution_count": 67,
   "metadata": {},
   "outputs": [
    {
     "data": {
      "text/plain": [
       "X-ray exam hip uni 2-3 views    39763\n",
       "X-ray exam hip uni 1 view        6817\n",
       "Total hip arthroplasty           6780\n",
       "X-ray exam hips bi 2 views       3797\n",
       "X-ray exam hips bi 3-4 views     3629\n",
       "X-ray exam hips bi 5/> views     1929\n",
       "X-ray exam hip uni 4/> views      713\n",
       "Contrast x-ray of hip             250\n",
       "Strapping of hip                   66\n",
       "Incision of hip tendon             15\n",
       "Hip arthr0 w/debridement           12\n",
       "Hip arthro w/femoroplasty          11\n",
       "Incision of hip tendons            10\n",
       "Pelvis/hip joint surgery            8\n",
       "Drainage of pelvis lesion           7\n",
       "Remove hip bone les deep            6\n",
       "Hip arthro w/labral repair          6\n",
       "Manipulation of hip joint           6\n",
       "Hip arthr0 w/synovectomy            5\n",
       "Biopsy of soft tissues              4\n",
       "Exc hip/pelv tum deep 5 cm/>        2\n",
       "Transfer of spinal muscle           2\n",
       "Hip arthro acetabuloplasty          2\n",
       "Exploration of hip joint            2\n",
       "Exc hip/pelv tum deep < 5 cm        2\n",
       "Resect hip/pelv tum < 5 cm          1\n",
       "Treat hip socket fracture           1\n",
       "Resect hip/pelv tum 5 cm/>          1\n",
       "Remove hip bone les super           1\n",
       "Remove/graft foot lesion            1\n",
       "Remove hip foreign body             1\n",
       "Remove thigh pressure sore          1\n",
       "Treat hip dislocation               1\n",
       "Application of hip cast             1\n",
       "Name: APC Desc, dtype: int64"
      ]
     },
     "execution_count": 67,
     "metadata": {},
     "output_type": "execute_result"
    }
   ],
   "source": [
    "F5['APC Desc'].value_counts()"
   ]
  },
  {
   "cell_type": "markdown",
   "metadata": {},
   "source": [
    "If we want hip replacements, I think our best bet is the following, which has 6780 occurrances in the dataset 1: HCPCS Code = 27130, APC Code = 5115, APC Desc on dataset 2 = Level 5 Musculoskeletal Procedure, APC Short Desc on crosswalk = Total Hip Arthroplasty."
   ]
  },
  {
   "cell_type": "code",
   "execution_count": 72,
   "metadata": {},
   "outputs": [
    {
     "data": {
      "text/plain": [
       "(6780, 10)"
      ]
     },
     "execution_count": 72,
     "metadata": {},
     "output_type": "execute_result"
    }
   ],
   "source": [
    "filter6 = d1_d3_nn['APC Desc'].isin(['Total hip arthroplasty'])\n",
    "\n",
    "F6 = d1_d3_nn[filter6]\n",
    "F6.shape"
   ]
  },
  {
   "cell_type": "code",
   "execution_count": 73,
   "metadata": {},
   "outputs": [
    {
     "data": {
      "text/html": [
       "<div>\n",
       "<style scoped>\n",
       "    .dataframe tbody tr th:only-of-type {\n",
       "        vertical-align: middle;\n",
       "    }\n",
       "\n",
       "    .dataframe tbody tr th {\n",
       "        vertical-align: top;\n",
       "    }\n",
       "\n",
       "    .dataframe thead th {\n",
       "        text-align: right;\n",
       "    }\n",
       "</style>\n",
       "<table border=\"1\" class=\"dataframe\">\n",
       "  <thead>\n",
       "    <tr style=\"text-align: right;\">\n",
       "      <th></th>\n",
       "      <th>NPI</th>\n",
       "      <th>Entity Type</th>\n",
       "      <th>Provider Type</th>\n",
       "      <th>Place of Service</th>\n",
       "      <th>HCPCS Code</th>\n",
       "      <th>HCPCS Desc</th>\n",
       "      <th>No. Distinct Medicare Beneficiaries Per Day Services</th>\n",
       "      <th>Avg Medicare Amt Allowed</th>\n",
       "      <th>APC Desc</th>\n",
       "      <th>APC</th>\n",
       "    </tr>\n",
       "  </thead>\n",
       "  <tbody>\n",
       "    <tr>\n",
       "      <td>6748341</td>\n",
       "      <td>1003006115</td>\n",
       "      <td>I</td>\n",
       "      <td>Physician Assistant</td>\n",
       "      <td>F</td>\n",
       "      <td>27130</td>\n",
       "      <td>Replacement of thigh bone and hip joint prosth...</td>\n",
       "      <td>14</td>\n",
       "      <td>230.510000</td>\n",
       "      <td>Total hip arthroplasty</td>\n",
       "      <td>5115.0</td>\n",
       "    </tr>\n",
       "    <tr>\n",
       "      <td>6748342</td>\n",
       "      <td>1003017682</td>\n",
       "      <td>I</td>\n",
       "      <td>Orthopedic Surgery</td>\n",
       "      <td>F</td>\n",
       "      <td>27130</td>\n",
       "      <td>Replacement of thigh bone and hip joint prosth...</td>\n",
       "      <td>22</td>\n",
       "      <td>1376.500000</td>\n",
       "      <td>Total hip arthroplasty</td>\n",
       "      <td>5115.0</td>\n",
       "    </tr>\n",
       "    <tr>\n",
       "      <td>6748343</td>\n",
       "      <td>1003018086</td>\n",
       "      <td>I</td>\n",
       "      <td>Orthopedic Surgery</td>\n",
       "      <td>F</td>\n",
       "      <td>27130</td>\n",
       "      <td>Replacement of thigh bone and hip joint prosth...</td>\n",
       "      <td>15</td>\n",
       "      <td>1339.390000</td>\n",
       "      <td>Total hip arthroplasty</td>\n",
       "      <td>5115.0</td>\n",
       "    </tr>\n",
       "    <tr>\n",
       "      <td>6748344</td>\n",
       "      <td>1003029034</td>\n",
       "      <td>I</td>\n",
       "      <td>Orthopedic Surgery</td>\n",
       "      <td>F</td>\n",
       "      <td>27130</td>\n",
       "      <td>Replacement of thigh bone and hip joint prosth...</td>\n",
       "      <td>35</td>\n",
       "      <td>1260.513714</td>\n",
       "      <td>Total hip arthroplasty</td>\n",
       "      <td>5115.0</td>\n",
       "    </tr>\n",
       "    <tr>\n",
       "      <td>6748345</td>\n",
       "      <td>1003044033</td>\n",
       "      <td>I</td>\n",
       "      <td>Orthopedic Surgery</td>\n",
       "      <td>F</td>\n",
       "      <td>27130</td>\n",
       "      <td>Replacement of thigh bone and hip joint prosth...</td>\n",
       "      <td>14</td>\n",
       "      <td>1283.370000</td>\n",
       "      <td>Total hip arthroplasty</td>\n",
       "      <td>5115.0</td>\n",
       "    </tr>\n",
       "  </tbody>\n",
       "</table>\n",
       "</div>"
      ],
      "text/plain": [
       "                NPI Entity Type        Provider Type Place of Service  \\\n",
       "6748341  1003006115           I  Physician Assistant                F   \n",
       "6748342  1003017682           I   Orthopedic Surgery                F   \n",
       "6748343  1003018086           I   Orthopedic Surgery                F   \n",
       "6748344  1003029034           I   Orthopedic Surgery                F   \n",
       "6748345  1003044033           I   Orthopedic Surgery                F   \n",
       "\n",
       "        HCPCS Code                                         HCPCS Desc  \\\n",
       "6748341      27130  Replacement of thigh bone and hip joint prosth...   \n",
       "6748342      27130  Replacement of thigh bone and hip joint prosth...   \n",
       "6748343      27130  Replacement of thigh bone and hip joint prosth...   \n",
       "6748344      27130  Replacement of thigh bone and hip joint prosth...   \n",
       "6748345      27130  Replacement of thigh bone and hip joint prosth...   \n",
       "\n",
       "         No. Distinct Medicare Beneficiaries Per Day Services  \\\n",
       "6748341                                                 14      \n",
       "6748342                                                 22      \n",
       "6748343                                                 15      \n",
       "6748344                                                 35      \n",
       "6748345                                                 14      \n",
       "\n",
       "         Avg Medicare Amt Allowed                APC Desc     APC  \n",
       "6748341                230.510000  Total hip arthroplasty  5115.0  \n",
       "6748342               1376.500000  Total hip arthroplasty  5115.0  \n",
       "6748343               1339.390000  Total hip arthroplasty  5115.0  \n",
       "6748344               1260.513714  Total hip arthroplasty  5115.0  \n",
       "6748345               1283.370000  Total hip arthroplasty  5115.0  "
      ]
     },
     "execution_count": 73,
     "metadata": {},
     "output_type": "execute_result"
    }
   ],
   "source": [
    "F6.head()"
   ]
  },
  {
   "cell_type": "markdown",
   "metadata": {},
   "source": [
    "Confirming that entity type is uniform.  Confirmed.  All are \"I\"."
   ]
  },
  {
   "cell_type": "code",
   "execution_count": 74,
   "metadata": {},
   "outputs": [
    {
     "data": {
      "text/plain": [
       "I    6780\n",
       "Name: Entity Type, dtype: int64"
      ]
     },
     "execution_count": 74,
     "metadata": {},
     "output_type": "execute_result"
    }
   ],
   "source": [
    "F6['Entity Type'].value_counts()"
   ]
  },
  {
   "cell_type": "code",
   "execution_count": null,
   "metadata": {},
   "outputs": [],
   "source": [
    "Confirming that Place of Service is uniform.  No.  8 occurrances are 'O'.  Need to remove those."
   ]
  },
  {
   "cell_type": "code",
   "execution_count": 75,
   "metadata": {},
   "outputs": [
    {
     "data": {
      "text/plain": [
       "F    6772\n",
       "O       8\n",
       "Name: Place of Service, dtype: int64"
      ]
     },
     "execution_count": 75,
     "metadata": {},
     "output_type": "execute_result"
    }
   ],
   "source": [
    "F6['Place of Service'].value_counts()"
   ]
  },
  {
   "cell_type": "code",
   "execution_count": 80,
   "metadata": {},
   "outputs": [
    {
     "data": {
      "text/plain": [
       "(6772, 10)"
      ]
     },
     "execution_count": 80,
     "metadata": {},
     "output_type": "execute_result"
    }
   ],
   "source": [
    "Filter7 = F6['Place of Service'].isin(['F'])\n",
    "\n",
    "F7 = F6[Filter7]\n",
    "F7.shape"
   ]
  },
  {
   "cell_type": "markdown",
   "metadata": {},
   "source": [
    "Trying for a third time to merge with dataframe 2.  This time is works for me."
   ]
  },
  {
   "cell_type": "code",
   "execution_count": 81,
   "metadata": {},
   "outputs": [
    {
     "data": {
      "text/plain": [
       "(8742652, 15)"
      ]
     },
     "execution_count": 81,
     "metadata": {},
     "output_type": "execute_result"
    }
   ],
   "source": [
    "F7_with_d2= pd.merge(F7, d2, on=('APC'), how='inner')\n",
    "F7_with_d2.shape"
   ]
  },
  {
   "cell_type": "code",
   "execution_count": 82,
   "metadata": {
    "scrolled": true
   },
   "outputs": [
    {
     "data": {
      "text/html": [
       "<div>\n",
       "<style scoped>\n",
       "    .dataframe tbody tr th:only-of-type {\n",
       "        vertical-align: middle;\n",
       "    }\n",
       "\n",
       "    .dataframe tbody tr th {\n",
       "        vertical-align: top;\n",
       "    }\n",
       "\n",
       "    .dataframe thead th {\n",
       "        text-align: right;\n",
       "    }\n",
       "</style>\n",
       "<table border=\"1\" class=\"dataframe\">\n",
       "  <thead>\n",
       "    <tr style=\"text-align: right;\">\n",
       "      <th></th>\n",
       "      <th>NPI</th>\n",
       "      <th>Entity Type</th>\n",
       "      <th>Provider Type</th>\n",
       "      <th>Place of Service</th>\n",
       "      <th>HCPCS Code</th>\n",
       "      <th>HCPCS Desc</th>\n",
       "      <th>No. Distinct Medicare Beneficiaries Per Day Services</th>\n",
       "      <th>Avg Medicare Amt Allowed</th>\n",
       "      <th>APC Desc</th>\n",
       "      <th>APC</th>\n",
       "      <th>Provider_ID</th>\n",
       "      <th>APC_Desc</th>\n",
       "      <th>Beneficiaries</th>\n",
       "      <th>CAPC_Services</th>\n",
       "      <th>Average_Medicare_Allowed_Amount</th>\n",
       "    </tr>\n",
       "  </thead>\n",
       "  <tbody>\n",
       "    <tr>\n",
       "      <td>0</td>\n",
       "      <td>1003006115</td>\n",
       "      <td>I</td>\n",
       "      <td>Physician Assistant</td>\n",
       "      <td>F</td>\n",
       "      <td>27130</td>\n",
       "      <td>Replacement of thigh bone and hip joint prosth...</td>\n",
       "      <td>14</td>\n",
       "      <td>230.51</td>\n",
       "      <td>Total hip arthroplasty</td>\n",
       "      <td>5115.0</td>\n",
       "      <td>10001</td>\n",
       "      <td>Level 5 Musculoskeletal Procedures</td>\n",
       "      <td>59.0</td>\n",
       "      <td>59</td>\n",
       "      <td>8078.53</td>\n",
       "    </tr>\n",
       "    <tr>\n",
       "      <td>1</td>\n",
       "      <td>1003006115</td>\n",
       "      <td>I</td>\n",
       "      <td>Physician Assistant</td>\n",
       "      <td>F</td>\n",
       "      <td>27130</td>\n",
       "      <td>Replacement of thigh bone and hip joint prosth...</td>\n",
       "      <td>14</td>\n",
       "      <td>230.51</td>\n",
       "      <td>Total hip arthroplasty</td>\n",
       "      <td>5115.0</td>\n",
       "      <td>10005</td>\n",
       "      <td>Level 5 Musculoskeletal Procedures</td>\n",
       "      <td>25.0</td>\n",
       "      <td>25</td>\n",
       "      <td>8321.96</td>\n",
       "    </tr>\n",
       "    <tr>\n",
       "      <td>2</td>\n",
       "      <td>1003006115</td>\n",
       "      <td>I</td>\n",
       "      <td>Physician Assistant</td>\n",
       "      <td>F</td>\n",
       "      <td>27130</td>\n",
       "      <td>Replacement of thigh bone and hip joint prosth...</td>\n",
       "      <td>14</td>\n",
       "      <td>230.51</td>\n",
       "      <td>Total hip arthroplasty</td>\n",
       "      <td>5115.0</td>\n",
       "      <td>10006</td>\n",
       "      <td>Level 5 Musculoskeletal Procedures</td>\n",
       "      <td>15.0</td>\n",
       "      <td>16</td>\n",
       "      <td>7624.83</td>\n",
       "    </tr>\n",
       "    <tr>\n",
       "      <td>3</td>\n",
       "      <td>1003006115</td>\n",
       "      <td>I</td>\n",
       "      <td>Physician Assistant</td>\n",
       "      <td>F</td>\n",
       "      <td>27130</td>\n",
       "      <td>Replacement of thigh bone and hip joint prosth...</td>\n",
       "      <td>14</td>\n",
       "      <td>230.51</td>\n",
       "      <td>Total hip arthroplasty</td>\n",
       "      <td>5115.0</td>\n",
       "      <td>10011</td>\n",
       "      <td>Level 5 Musculoskeletal Procedures</td>\n",
       "      <td>21.0</td>\n",
       "      <td>22</td>\n",
       "      <td>7993.85</td>\n",
       "    </tr>\n",
       "    <tr>\n",
       "      <td>4</td>\n",
       "      <td>1003006115</td>\n",
       "      <td>I</td>\n",
       "      <td>Physician Assistant</td>\n",
       "      <td>F</td>\n",
       "      <td>27130</td>\n",
       "      <td>Replacement of thigh bone and hip joint prosth...</td>\n",
       "      <td>14</td>\n",
       "      <td>230.51</td>\n",
       "      <td>Total hip arthroplasty</td>\n",
       "      <td>5115.0</td>\n",
       "      <td>10016</td>\n",
       "      <td>Level 5 Musculoskeletal Procedures</td>\n",
       "      <td>15.0</td>\n",
       "      <td>15</td>\n",
       "      <td>7845.45</td>\n",
       "    </tr>\n",
       "  </tbody>\n",
       "</table>\n",
       "</div>"
      ],
      "text/plain": [
       "          NPI Entity Type        Provider Type Place of Service HCPCS Code  \\\n",
       "0  1003006115           I  Physician Assistant                F      27130   \n",
       "1  1003006115           I  Physician Assistant                F      27130   \n",
       "2  1003006115           I  Physician Assistant                F      27130   \n",
       "3  1003006115           I  Physician Assistant                F      27130   \n",
       "4  1003006115           I  Physician Assistant                F      27130   \n",
       "\n",
       "                                          HCPCS Desc  \\\n",
       "0  Replacement of thigh bone and hip joint prosth...   \n",
       "1  Replacement of thigh bone and hip joint prosth...   \n",
       "2  Replacement of thigh bone and hip joint prosth...   \n",
       "3  Replacement of thigh bone and hip joint prosth...   \n",
       "4  Replacement of thigh bone and hip joint prosth...   \n",
       "\n",
       "   No. Distinct Medicare Beneficiaries Per Day Services  \\\n",
       "0                                                 14      \n",
       "1                                                 14      \n",
       "2                                                 14      \n",
       "3                                                 14      \n",
       "4                                                 14      \n",
       "\n",
       "   Avg Medicare Amt Allowed                APC Desc     APC  Provider_ID  \\\n",
       "0                    230.51  Total hip arthroplasty  5115.0        10001   \n",
       "1                    230.51  Total hip arthroplasty  5115.0        10005   \n",
       "2                    230.51  Total hip arthroplasty  5115.0        10006   \n",
       "3                    230.51  Total hip arthroplasty  5115.0        10011   \n",
       "4                    230.51  Total hip arthroplasty  5115.0        10016   \n",
       "\n",
       "                             APC_Desc  Beneficiaries  CAPC_Services  \\\n",
       "0  Level 5 Musculoskeletal Procedures           59.0             59   \n",
       "1  Level 5 Musculoskeletal Procedures           25.0             25   \n",
       "2  Level 5 Musculoskeletal Procedures           15.0             16   \n",
       "3  Level 5 Musculoskeletal Procedures           21.0             22   \n",
       "4  Level 5 Musculoskeletal Procedures           15.0             15   \n",
       "\n",
       "   Average_Medicare_Allowed_Amount  \n",
       "0                          8078.53  \n",
       "1                          8321.96  \n",
       "2                          7624.83  \n",
       "3                          7993.85  \n",
       "4                          7845.45  "
      ]
     },
     "execution_count": 82,
     "metadata": {},
     "output_type": "execute_result"
    }
   ],
   "source": [
    "F7_with_d2.head()"
   ]
  },
  {
   "cell_type": "code",
   "execution_count": 83,
   "metadata": {},
   "outputs": [
    {
     "data": {
      "text/plain": [
       "Index(['NPI', 'Entity Type', 'Provider Type', 'Place of Service', 'HCPCS Code',\n",
       "       'HCPCS Desc', 'No. Distinct Medicare Beneficiaries Per Day Services',\n",
       "       'Avg Medicare Amt Allowed', 'APC Desc', 'APC', 'Provider_ID',\n",
       "       'APC_Desc', 'Beneficiaries', 'CAPC_Services',\n",
       "       'Average_Medicare_Allowed_Amount'],\n",
       "      dtype='object')"
      ]
     },
     "execution_count": 83,
     "metadata": {},
     "output_type": "execute_result"
    }
   ],
   "source": [
    "F7_with_d2.columns"
   ]
  },
  {
   "cell_type": "code",
   "execution_count": null,
   "metadata": {},
   "outputs": [],
   "source": []
  }
 ],
 "metadata": {
  "kernelspec": {
   "display_name": "Python 3",
   "language": "python",
   "name": "python3"
  },
  "language_info": {
   "codemirror_mode": {
    "name": "ipython",
    "version": 3
   },
   "file_extension": ".py",
   "mimetype": "text/x-python",
   "name": "python",
   "nbconvert_exporter": "python",
   "pygments_lexer": "ipython3",
   "version": "3.7.4"
  }
 },
 "nbformat": 4,
 "nbformat_minor": 2
}
