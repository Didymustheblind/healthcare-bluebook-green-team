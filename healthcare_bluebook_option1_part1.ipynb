{
 "cells": [
  {
   "cell_type": "markdown",
   "metadata": {},
   "source": [
    "Question: How much are nearby Hospitals and Ambulatory Surgical Centers (surgery centers) paid for the same procedure / in the same area?"
   ]
  },
  {
   "cell_type": "code",
   "execution_count": 72,
   "metadata": {},
   "outputs": [],
   "source": [
    "import pandas as pd \n",
    "import numpy as np  \n",
    "import matplotlib.pyplot as plt  \n",
    "import seaborn as sns"
   ]
  },
  {
   "cell_type": "code",
   "execution_count": 73,
   "metadata": {},
   "outputs": [],
   "source": [
    "%matplotlib inline"
   ]
  },
  {
   "cell_type": "markdown",
   "metadata": {},
   "source": [
    "d1 = Medicare Provider Utilization and Payment Data: Physician and Other Supplier PUF CY2017"
   ]
  },
  {
   "cell_type": "code",
   "execution_count": 74,
   "metadata": {},
   "outputs": [],
   "source": [
    "#pd.read_csv(\n",
    "      #  'c:/users/erinm/Documents/healthcare-bluebook-green-team/data/Medicare_Provider_Utilization_and_Payment_Data__Physician_and_Other_Supplier_PUF_CY2017.tsv', sep='\\t').dtypes\n",
    "#d1.shape"
   ]
  },
  {
   "cell_type": "markdown",
   "metadata": {},
   "source": [
    "Note: for now, I only read in National Provider Identifer (and not all the NPI subcolumns, like name, address, etc., since I figured those could be brought in later if we are interested.)"
   ]
  },
  {
   "cell_type": "code",
   "execution_count": 75,
   "metadata": {},
   "outputs": [
    {
     "data": {
      "text/plain": [
       "(9847443, 8)"
      ]
     },
     "execution_count": 75,
     "metadata": {},
     "output_type": "execute_result"
    }
   ],
   "source": [
    "d1=pd.read_csv(\n",
    "        'c:/users/erinm/Documents/healthcare-bluebook-green-team/data/Medicare_Provider_Utilization_and_Payment_Data__Physician_and_Other_Supplier_PUF_CY2017.tsv', \n",
    "        sep='\\t',\n",
    "        usecols=['National Provider Identifier', 'Entity Type of the Provider', 'Provider Type', 'Place of Service', 'HCPCS Code', 'HCPCS Description', 'Number of Distinct Medicare Beneficiary/Per Day Services', 'Average Medicare Allowed Amount']\n",
    ")\n",
    "d1.shape"
   ]
  },
  {
   "cell_type": "code",
   "execution_count": 76,
   "metadata": {},
   "outputs": [
    {
     "data": {
      "text/html": [
       "<div>\n",
       "<style scoped>\n",
       "    .dataframe tbody tr th:only-of-type {\n",
       "        vertical-align: middle;\n",
       "    }\n",
       "\n",
       "    .dataframe tbody tr th {\n",
       "        vertical-align: top;\n",
       "    }\n",
       "\n",
       "    .dataframe thead th {\n",
       "        text-align: right;\n",
       "    }\n",
       "</style>\n",
       "<table border=\"1\" class=\"dataframe\">\n",
       "  <thead>\n",
       "    <tr style=\"text-align: right;\">\n",
       "      <th></th>\n",
       "      <th>National Provider Identifier</th>\n",
       "      <th>Entity Type of the Provider</th>\n",
       "      <th>Provider Type</th>\n",
       "      <th>Place of Service</th>\n",
       "      <th>HCPCS Code</th>\n",
       "      <th>HCPCS Description</th>\n",
       "      <th>Number of Distinct Medicare Beneficiary/Per Day Services</th>\n",
       "      <th>Average Medicare Allowed Amount</th>\n",
       "    </tr>\n",
       "  </thead>\n",
       "  <tbody>\n",
       "    <tr>\n",
       "      <td>0</td>\n",
       "      <td>1003000126</td>\n",
       "      <td>I</td>\n",
       "      <td>Internal Medicine</td>\n",
       "      <td>F</td>\n",
       "      <td>99217</td>\n",
       "      <td>Hospital observation care discharge</td>\n",
       "      <td>100</td>\n",
       "      <td>73.398800</td>\n",
       "    </tr>\n",
       "    <tr>\n",
       "      <td>1</td>\n",
       "      <td>1003000126</td>\n",
       "      <td>I</td>\n",
       "      <td>Internal Medicine</td>\n",
       "      <td>F</td>\n",
       "      <td>99218</td>\n",
       "      <td>Hospital observation care typically 30 minutes</td>\n",
       "      <td>26</td>\n",
       "      <td>100.080000</td>\n",
       "    </tr>\n",
       "    <tr>\n",
       "      <td>2</td>\n",
       "      <td>1003000126</td>\n",
       "      <td>I</td>\n",
       "      <td>Internal Medicine</td>\n",
       "      <td>F</td>\n",
       "      <td>99219</td>\n",
       "      <td>Hospital observation care typically 50 minutes</td>\n",
       "      <td>52</td>\n",
       "      <td>136.380000</td>\n",
       "    </tr>\n",
       "    <tr>\n",
       "      <td>3</td>\n",
       "      <td>1003000126</td>\n",
       "      <td>I</td>\n",
       "      <td>Internal Medicine</td>\n",
       "      <td>F</td>\n",
       "      <td>99220</td>\n",
       "      <td>Hospital observation care typically 70 minutes...</td>\n",
       "      <td>59</td>\n",
       "      <td>190.363729</td>\n",
       "    </tr>\n",
       "    <tr>\n",
       "      <td>4</td>\n",
       "      <td>1003000126</td>\n",
       "      <td>I</td>\n",
       "      <td>Internal Medicine</td>\n",
       "      <td>F</td>\n",
       "      <td>99221</td>\n",
       "      <td>Initial hospital inpatient care, typically 30 ...</td>\n",
       "      <td>16</td>\n",
       "      <td>101.680000</td>\n",
       "    </tr>\n",
       "  </tbody>\n",
       "</table>\n",
       "</div>"
      ],
      "text/plain": [
       "   National Provider Identifier Entity Type of the Provider  \\\n",
       "0                    1003000126                           I   \n",
       "1                    1003000126                           I   \n",
       "2                    1003000126                           I   \n",
       "3                    1003000126                           I   \n",
       "4                    1003000126                           I   \n",
       "\n",
       "       Provider Type Place of Service HCPCS Code  \\\n",
       "0  Internal Medicine                F      99217   \n",
       "1  Internal Medicine                F      99218   \n",
       "2  Internal Medicine                F      99219   \n",
       "3  Internal Medicine                F      99220   \n",
       "4  Internal Medicine                F      99221   \n",
       "\n",
       "                                   HCPCS Description  \\\n",
       "0                Hospital observation care discharge   \n",
       "1     Hospital observation care typically 30 minutes   \n",
       "2     Hospital observation care typically 50 minutes   \n",
       "3  Hospital observation care typically 70 minutes...   \n",
       "4  Initial hospital inpatient care, typically 30 ...   \n",
       "\n",
       "   Number of Distinct Medicare Beneficiary/Per Day Services  \\\n",
       "0                                                100          \n",
       "1                                                 26          \n",
       "2                                                 52          \n",
       "3                                                 59          \n",
       "4                                                 16          \n",
       "\n",
       "   Average Medicare Allowed Amount  \n",
       "0                        73.398800  \n",
       "1                       100.080000  \n",
       "2                       136.380000  \n",
       "3                       190.363729  \n",
       "4                       101.680000  "
      ]
     },
     "execution_count": 76,
     "metadata": {},
     "output_type": "execute_result"
    }
   ],
   "source": [
    "d1.head()"
   ]
  },
  {
   "cell_type": "markdown",
   "metadata": {},
   "source": [
    "d2 = Provider Outpatient Hospital Charge Data by APC, CY2017"
   ]
  },
  {
   "cell_type": "code",
   "execution_count": 77,
   "metadata": {},
   "outputs": [
    {
     "data": {
      "text/plain": [
       "(61779, 6)"
      ]
     },
     "execution_count": 77,
     "metadata": {},
     "output_type": "execute_result"
    }
   ],
   "source": [
    "d2 = pd.read_csv(\n",
    "    'c:/users/erinm/Documents/healthcare-bluebook-green-team/data/Provider_Outpatient_Hospital_Charge_Data_by_APC__CY2017.tsv', \n",
    "    sep='\\t',\n",
    "    usecols=['Provider_ID','APC','APC_Desc', 'Beneficiaries', 'CAPC_Services','Average_Medicare_Allowed_Amount']\n",
    ")\n",
    "d2.shape"
   ]
  },
  {
   "cell_type": "code",
   "execution_count": 78,
   "metadata": {},
   "outputs": [
    {
     "data": {
      "text/html": [
       "<div>\n",
       "<style scoped>\n",
       "    .dataframe tbody tr th:only-of-type {\n",
       "        vertical-align: middle;\n",
       "    }\n",
       "\n",
       "    .dataframe tbody tr th {\n",
       "        vertical-align: top;\n",
       "    }\n",
       "\n",
       "    .dataframe thead th {\n",
       "        text-align: right;\n",
       "    }\n",
       "</style>\n",
       "<table border=\"1\" class=\"dataframe\">\n",
       "  <thead>\n",
       "    <tr style=\"text-align: right;\">\n",
       "      <th></th>\n",
       "      <th>Provider_ID</th>\n",
       "      <th>APC</th>\n",
       "      <th>APC_Desc</th>\n",
       "      <th>Beneficiaries</th>\n",
       "      <th>CAPC_Services</th>\n",
       "      <th>Average_Medicare_Allowed_Amount</th>\n",
       "    </tr>\n",
       "  </thead>\n",
       "  <tbody>\n",
       "    <tr>\n",
       "      <td>0</td>\n",
       "      <td>10001</td>\n",
       "      <td>5072</td>\n",
       "      <td>Level 2 Excision/ Biopsy/ Incision and Drainage</td>\n",
       "      <td>249.0</td>\n",
       "      <td>259</td>\n",
       "      <td>1038.45</td>\n",
       "    </tr>\n",
       "    <tr>\n",
       "      <td>1</td>\n",
       "      <td>10001</td>\n",
       "      <td>5073</td>\n",
       "      <td>Level 3 Excision/ Biopsy/ Incision and Drainage</td>\n",
       "      <td>52.0</td>\n",
       "      <td>53</td>\n",
       "      <td>1792.60</td>\n",
       "    </tr>\n",
       "    <tr>\n",
       "      <td>2</td>\n",
       "      <td>10001</td>\n",
       "      <td>5091</td>\n",
       "      <td>Level 1 Breast/Lymphatic Surgery and Related P...</td>\n",
       "      <td>26.0</td>\n",
       "      <td>27</td>\n",
       "      <td>2113.58</td>\n",
       "    </tr>\n",
       "    <tr>\n",
       "      <td>3</td>\n",
       "      <td>10001</td>\n",
       "      <td>5092</td>\n",
       "      <td>Level 2 Breast/Lymphatic Surgery and Related P...</td>\n",
       "      <td>23.0</td>\n",
       "      <td>23</td>\n",
       "      <td>3737.14</td>\n",
       "    </tr>\n",
       "    <tr>\n",
       "      <td>4</td>\n",
       "      <td>10001</td>\n",
       "      <td>5112</td>\n",
       "      <td>Level 2 Musculoskeletal Procedures</td>\n",
       "      <td>17.0</td>\n",
       "      <td>17</td>\n",
       "      <td>1029.46</td>\n",
       "    </tr>\n",
       "  </tbody>\n",
       "</table>\n",
       "</div>"
      ],
      "text/plain": [
       "   Provider_ID   APC                                           APC_Desc  \\\n",
       "0        10001  5072    Level 2 Excision/ Biopsy/ Incision and Drainage   \n",
       "1        10001  5073    Level 3 Excision/ Biopsy/ Incision and Drainage   \n",
       "2        10001  5091  Level 1 Breast/Lymphatic Surgery and Related P...   \n",
       "3        10001  5092  Level 2 Breast/Lymphatic Surgery and Related P...   \n",
       "4        10001  5112                 Level 2 Musculoskeletal Procedures   \n",
       "\n",
       "   Beneficiaries  CAPC_Services  Average_Medicare_Allowed_Amount  \n",
       "0          249.0            259                          1038.45  \n",
       "1           52.0             53                          1792.60  \n",
       "2           26.0             27                          2113.58  \n",
       "3           23.0             23                          3737.14  \n",
       "4           17.0             17                          1029.46  "
      ]
     },
     "execution_count": 78,
     "metadata": {},
     "output_type": "execute_result"
    }
   ],
   "source": [
    "d2.head()"
   ]
  },
  {
   "cell_type": "code",
   "execution_count": 79,
   "metadata": {},
   "outputs": [
    {
     "data": {
      "text/plain": [
       "Index(['Provider_ID', 'APC', 'APC_Desc', 'Beneficiaries', 'CAPC_Services',\n",
       "       'Average_Medicare_Allowed_Amount'],\n",
       "      dtype='object')"
      ]
     },
     "execution_count": 79,
     "metadata": {},
     "output_type": "execute_result"
    }
   ],
   "source": [
    "d2.columns"
   ]
  },
  {
   "cell_type": "markdown",
   "metadata": {},
   "source": [
    "d3 = APC to CPT/HCPCS crosswalk (Jan 2020 Addendum B)"
   ]
  },
  {
   "cell_type": "code",
   "execution_count": 80,
   "metadata": {},
   "outputs": [
    {
     "data": {
      "text/html": [
       "<div>\n",
       "<style scoped>\n",
       "    .dataframe tbody tr th:only-of-type {\n",
       "        vertical-align: middle;\n",
       "    }\n",
       "\n",
       "    .dataframe tbody tr th {\n",
       "        vertical-align: top;\n",
       "    }\n",
       "\n",
       "    .dataframe thead th {\n",
       "        text-align: right;\n",
       "    }\n",
       "</style>\n",
       "<table border=\"1\" class=\"dataframe\">\n",
       "  <thead>\n",
       "    <tr style=\"text-align: right;\">\n",
       "      <th></th>\n",
       "      <th>HCPCS Code</th>\n",
       "      <th>Short Descriptor</th>\n",
       "      <th>APC</th>\n",
       "    </tr>\n",
       "  </thead>\n",
       "  <tbody>\n",
       "    <tr>\n",
       "      <td>0</td>\n",
       "      <td>00100</td>\n",
       "      <td>Anesth salivary gland</td>\n",
       "      <td>NaN</td>\n",
       "    </tr>\n",
       "    <tr>\n",
       "      <td>1</td>\n",
       "      <td>00102</td>\n",
       "      <td>Anesth repair of cleft lip</td>\n",
       "      <td>NaN</td>\n",
       "    </tr>\n",
       "    <tr>\n",
       "      <td>2</td>\n",
       "      <td>00103</td>\n",
       "      <td>Anesth blepharoplasty</td>\n",
       "      <td>NaN</td>\n",
       "    </tr>\n",
       "    <tr>\n",
       "      <td>3</td>\n",
       "      <td>00104</td>\n",
       "      <td>Anesth electroshock</td>\n",
       "      <td>NaN</td>\n",
       "    </tr>\n",
       "    <tr>\n",
       "      <td>4</td>\n",
       "      <td>00120</td>\n",
       "      <td>Anesth ear surgery</td>\n",
       "      <td>NaN</td>\n",
       "    </tr>\n",
       "  </tbody>\n",
       "</table>\n",
       "</div>"
      ],
      "text/plain": [
       "  HCPCS Code            Short Descriptor  APC \n",
       "0      00100       Anesth salivary gland   NaN\n",
       "1      00102  Anesth repair of cleft lip   NaN\n",
       "2      00103       Anesth blepharoplasty   NaN\n",
       "3      00104         Anesth electroshock   NaN\n",
       "4      00120          Anesth ear surgery   NaN"
      ]
     },
     "execution_count": 80,
     "metadata": {},
     "output_type": "execute_result"
    }
   ],
   "source": [
    "d3 = pd.read_excel('c:/users/erinm/Documents/healthcare-bluebook-green-team/data/2020_january_web_addendum_b.12312019.xlsx',usecols=[0,1,3], skiprows=2)\n",
    "d3.head()"
   ]
  },
  {
   "cell_type": "markdown",
   "metadata": {},
   "source": [
    "d4 = Zip to CBSA crosswalk (Q1 2020)"
   ]
  },
  {
   "cell_type": "code",
   "execution_count": 81,
   "metadata": {},
   "outputs": [
    {
     "data": {
      "text/html": [
       "<div>\n",
       "<style scoped>\n",
       "    .dataframe tbody tr th:only-of-type {\n",
       "        vertical-align: middle;\n",
       "    }\n",
       "\n",
       "    .dataframe tbody tr th {\n",
       "        vertical-align: top;\n",
       "    }\n",
       "\n",
       "    .dataframe thead th {\n",
       "        text-align: right;\n",
       "    }\n",
       "</style>\n",
       "<table border=\"1\" class=\"dataframe\">\n",
       "  <thead>\n",
       "    <tr style=\"text-align: right;\">\n",
       "      <th></th>\n",
       "      <th>ZIP</th>\n",
       "      <th>CBSA</th>\n",
       "      <th>RES_RATIO</th>\n",
       "      <th>BUS_RATIO</th>\n",
       "      <th>OTH_RATIO</th>\n",
       "      <th>TOT_RATIO</th>\n",
       "    </tr>\n",
       "  </thead>\n",
       "  <tbody>\n",
       "    <tr>\n",
       "      <td>0</td>\n",
       "      <td>00501</td>\n",
       "      <td>35620</td>\n",
       "      <td>0.0</td>\n",
       "      <td>1.0</td>\n",
       "      <td>0.0</td>\n",
       "      <td>1.0</td>\n",
       "    </tr>\n",
       "    <tr>\n",
       "      <td>1</td>\n",
       "      <td>00601</td>\n",
       "      <td>38660</td>\n",
       "      <td>1.0</td>\n",
       "      <td>1.0</td>\n",
       "      <td>1.0</td>\n",
       "      <td>1.0</td>\n",
       "    </tr>\n",
       "    <tr>\n",
       "      <td>2</td>\n",
       "      <td>00602</td>\n",
       "      <td>10380</td>\n",
       "      <td>1.0</td>\n",
       "      <td>1.0</td>\n",
       "      <td>1.0</td>\n",
       "      <td>1.0</td>\n",
       "    </tr>\n",
       "    <tr>\n",
       "      <td>3</td>\n",
       "      <td>00603</td>\n",
       "      <td>10380</td>\n",
       "      <td>1.0</td>\n",
       "      <td>1.0</td>\n",
       "      <td>1.0</td>\n",
       "      <td>1.0</td>\n",
       "    </tr>\n",
       "    <tr>\n",
       "      <td>4</td>\n",
       "      <td>00604</td>\n",
       "      <td>10380</td>\n",
       "      <td>1.0</td>\n",
       "      <td>1.0</td>\n",
       "      <td>1.0</td>\n",
       "      <td>1.0</td>\n",
       "    </tr>\n",
       "  </tbody>\n",
       "</table>\n",
       "</div>"
      ],
      "text/plain": [
       "     ZIP   CBSA  RES_RATIO  BUS_RATIO  OTH_RATIO  TOT_RATIO\n",
       "0  00501  35620        0.0        1.0        0.0        1.0\n",
       "1  00601  38660        1.0        1.0        1.0        1.0\n",
       "2  00602  10380        1.0        1.0        1.0        1.0\n",
       "3  00603  10380        1.0        1.0        1.0        1.0\n",
       "4  00604  10380        1.0        1.0        1.0        1.0"
      ]
     },
     "execution_count": 81,
     "metadata": {},
     "output_type": "execute_result"
    }
   ],
   "source": [
    "d4 = pd.read_excel('c:/users/erinm/documents/healthcare-bluebook-green-team/data/ZIP_CBSA_032020.xlsx', dtype={'ZIP':'str'})\n",
    "d4.head()"
   ]
  },
  {
   "cell_type": "markdown",
   "metadata": {},
   "source": [
    "Inner join provider payment data (d1) with APC to HCPCS crosswalk (d3) on HCPCS Code."
   ]
  },
  {
   "cell_type": "code",
   "execution_count": 82,
   "metadata": {},
   "outputs": [
    {
     "data": {
      "text/plain": [
       "(9502517, 10)"
      ]
     },
     "execution_count": 82,
     "metadata": {},
     "output_type": "execute_result"
    }
   ],
   "source": [
    "d1_d3 = pd.merge(d1, d3, on=('HCPCS Code'), how='inner')\n",
    "d1_d3.shape"
   ]
  },
  {
   "cell_type": "code",
   "execution_count": 83,
   "metadata": {},
   "outputs": [
    {
     "data": {
      "text/html": [
       "<div>\n",
       "<style scoped>\n",
       "    .dataframe tbody tr th:only-of-type {\n",
       "        vertical-align: middle;\n",
       "    }\n",
       "\n",
       "    .dataframe tbody tr th {\n",
       "        vertical-align: top;\n",
       "    }\n",
       "\n",
       "    .dataframe thead th {\n",
       "        text-align: right;\n",
       "    }\n",
       "</style>\n",
       "<table border=\"1\" class=\"dataframe\">\n",
       "  <thead>\n",
       "    <tr style=\"text-align: right;\">\n",
       "      <th></th>\n",
       "      <th>National Provider Identifier</th>\n",
       "      <th>Entity Type of the Provider</th>\n",
       "      <th>Provider Type</th>\n",
       "      <th>Place of Service</th>\n",
       "      <th>HCPCS Code</th>\n",
       "      <th>HCPCS Description</th>\n",
       "      <th>Number of Distinct Medicare Beneficiary/Per Day Services</th>\n",
       "      <th>Average Medicare Allowed Amount</th>\n",
       "      <th>Short Descriptor</th>\n",
       "      <th>APC</th>\n",
       "    </tr>\n",
       "  </thead>\n",
       "  <tbody>\n",
       "    <tr>\n",
       "      <td>0</td>\n",
       "      <td>1003000126</td>\n",
       "      <td>I</td>\n",
       "      <td>Internal Medicine</td>\n",
       "      <td>F</td>\n",
       "      <td>99217</td>\n",
       "      <td>Hospital observation care discharge</td>\n",
       "      <td>100</td>\n",
       "      <td>73.3988</td>\n",
       "      <td>Observation care discharge</td>\n",
       "      <td>NaN</td>\n",
       "    </tr>\n",
       "    <tr>\n",
       "      <td>1</td>\n",
       "      <td>1003000407</td>\n",
       "      <td>I</td>\n",
       "      <td>Family Practice</td>\n",
       "      <td>F</td>\n",
       "      <td>99217</td>\n",
       "      <td>Hospital observation care discharge</td>\n",
       "      <td>15</td>\n",
       "      <td>72.3000</td>\n",
       "      <td>Observation care discharge</td>\n",
       "      <td>NaN</td>\n",
       "    </tr>\n",
       "    <tr>\n",
       "      <td>2</td>\n",
       "      <td>1003006586</td>\n",
       "      <td>I</td>\n",
       "      <td>Internal Medicine</td>\n",
       "      <td>F</td>\n",
       "      <td>99217</td>\n",
       "      <td>Hospital observation care discharge</td>\n",
       "      <td>53</td>\n",
       "      <td>82.0900</td>\n",
       "      <td>Observation care discharge</td>\n",
       "      <td>NaN</td>\n",
       "    </tr>\n",
       "    <tr>\n",
       "      <td>3</td>\n",
       "      <td>1003007824</td>\n",
       "      <td>I</td>\n",
       "      <td>Internal Medicine</td>\n",
       "      <td>F</td>\n",
       "      <td>99217</td>\n",
       "      <td>Hospital observation care discharge</td>\n",
       "      <td>12</td>\n",
       "      <td>79.6300</td>\n",
       "      <td>Observation care discharge</td>\n",
       "      <td>NaN</td>\n",
       "    </tr>\n",
       "    <tr>\n",
       "      <td>4</td>\n",
       "      <td>1003008590</td>\n",
       "      <td>I</td>\n",
       "      <td>Internal Medicine</td>\n",
       "      <td>F</td>\n",
       "      <td>99217</td>\n",
       "      <td>Hospital observation care discharge</td>\n",
       "      <td>28</td>\n",
       "      <td>75.7300</td>\n",
       "      <td>Observation care discharge</td>\n",
       "      <td>NaN</td>\n",
       "    </tr>\n",
       "  </tbody>\n",
       "</table>\n",
       "</div>"
      ],
      "text/plain": [
       "   National Provider Identifier Entity Type of the Provider  \\\n",
       "0                    1003000126                           I   \n",
       "1                    1003000407                           I   \n",
       "2                    1003006586                           I   \n",
       "3                    1003007824                           I   \n",
       "4                    1003008590                           I   \n",
       "\n",
       "       Provider Type Place of Service HCPCS Code  \\\n",
       "0  Internal Medicine                F      99217   \n",
       "1    Family Practice                F      99217   \n",
       "2  Internal Medicine                F      99217   \n",
       "3  Internal Medicine                F      99217   \n",
       "4  Internal Medicine                F      99217   \n",
       "\n",
       "                     HCPCS Description  \\\n",
       "0  Hospital observation care discharge   \n",
       "1  Hospital observation care discharge   \n",
       "2  Hospital observation care discharge   \n",
       "3  Hospital observation care discharge   \n",
       "4  Hospital observation care discharge   \n",
       "\n",
       "   Number of Distinct Medicare Beneficiary/Per Day Services  \\\n",
       "0                                                100          \n",
       "1                                                 15          \n",
       "2                                                 53          \n",
       "3                                                 12          \n",
       "4                                                 28          \n",
       "\n",
       "   Average Medicare Allowed Amount            Short Descriptor  APC   \n",
       "0                          73.3988  Observation care discharge   NaN  \n",
       "1                          72.3000  Observation care discharge   NaN  \n",
       "2                          82.0900  Observation care discharge   NaN  \n",
       "3                          79.6300  Observation care discharge   NaN  \n",
       "4                          75.7300  Observation care discharge   NaN  "
      ]
     },
     "execution_count": 83,
     "metadata": {},
     "output_type": "execute_result"
    }
   ],
   "source": [
    "d1_d3.head()"
   ]
  },
  {
   "cell_type": "markdown",
   "metadata": {},
   "source": [
    "Rename columns."
   ]
  },
  {
   "cell_type": "code",
   "execution_count": 84,
   "metadata": {},
   "outputs": [
    {
     "data": {
      "text/plain": [
       "Index(['National Provider Identifier', 'Entity Type of the Provider',\n",
       "       'Provider Type', 'Place of Service', 'HCPCS Code', 'HCPCS Description',\n",
       "       'Number of Distinct Medicare Beneficiary/Per Day Services',\n",
       "       'Average Medicare Allowed Amount', 'Short Descriptor', 'APC '],\n",
       "      dtype='object')"
      ]
     },
     "execution_count": 84,
     "metadata": {},
     "output_type": "execute_result"
    }
   ],
   "source": [
    "d1_d3.columns"
   ]
  },
  {
   "cell_type": "code",
   "execution_count": 85,
   "metadata": {},
   "outputs": [
    {
     "data": {
      "text/plain": [
       "Index(['NPI', 'Entity Type', 'Provider Type', 'Place of Service', 'HCPCS Code',\n",
       "       'HCPCS Desc', 'No. Distinct Medicare Beneficiaries Per Day Services',\n",
       "       'Avg Medicare Amt Allowed', 'APC Desc', 'APC'],\n",
       "      dtype='object')"
      ]
     },
     "execution_count": 85,
     "metadata": {},
     "output_type": "execute_result"
    }
   ],
   "source": [
    "d1_d3.columns=['NPI', \n",
    "              'Entity Type', \n",
    "              'Provider Type', \n",
    "              'Place of Service', \n",
    "              'HCPCS Code', \n",
    "              'HCPCS Desc', \n",
    "              'No. Distinct Medicare Beneficiaries Per Day Services', \n",
    "              'Avg Medicare Amt Allowed', \n",
    "              'APC Desc', \n",
    "              'APC']\n",
    "d1_d3.columns"
   ]
  },
  {
   "cell_type": "markdown",
   "metadata": {},
   "source": [
    "Remove entries with nans in APC Code field."
   ]
  },
  {
   "cell_type": "code",
   "execution_count": 86,
   "metadata": {},
   "outputs": [
    {
     "data": {
      "text/plain": [
       "(4016376, 10)"
      ]
     },
     "execution_count": 86,
     "metadata": {},
     "output_type": "execute_result"
    }
   ],
   "source": [
    "d1_d3_nn=d1_d3[d1_d3['APC'].notnull()]\n",
    "d1_d3_nn.shape"
   ]
  },
  {
   "cell_type": "markdown",
   "metadata": {},
   "source": [
    "***Note: Tried to do the following but got memory error, so am moving join to after filters imposed.  \n",
    "\n",
    "Full join d1_d3_nn (provider payment data (d1) with APC to HCPCS crosswalk (d3) on HCPCS Code) with Outpatient Charge data (d2) on APC."
   ]
  },
  {
   "cell_type": "code",
   "execution_count": 87,
   "metadata": {},
   "outputs": [
    {
     "data": {
      "text/plain": [
       "NPI                                                       int64\n",
       "Entity Type                                              object\n",
       "Provider Type                                            object\n",
       "Place of Service                                         object\n",
       "HCPCS Code                                               object\n",
       "HCPCS Desc                                               object\n",
       "No. Distinct Medicare Beneficiaries Per Day Services      int64\n",
       "Avg Medicare Amt Allowed                                float64\n",
       "APC Desc                                                 object\n",
       "APC                                                     float64\n",
       "dtype: object"
      ]
     },
     "execution_count": 87,
     "metadata": {},
     "output_type": "execute_result"
    }
   ],
   "source": [
    "d1_d3_nn.dtypes"
   ]
  },
  {
   "cell_type": "markdown",
   "metadata": {},
   "source": [
    "From PowerPoint: \n",
    "\n",
    "\"Physician/Other Supplier Data Filters - pulling ASCs\n",
    "entity type = 'O'\n",
    "Provider Type = Ambulatory Surgical Center\n",
    "CPT = 43249\n",
    "Hospital Outpatient\n",
    "APC = 5302\n",
    "Knowing what they get paid for an APC, we can tell what they get paid for a procedure.\n",
    "Compare results within a CBSA (what is a)\"\n",
    "\n",
    "Create filters:\n",
    "filter1 = entity type (I or O)\n",
    "filter2 = HCPCS Code\n",
    "filter3 = provider type"
   ]
  },
  {
   "cell_type": "code",
   "execution_count": 88,
   "metadata": {},
   "outputs": [
    {
     "data": {
      "text/plain": [
       "(616, 10)"
      ]
     },
     "execution_count": 88,
     "metadata": {},
     "output_type": "execute_result"
    }
   ],
   "source": [
    "filter1 = d1_d3_nn['Entity Type'].isin(['O'])\n",
    "filter2 = d1_d3_nn['HCPCS Code'].isin(['43249'])\n",
    "filter3 = d1_d3_nn['Provider Type'].isin(['Ambulatory Surgical Center'])\n",
    "\n",
    "F1_F2_F3 = d1_d3_nn[filter1 & filter2 & filter3]\n",
    "F1_F2_F3.shape"
   ]
  },
  {
   "cell_type": "code",
   "execution_count": 89,
   "metadata": {},
   "outputs": [
    {
     "data": {
      "text/html": [
       "<div>\n",
       "<style scoped>\n",
       "    .dataframe tbody tr th:only-of-type {\n",
       "        vertical-align: middle;\n",
       "    }\n",
       "\n",
       "    .dataframe tbody tr th {\n",
       "        vertical-align: top;\n",
       "    }\n",
       "\n",
       "    .dataframe thead th {\n",
       "        text-align: right;\n",
       "    }\n",
       "</style>\n",
       "<table border=\"1\" class=\"dataframe\">\n",
       "  <thead>\n",
       "    <tr style=\"text-align: right;\">\n",
       "      <th></th>\n",
       "      <th>NPI</th>\n",
       "      <th>Entity Type</th>\n",
       "      <th>Provider Type</th>\n",
       "      <th>Place of Service</th>\n",
       "      <th>HCPCS Code</th>\n",
       "      <th>HCPCS Desc</th>\n",
       "      <th>No. Distinct Medicare Beneficiaries Per Day Services</th>\n",
       "      <th>Avg Medicare Amt Allowed</th>\n",
       "      <th>APC Desc</th>\n",
       "      <th>APC</th>\n",
       "    </tr>\n",
       "  </thead>\n",
       "  <tbody>\n",
       "    <tr>\n",
       "      <td>7529288</td>\n",
       "      <td>1003015843</td>\n",
       "      <td>O</td>\n",
       "      <td>Ambulatory Surgical Center</td>\n",
       "      <td>F</td>\n",
       "      <td>43249</td>\n",
       "      <td>Balloon dilation of esophagus using an endoscope</td>\n",
       "      <td>20</td>\n",
       "      <td>814.53450</td>\n",
       "      <td>Esoph egd dilation &lt;30 mm</td>\n",
       "      <td>5302.0</td>\n",
       "    </tr>\n",
       "    <tr>\n",
       "      <td>7529292</td>\n",
       "      <td>1003079187</td>\n",
       "      <td>O</td>\n",
       "      <td>Ambulatory Surgical Center</td>\n",
       "      <td>F</td>\n",
       "      <td>43249</td>\n",
       "      <td>Balloon dilation of esophagus using an endoscope</td>\n",
       "      <td>17</td>\n",
       "      <td>555.31000</td>\n",
       "      <td>Esoph egd dilation &lt;30 mm</td>\n",
       "      <td>5302.0</td>\n",
       "    </tr>\n",
       "    <tr>\n",
       "      <td>7529293</td>\n",
       "      <td>1003220187</td>\n",
       "      <td>O</td>\n",
       "      <td>Ambulatory Surgical Center</td>\n",
       "      <td>F</td>\n",
       "      <td>43249</td>\n",
       "      <td>Balloon dilation of esophagus using an endoscope</td>\n",
       "      <td>94</td>\n",
       "      <td>596.51000</td>\n",
       "      <td>Esoph egd dilation &lt;30 mm</td>\n",
       "      <td>5302.0</td>\n",
       "    </tr>\n",
       "    <tr>\n",
       "      <td>7529297</td>\n",
       "      <td>1003815242</td>\n",
       "      <td>O</td>\n",
       "      <td>Ambulatory Surgical Center</td>\n",
       "      <td>F</td>\n",
       "      <td>43249</td>\n",
       "      <td>Balloon dilation of esophagus using an endoscope</td>\n",
       "      <td>446</td>\n",
       "      <td>509.85778</td>\n",
       "      <td>Esoph egd dilation &lt;30 mm</td>\n",
       "      <td>5302.0</td>\n",
       "    </tr>\n",
       "    <tr>\n",
       "      <td>7529307</td>\n",
       "      <td>1003887225</td>\n",
       "      <td>O</td>\n",
       "      <td>Ambulatory Surgical Center</td>\n",
       "      <td>F</td>\n",
       "      <td>43249</td>\n",
       "      <td>Balloon dilation of esophagus using an endoscope</td>\n",
       "      <td>26</td>\n",
       "      <td>576.83000</td>\n",
       "      <td>Esoph egd dilation &lt;30 mm</td>\n",
       "      <td>5302.0</td>\n",
       "    </tr>\n",
       "  </tbody>\n",
       "</table>\n",
       "</div>"
      ],
      "text/plain": [
       "                NPI Entity Type               Provider Type Place of Service  \\\n",
       "7529288  1003015843           O  Ambulatory Surgical Center                F   \n",
       "7529292  1003079187           O  Ambulatory Surgical Center                F   \n",
       "7529293  1003220187           O  Ambulatory Surgical Center                F   \n",
       "7529297  1003815242           O  Ambulatory Surgical Center                F   \n",
       "7529307  1003887225           O  Ambulatory Surgical Center                F   \n",
       "\n",
       "        HCPCS Code                                        HCPCS Desc  \\\n",
       "7529288      43249  Balloon dilation of esophagus using an endoscope   \n",
       "7529292      43249  Balloon dilation of esophagus using an endoscope   \n",
       "7529293      43249  Balloon dilation of esophagus using an endoscope   \n",
       "7529297      43249  Balloon dilation of esophagus using an endoscope   \n",
       "7529307      43249  Balloon dilation of esophagus using an endoscope   \n",
       "\n",
       "         No. Distinct Medicare Beneficiaries Per Day Services  \\\n",
       "7529288                                                 20      \n",
       "7529292                                                 17      \n",
       "7529293                                                 94      \n",
       "7529297                                                446      \n",
       "7529307                                                 26      \n",
       "\n",
       "         Avg Medicare Amt Allowed                   APC Desc     APC  \n",
       "7529288                 814.53450  Esoph egd dilation <30 mm  5302.0  \n",
       "7529292                 555.31000  Esoph egd dilation <30 mm  5302.0  \n",
       "7529293                 596.51000  Esoph egd dilation <30 mm  5302.0  \n",
       "7529297                 509.85778  Esoph egd dilation <30 mm  5302.0  \n",
       "7529307                 576.83000  Esoph egd dilation <30 mm  5302.0  "
      ]
     },
     "execution_count": 89,
     "metadata": {},
     "output_type": "execute_result"
    }
   ],
   "source": [
    "F1_F2_F3.head()"
   ]
  },
  {
   "cell_type": "markdown",
   "metadata": {},
   "source": [
    "Confirming that Place of Service is uniform."
   ]
  },
  {
   "cell_type": "code",
   "execution_count": 90,
   "metadata": {},
   "outputs": [
    {
     "data": {
      "text/plain": [
       "F    616\n",
       "Name: Place of Service, dtype: int64"
      ]
     },
     "execution_count": 90,
     "metadata": {},
     "output_type": "execute_result"
    }
   ],
   "source": [
    "F1_F2_F3['Place of Service'].value_counts()"
   ]
  },
  {
   "cell_type": "markdown",
   "metadata": {},
   "source": [
    "***Note: again tried to merge with d2 but am getting memory error.  Tried to limit with nrows (like Taylor suggested with a read_csv) but this does not work with the merge function.  Need to troubleshoot."
   ]
  },
  {
   "cell_type": "code",
   "execution_count": 91,
   "metadata": {},
   "outputs": [],
   "source": [
    "#F1_F2_F3_with_d2= pd.merge(d1_d3_nn, d2, on=('APC'), how='inner')\n",
    "#F1_F2_F3_with_d2.shape"
   ]
  },
  {
   "cell_type": "markdown",
   "metadata": {},
   "source": [
    "Assign new filters to d1_d3_nn.  Filters relate to our choice to look at hip replacements.  Know that APC code is [5112, 5113, 5114, 5115, 5116], which are various levels of muskoskeletal procedures.  Look at HCPCS within those APCs to find hip replacement code."
   ]
  },
  {
   "cell_type": "code",
   "execution_count": 92,
   "metadata": {},
   "outputs": [
    {
     "data": {
      "text/plain": [
       "(60478, 10)"
      ]
     },
     "execution_count": 92,
     "metadata": {},
     "output_type": "execute_result"
    }
   ],
   "source": [
    "filter4 = d1_d3_nn['APC'].isin([5112, 5113, 5114, 5115, 5116])\n",
    "\n",
    "F4 = d1_d3_nn[filter4]\n",
    "F4.shape"
   ]
  },
  {
   "cell_type": "code",
   "execution_count": 93,
   "metadata": {},
   "outputs": [
    {
     "data": {
      "text/plain": [
       "27447    11213\n",
       "27130     6780\n",
       "63047     5039\n",
       "29827     3593\n",
       "26055     2678\n",
       "         ...  \n",
       "23473        1\n",
       "27696        1\n",
       "25565        1\n",
       "27823        1\n",
       "28106        1\n",
       "Name: HCPCS Code, Length: 390, dtype: int64"
      ]
     },
     "execution_count": 93,
     "metadata": {},
     "output_type": "execute_result"
    }
   ],
   "source": [
    "F4['HCPCS Code'].value_counts()"
   ]
  },
  {
   "cell_type": "code",
   "execution_count": 94,
   "metadata": {},
   "outputs": [
    {
     "data": {
      "text/plain": [
       "Repair of knee joint                                                              11807\n",
       "Replacement of thigh bone and hip joint prosthesis                                 6780\n",
       "Partial removal of middle spine bone with release of spinal cord and/or nerves     5047\n",
       "Repair of shoulder rotator cuff using an endoscope                                 3593\n",
       "Incision of tendon covering                                                        2678\n",
       "                                                                                  ...  \n",
       "Closed treatment of broken forearm bones with manipulation                            1\n",
       "Manipulation of elbow under anesthesia                                                1\n",
       "Incision of forearm and/or wrist bone                                                 1\n",
       "Removal or scraping of bone cyst or growth of heel bone                               1\n",
       "Diagnostic examination of the wrist using an endoscope                                1\n",
       "Name: HCPCS Desc, Length: 336, dtype: int64"
      ]
     },
     "execution_count": 94,
     "metadata": {},
     "output_type": "execute_result"
    }
   ],
   "source": [
    "F4['HCPCS Desc'].value_counts()"
   ]
  },
  {
   "cell_type": "code",
   "execution_count": 95,
   "metadata": {},
   "outputs": [
    {
     "data": {
      "text/plain": [
       "(63853, 10)"
      ]
     },
     "execution_count": 95,
     "metadata": {},
     "output_type": "execute_result"
    }
   ],
   "source": [
    "F5 = d1_d3_nn[d1_d3_nn['HCPCS Desc'].str.contains('hip')]\n",
    "\n",
    "F5.shape"
   ]
  },
  {
   "cell_type": "code",
   "execution_count": 96,
   "metadata": {},
   "outputs": [
    {
     "data": {
      "text/html": [
       "<div>\n",
       "<style scoped>\n",
       "    .dataframe tbody tr th:only-of-type {\n",
       "        vertical-align: middle;\n",
       "    }\n",
       "\n",
       "    .dataframe tbody tr th {\n",
       "        vertical-align: top;\n",
       "    }\n",
       "\n",
       "    .dataframe thead th {\n",
       "        text-align: right;\n",
       "    }\n",
       "</style>\n",
       "<table border=\"1\" class=\"dataframe\">\n",
       "  <thead>\n",
       "    <tr style=\"text-align: right;\">\n",
       "      <th></th>\n",
       "      <th>NPI</th>\n",
       "      <th>Entity Type</th>\n",
       "      <th>Provider Type</th>\n",
       "      <th>Place of Service</th>\n",
       "      <th>HCPCS Code</th>\n",
       "      <th>HCPCS Desc</th>\n",
       "      <th>No. Distinct Medicare Beneficiaries Per Day Services</th>\n",
       "      <th>Avg Medicare Amt Allowed</th>\n",
       "      <th>APC Desc</th>\n",
       "      <th>APC</th>\n",
       "    </tr>\n",
       "  </thead>\n",
       "  <tbody>\n",
       "    <tr>\n",
       "      <td>4902359</td>\n",
       "      <td>1003001785</td>\n",
       "      <td>I</td>\n",
       "      <td>Orthopedic Surgery</td>\n",
       "      <td>O</td>\n",
       "      <td>73502</td>\n",
       "      <td>X-ray of hip with pelvis, 2-3 views</td>\n",
       "      <td>24</td>\n",
       "      <td>26.91</td>\n",
       "      <td>X-ray exam hip uni 2-3 views</td>\n",
       "      <td>5521.0</td>\n",
       "    </tr>\n",
       "    <tr>\n",
       "      <td>4902360</td>\n",
       "      <td>1003002148</td>\n",
       "      <td>I</td>\n",
       "      <td>Diagnostic Radiology</td>\n",
       "      <td>F</td>\n",
       "      <td>73502</td>\n",
       "      <td>X-ray of hip with pelvis, 2-3 views</td>\n",
       "      <td>39</td>\n",
       "      <td>11.19</td>\n",
       "      <td>X-ray exam hip uni 2-3 views</td>\n",
       "      <td>5521.0</td>\n",
       "    </tr>\n",
       "    <tr>\n",
       "      <td>4902361</td>\n",
       "      <td>1003002809</td>\n",
       "      <td>I</td>\n",
       "      <td>Diagnostic Radiology</td>\n",
       "      <td>O</td>\n",
       "      <td>73502</td>\n",
       "      <td>X-ray of hip with pelvis, 2-3 views</td>\n",
       "      <td>89</td>\n",
       "      <td>47.39</td>\n",
       "      <td>X-ray exam hip uni 2-3 views</td>\n",
       "      <td>5521.0</td>\n",
       "    </tr>\n",
       "    <tr>\n",
       "      <td>4902362</td>\n",
       "      <td>1003006636</td>\n",
       "      <td>I</td>\n",
       "      <td>Diagnostic Radiology</td>\n",
       "      <td>F</td>\n",
       "      <td>73502</td>\n",
       "      <td>X-ray of hip with pelvis, 2-3 views</td>\n",
       "      <td>27</td>\n",
       "      <td>11.39</td>\n",
       "      <td>X-ray exam hip uni 2-3 views</td>\n",
       "      <td>5521.0</td>\n",
       "    </tr>\n",
       "    <tr>\n",
       "      <td>4902363</td>\n",
       "      <td>1003013129</td>\n",
       "      <td>I</td>\n",
       "      <td>Interventional Radiology</td>\n",
       "      <td>F</td>\n",
       "      <td>73502</td>\n",
       "      <td>X-ray of hip with pelvis, 2-3 views</td>\n",
       "      <td>30</td>\n",
       "      <td>12.04</td>\n",
       "      <td>X-ray exam hip uni 2-3 views</td>\n",
       "      <td>5521.0</td>\n",
       "    </tr>\n",
       "  </tbody>\n",
       "</table>\n",
       "</div>"
      ],
      "text/plain": [
       "                NPI Entity Type             Provider Type Place of Service  \\\n",
       "4902359  1003001785           I        Orthopedic Surgery                O   \n",
       "4902360  1003002148           I      Diagnostic Radiology                F   \n",
       "4902361  1003002809           I      Diagnostic Radiology                O   \n",
       "4902362  1003006636           I      Diagnostic Radiology                F   \n",
       "4902363  1003013129           I  Interventional Radiology                F   \n",
       "\n",
       "        HCPCS Code                           HCPCS Desc  \\\n",
       "4902359      73502  X-ray of hip with pelvis, 2-3 views   \n",
       "4902360      73502  X-ray of hip with pelvis, 2-3 views   \n",
       "4902361      73502  X-ray of hip with pelvis, 2-3 views   \n",
       "4902362      73502  X-ray of hip with pelvis, 2-3 views   \n",
       "4902363      73502  X-ray of hip with pelvis, 2-3 views   \n",
       "\n",
       "         No. Distinct Medicare Beneficiaries Per Day Services  \\\n",
       "4902359                                                 24      \n",
       "4902360                                                 39      \n",
       "4902361                                                 89      \n",
       "4902362                                                 27      \n",
       "4902363                                                 30      \n",
       "\n",
       "         Avg Medicare Amt Allowed                      APC Desc     APC  \n",
       "4902359                     26.91  X-ray exam hip uni 2-3 views  5521.0  \n",
       "4902360                     11.19  X-ray exam hip uni 2-3 views  5521.0  \n",
       "4902361                     47.39  X-ray exam hip uni 2-3 views  5521.0  \n",
       "4902362                     11.39  X-ray exam hip uni 2-3 views  5521.0  \n",
       "4902363                     12.04  X-ray exam hip uni 2-3 views  5521.0  "
      ]
     },
     "execution_count": 96,
     "metadata": {},
     "output_type": "execute_result"
    }
   ],
   "source": [
    "F5.head()"
   ]
  },
  {
   "cell_type": "code",
   "execution_count": 97,
   "metadata": {},
   "outputs": [
    {
     "data": {
      "text/plain": [
       "X-ray of hip with pelvis, 2-3 views                                                           39763\n",
       "X-ray of hip with pelvis, 1 view                                                               6817\n",
       "Replacement of thigh bone and hip joint prosthesis                                             6780\n",
       "X-ray of both hips with pelvis, 2 views                                                        3797\n",
       "X-ray of both hips with pelvis, 3-4 views                                                      3629\n",
       "X-ray of both hips with pelvis, minimum of 5 views                                             1929\n",
       "X-ray of hip with pelvis, minimum of 4 views                                                    713\n",
       "Radiological supervision and interpretation X-ray of hip joint                                  250\n",
       "Strapping of hip                                                                                 66\n",
       "Removal or shaving of hip joint socket cartilage using an endoscope                              12\n",
       "Reconstruction of hip socket and repair of thigh bone using an endoscope                         11\n",
       "Incision of hip tendon, accessed through the skin                                                11\n",
       "Incision of hip tendons, open procedure                                                          10\n",
       "Pelvis or hip joint procedure                                                                     8\n",
       "Removal of bone cyst or growth of hip or pelvic bone                                              7\n",
       "Drainage of abscess or blood accumulation in pelvis or hip joint                                  7\n",
       "Manipulation of hip joint under general anesthesia                                                6\n",
       "Removal and shaving of hip joint socket cartilage using an endoscope                              6\n",
       "Removal of hip joint lining using an endoscope                                                    5\n",
       "Incision of hip tendon, open procedure                                                            4\n",
       "Biopsy of tissue of pelvis and hip                                                                4\n",
       "Reconstruction of hip socket using an endoscope                                                   2\n",
       "Removal (5 centimeters or greater) muscle growth of pelvis or hip                                 2\n",
       "Removal (less than 5 centimeters) muscle growth of pelvis or hip                                  2\n",
       "Incision of hip joint with exploration or removal of loose or foreign body                        2\n",
       "Transfer of muscle to hip                                                                         2\n",
       "Removal of foreign body in tissue or muscle of pelvis or hip                                      1\n",
       "Closed treatment of hip socket fractures                                                          1\n",
       "Removal of pressure sore at hip bone in preparation of muscle flap or skin graft                  1\n",
       "Removal of (less than 5 centimeters) tissue growth of pelvis or hip                               1\n",
       "Removal (5 centimeters or greater) tissue growth of pelvis or hip                                 1\n",
       "Removal or scraping of bone cyst or growth of ankle bone with graft from hip or other bone        1\n",
       "Closed treatment of dislocated hip prosthesis under anesthesia                                    1\n",
       "Application of hip spica cast on one leg                                                          1\n",
       "Name: HCPCS Desc, dtype: int64"
      ]
     },
     "execution_count": 97,
     "metadata": {},
     "output_type": "execute_result"
    }
   ],
   "source": [
    "F5['HCPCS Desc'].value_counts()"
   ]
  },
  {
   "cell_type": "code",
   "execution_count": 98,
   "metadata": {},
   "outputs": [
    {
     "data": {
      "text/plain": [
       "5521.0    46580\n",
       "5522.0    10068\n",
       "5115.0     6780\n",
       "5572.0      250\n",
       "5733.0       66\n",
       "5114.0       35\n",
       "5113.0       35\n",
       "5112.0       18\n",
       "5111.0        9\n",
       "5073.0        6\n",
       "5072.0        4\n",
       "5102.0        1\n",
       "5054.0        1\n",
       "Name: APC, dtype: int64"
      ]
     },
     "execution_count": 98,
     "metadata": {},
     "output_type": "execute_result"
    }
   ],
   "source": [
    "F5['APC'].value_counts()"
   ]
  },
  {
   "cell_type": "code",
   "execution_count": 99,
   "metadata": {},
   "outputs": [
    {
     "data": {
      "text/plain": [
       "X-ray exam hip uni 2-3 views    39763\n",
       "X-ray exam hip uni 1 view        6817\n",
       "Total hip arthroplasty           6780\n",
       "X-ray exam hips bi 2 views       3797\n",
       "X-ray exam hips bi 3-4 views     3629\n",
       "X-ray exam hips bi 5/> views     1929\n",
       "X-ray exam hip uni 4/> views      713\n",
       "Contrast x-ray of hip             250\n",
       "Strapping of hip                   66\n",
       "Incision of hip tendon             15\n",
       "Hip arthr0 w/debridement           12\n",
       "Hip arthro w/femoroplasty          11\n",
       "Incision of hip tendons            10\n",
       "Pelvis/hip joint surgery            8\n",
       "Drainage of pelvis lesion           7\n",
       "Remove hip bone les deep            6\n",
       "Manipulation of hip joint           6\n",
       "Hip arthro w/labral repair          6\n",
       "Hip arthr0 w/synovectomy            5\n",
       "Biopsy of soft tissues              4\n",
       "Exploration of hip joint            2\n",
       "Exc hip/pelv tum deep < 5 cm        2\n",
       "Hip arthro acetabuloplasty          2\n",
       "Exc hip/pelv tum deep 5 cm/>        2\n",
       "Transfer of spinal muscle           2\n",
       "Resect hip/pelv tum 5 cm/>          1\n",
       "Remove/graft foot lesion            1\n",
       "Treat hip socket fracture           1\n",
       "Remove hip foreign body             1\n",
       "Resect hip/pelv tum < 5 cm          1\n",
       "Remove thigh pressure sore          1\n",
       "Remove hip bone les super           1\n",
       "Application of hip cast             1\n",
       "Treat hip dislocation               1\n",
       "Name: APC Desc, dtype: int64"
      ]
     },
     "execution_count": 99,
     "metadata": {},
     "output_type": "execute_result"
    }
   ],
   "source": [
    "F5['APC Desc'].value_counts()"
   ]
  },
  {
   "cell_type": "markdown",
   "metadata": {},
   "source": [
    "If we want hip replacements, I think our best bet is the following, which has 6780 occurrances in the dataset 1: HCPCS Code = 27130, APC Code = 5115, APC Desc on dataset 2 = Level 5 Musculoskeletal Procedure, APC Short Desc on crosswalk = Total Hip Arthroplasty."
   ]
  },
  {
   "cell_type": "code",
   "execution_count": 100,
   "metadata": {},
   "outputs": [
    {
     "data": {
      "text/plain": [
       "(6780, 10)"
      ]
     },
     "execution_count": 100,
     "metadata": {},
     "output_type": "execute_result"
    }
   ],
   "source": [
    "filter6 = d1_d3_nn['APC Desc'].isin(['Total hip arthroplasty'])\n",
    "\n",
    "F6 = d1_d3_nn[filter6]\n",
    "F6.shape"
   ]
  },
  {
   "cell_type": "code",
   "execution_count": 101,
   "metadata": {},
   "outputs": [
    {
     "data": {
      "text/html": [
       "<div>\n",
       "<style scoped>\n",
       "    .dataframe tbody tr th:only-of-type {\n",
       "        vertical-align: middle;\n",
       "    }\n",
       "\n",
       "    .dataframe tbody tr th {\n",
       "        vertical-align: top;\n",
       "    }\n",
       "\n",
       "    .dataframe thead th {\n",
       "        text-align: right;\n",
       "    }\n",
       "</style>\n",
       "<table border=\"1\" class=\"dataframe\">\n",
       "  <thead>\n",
       "    <tr style=\"text-align: right;\">\n",
       "      <th></th>\n",
       "      <th>NPI</th>\n",
       "      <th>Entity Type</th>\n",
       "      <th>Provider Type</th>\n",
       "      <th>Place of Service</th>\n",
       "      <th>HCPCS Code</th>\n",
       "      <th>HCPCS Desc</th>\n",
       "      <th>No. Distinct Medicare Beneficiaries Per Day Services</th>\n",
       "      <th>Avg Medicare Amt Allowed</th>\n",
       "      <th>APC Desc</th>\n",
       "      <th>APC</th>\n",
       "    </tr>\n",
       "  </thead>\n",
       "  <tbody>\n",
       "    <tr>\n",
       "      <td>6748341</td>\n",
       "      <td>1003006115</td>\n",
       "      <td>I</td>\n",
       "      <td>Physician Assistant</td>\n",
       "      <td>F</td>\n",
       "      <td>27130</td>\n",
       "      <td>Replacement of thigh bone and hip joint prosth...</td>\n",
       "      <td>14</td>\n",
       "      <td>230.510000</td>\n",
       "      <td>Total hip arthroplasty</td>\n",
       "      <td>5115.0</td>\n",
       "    </tr>\n",
       "    <tr>\n",
       "      <td>6748342</td>\n",
       "      <td>1003017682</td>\n",
       "      <td>I</td>\n",
       "      <td>Orthopedic Surgery</td>\n",
       "      <td>F</td>\n",
       "      <td>27130</td>\n",
       "      <td>Replacement of thigh bone and hip joint prosth...</td>\n",
       "      <td>22</td>\n",
       "      <td>1376.500000</td>\n",
       "      <td>Total hip arthroplasty</td>\n",
       "      <td>5115.0</td>\n",
       "    </tr>\n",
       "    <tr>\n",
       "      <td>6748343</td>\n",
       "      <td>1003018086</td>\n",
       "      <td>I</td>\n",
       "      <td>Orthopedic Surgery</td>\n",
       "      <td>F</td>\n",
       "      <td>27130</td>\n",
       "      <td>Replacement of thigh bone and hip joint prosth...</td>\n",
       "      <td>15</td>\n",
       "      <td>1339.390000</td>\n",
       "      <td>Total hip arthroplasty</td>\n",
       "      <td>5115.0</td>\n",
       "    </tr>\n",
       "    <tr>\n",
       "      <td>6748344</td>\n",
       "      <td>1003029034</td>\n",
       "      <td>I</td>\n",
       "      <td>Orthopedic Surgery</td>\n",
       "      <td>F</td>\n",
       "      <td>27130</td>\n",
       "      <td>Replacement of thigh bone and hip joint prosth...</td>\n",
       "      <td>35</td>\n",
       "      <td>1260.513714</td>\n",
       "      <td>Total hip arthroplasty</td>\n",
       "      <td>5115.0</td>\n",
       "    </tr>\n",
       "    <tr>\n",
       "      <td>6748345</td>\n",
       "      <td>1003044033</td>\n",
       "      <td>I</td>\n",
       "      <td>Orthopedic Surgery</td>\n",
       "      <td>F</td>\n",
       "      <td>27130</td>\n",
       "      <td>Replacement of thigh bone and hip joint prosth...</td>\n",
       "      <td>14</td>\n",
       "      <td>1283.370000</td>\n",
       "      <td>Total hip arthroplasty</td>\n",
       "      <td>5115.0</td>\n",
       "    </tr>\n",
       "  </tbody>\n",
       "</table>\n",
       "</div>"
      ],
      "text/plain": [
       "                NPI Entity Type        Provider Type Place of Service  \\\n",
       "6748341  1003006115           I  Physician Assistant                F   \n",
       "6748342  1003017682           I   Orthopedic Surgery                F   \n",
       "6748343  1003018086           I   Orthopedic Surgery                F   \n",
       "6748344  1003029034           I   Orthopedic Surgery                F   \n",
       "6748345  1003044033           I   Orthopedic Surgery                F   \n",
       "\n",
       "        HCPCS Code                                         HCPCS Desc  \\\n",
       "6748341      27130  Replacement of thigh bone and hip joint prosth...   \n",
       "6748342      27130  Replacement of thigh bone and hip joint prosth...   \n",
       "6748343      27130  Replacement of thigh bone and hip joint prosth...   \n",
       "6748344      27130  Replacement of thigh bone and hip joint prosth...   \n",
       "6748345      27130  Replacement of thigh bone and hip joint prosth...   \n",
       "\n",
       "         No. Distinct Medicare Beneficiaries Per Day Services  \\\n",
       "6748341                                                 14      \n",
       "6748342                                                 22      \n",
       "6748343                                                 15      \n",
       "6748344                                                 35      \n",
       "6748345                                                 14      \n",
       "\n",
       "         Avg Medicare Amt Allowed                APC Desc     APC  \n",
       "6748341                230.510000  Total hip arthroplasty  5115.0  \n",
       "6748342               1376.500000  Total hip arthroplasty  5115.0  \n",
       "6748343               1339.390000  Total hip arthroplasty  5115.0  \n",
       "6748344               1260.513714  Total hip arthroplasty  5115.0  \n",
       "6748345               1283.370000  Total hip arthroplasty  5115.0  "
      ]
     },
     "execution_count": 101,
     "metadata": {},
     "output_type": "execute_result"
    }
   ],
   "source": [
    "F6.head()"
   ]
  },
  {
   "cell_type": "markdown",
   "metadata": {},
   "source": [
    "Confirming that entity type is uniform.  Confirmed.  All are \"I\"."
   ]
  },
  {
   "cell_type": "code",
   "execution_count": 102,
   "metadata": {},
   "outputs": [
    {
     "data": {
      "text/plain": [
       "I    6780\n",
       "Name: Entity Type, dtype: int64"
      ]
     },
     "execution_count": 102,
     "metadata": {},
     "output_type": "execute_result"
    }
   ],
   "source": [
    "F6['Entity Type'].value_counts()"
   ]
  },
  {
   "cell_type": "markdown",
   "metadata": {},
   "source": [
    "Confirming that Place of Service is uniform.  No.  8 occurrances are 'O'.  Need to remove those."
   ]
  },
  {
   "cell_type": "code",
   "execution_count": 103,
   "metadata": {},
   "outputs": [
    {
     "data": {
      "text/plain": [
       "F    6772\n",
       "O       8\n",
       "Name: Place of Service, dtype: int64"
      ]
     },
     "execution_count": 103,
     "metadata": {},
     "output_type": "execute_result"
    }
   ],
   "source": [
    "F6['Place of Service'].value_counts()"
   ]
  },
  {
   "cell_type": "code",
   "execution_count": 104,
   "metadata": {},
   "outputs": [
    {
     "data": {
      "text/plain": [
       "(6772, 10)"
      ]
     },
     "execution_count": 104,
     "metadata": {},
     "output_type": "execute_result"
    }
   ],
   "source": [
    "Filter7 = F6['Place of Service'].isin(['F'])\n",
    "\n",
    "F7 = F6[Filter7]\n",
    "F7.shape"
   ]
  },
  {
   "cell_type": "markdown",
   "metadata": {},
   "source": [
    "Trying for a third time to merge with dataframe 2.  This time is works for me."
   ]
  },
  {
   "cell_type": "code",
   "execution_count": 105,
   "metadata": {},
   "outputs": [
    {
     "data": {
      "text/plain": [
       "(8742652, 15)"
      ]
     },
     "execution_count": 105,
     "metadata": {},
     "output_type": "execute_result"
    }
   ],
   "source": [
    "F7_with_d2= pd.merge(F7, d2, on=('APC'), how='inner')\n",
    "F7_with_d2.shape"
   ]
  },
  {
   "cell_type": "code",
   "execution_count": 106,
   "metadata": {
    "scrolled": true
   },
   "outputs": [
    {
     "data": {
      "text/html": [
       "<div>\n",
       "<style scoped>\n",
       "    .dataframe tbody tr th:only-of-type {\n",
       "        vertical-align: middle;\n",
       "    }\n",
       "\n",
       "    .dataframe tbody tr th {\n",
       "        vertical-align: top;\n",
       "    }\n",
       "\n",
       "    .dataframe thead th {\n",
       "        text-align: right;\n",
       "    }\n",
       "</style>\n",
       "<table border=\"1\" class=\"dataframe\">\n",
       "  <thead>\n",
       "    <tr style=\"text-align: right;\">\n",
       "      <th></th>\n",
       "      <th>NPI</th>\n",
       "      <th>Entity Type</th>\n",
       "      <th>Provider Type</th>\n",
       "      <th>Place of Service</th>\n",
       "      <th>HCPCS Code</th>\n",
       "      <th>HCPCS Desc</th>\n",
       "      <th>No. Distinct Medicare Beneficiaries Per Day Services</th>\n",
       "      <th>Avg Medicare Amt Allowed</th>\n",
       "      <th>APC Desc</th>\n",
       "      <th>APC</th>\n",
       "      <th>Provider_ID</th>\n",
       "      <th>APC_Desc</th>\n",
       "      <th>Beneficiaries</th>\n",
       "      <th>CAPC_Services</th>\n",
       "      <th>Average_Medicare_Allowed_Amount</th>\n",
       "    </tr>\n",
       "  </thead>\n",
       "  <tbody>\n",
       "    <tr>\n",
       "      <td>0</td>\n",
       "      <td>1003006115</td>\n",
       "      <td>I</td>\n",
       "      <td>Physician Assistant</td>\n",
       "      <td>F</td>\n",
       "      <td>27130</td>\n",
       "      <td>Replacement of thigh bone and hip joint prosth...</td>\n",
       "      <td>14</td>\n",
       "      <td>230.51</td>\n",
       "      <td>Total hip arthroplasty</td>\n",
       "      <td>5115.0</td>\n",
       "      <td>10001</td>\n",
       "      <td>Level 5 Musculoskeletal Procedures</td>\n",
       "      <td>59.0</td>\n",
       "      <td>59</td>\n",
       "      <td>8078.53</td>\n",
       "    </tr>\n",
       "    <tr>\n",
       "      <td>1</td>\n",
       "      <td>1003006115</td>\n",
       "      <td>I</td>\n",
       "      <td>Physician Assistant</td>\n",
       "      <td>F</td>\n",
       "      <td>27130</td>\n",
       "      <td>Replacement of thigh bone and hip joint prosth...</td>\n",
       "      <td>14</td>\n",
       "      <td>230.51</td>\n",
       "      <td>Total hip arthroplasty</td>\n",
       "      <td>5115.0</td>\n",
       "      <td>10005</td>\n",
       "      <td>Level 5 Musculoskeletal Procedures</td>\n",
       "      <td>25.0</td>\n",
       "      <td>25</td>\n",
       "      <td>8321.96</td>\n",
       "    </tr>\n",
       "    <tr>\n",
       "      <td>2</td>\n",
       "      <td>1003006115</td>\n",
       "      <td>I</td>\n",
       "      <td>Physician Assistant</td>\n",
       "      <td>F</td>\n",
       "      <td>27130</td>\n",
       "      <td>Replacement of thigh bone and hip joint prosth...</td>\n",
       "      <td>14</td>\n",
       "      <td>230.51</td>\n",
       "      <td>Total hip arthroplasty</td>\n",
       "      <td>5115.0</td>\n",
       "      <td>10006</td>\n",
       "      <td>Level 5 Musculoskeletal Procedures</td>\n",
       "      <td>15.0</td>\n",
       "      <td>16</td>\n",
       "      <td>7624.83</td>\n",
       "    </tr>\n",
       "    <tr>\n",
       "      <td>3</td>\n",
       "      <td>1003006115</td>\n",
       "      <td>I</td>\n",
       "      <td>Physician Assistant</td>\n",
       "      <td>F</td>\n",
       "      <td>27130</td>\n",
       "      <td>Replacement of thigh bone and hip joint prosth...</td>\n",
       "      <td>14</td>\n",
       "      <td>230.51</td>\n",
       "      <td>Total hip arthroplasty</td>\n",
       "      <td>5115.0</td>\n",
       "      <td>10011</td>\n",
       "      <td>Level 5 Musculoskeletal Procedures</td>\n",
       "      <td>21.0</td>\n",
       "      <td>22</td>\n",
       "      <td>7993.85</td>\n",
       "    </tr>\n",
       "    <tr>\n",
       "      <td>4</td>\n",
       "      <td>1003006115</td>\n",
       "      <td>I</td>\n",
       "      <td>Physician Assistant</td>\n",
       "      <td>F</td>\n",
       "      <td>27130</td>\n",
       "      <td>Replacement of thigh bone and hip joint prosth...</td>\n",
       "      <td>14</td>\n",
       "      <td>230.51</td>\n",
       "      <td>Total hip arthroplasty</td>\n",
       "      <td>5115.0</td>\n",
       "      <td>10016</td>\n",
       "      <td>Level 5 Musculoskeletal Procedures</td>\n",
       "      <td>15.0</td>\n",
       "      <td>15</td>\n",
       "      <td>7845.45</td>\n",
       "    </tr>\n",
       "    <tr>\n",
       "      <td>5</td>\n",
       "      <td>1003006115</td>\n",
       "      <td>I</td>\n",
       "      <td>Physician Assistant</td>\n",
       "      <td>F</td>\n",
       "      <td>27130</td>\n",
       "      <td>Replacement of thigh bone and hip joint prosth...</td>\n",
       "      <td>14</td>\n",
       "      <td>230.51</td>\n",
       "      <td>Total hip arthroplasty</td>\n",
       "      <td>5115.0</td>\n",
       "      <td>10023</td>\n",
       "      <td>Level 5 Musculoskeletal Procedures</td>\n",
       "      <td>50.0</td>\n",
       "      <td>52</td>\n",
       "      <td>7809.26</td>\n",
       "    </tr>\n",
       "    <tr>\n",
       "      <td>6</td>\n",
       "      <td>1003006115</td>\n",
       "      <td>I</td>\n",
       "      <td>Physician Assistant</td>\n",
       "      <td>F</td>\n",
       "      <td>27130</td>\n",
       "      <td>Replacement of thigh bone and hip joint prosth...</td>\n",
       "      <td>14</td>\n",
       "      <td>230.51</td>\n",
       "      <td>Total hip arthroplasty</td>\n",
       "      <td>5115.0</td>\n",
       "      <td>10024</td>\n",
       "      <td>Level 5 Musculoskeletal Procedures</td>\n",
       "      <td>74.0</td>\n",
       "      <td>74</td>\n",
       "      <td>7288.50</td>\n",
       "    </tr>\n",
       "    <tr>\n",
       "      <td>7</td>\n",
       "      <td>1003006115</td>\n",
       "      <td>I</td>\n",
       "      <td>Physician Assistant</td>\n",
       "      <td>F</td>\n",
       "      <td>27130</td>\n",
       "      <td>Replacement of thigh bone and hip joint prosth...</td>\n",
       "      <td>14</td>\n",
       "      <td>230.51</td>\n",
       "      <td>Total hip arthroplasty</td>\n",
       "      <td>5115.0</td>\n",
       "      <td>10029</td>\n",
       "      <td>Level 5 Musculoskeletal Procedures</td>\n",
       "      <td>21.0</td>\n",
       "      <td>22</td>\n",
       "      <td>8410.24</td>\n",
       "    </tr>\n",
       "    <tr>\n",
       "      <td>8</td>\n",
       "      <td>1003006115</td>\n",
       "      <td>I</td>\n",
       "      <td>Physician Assistant</td>\n",
       "      <td>F</td>\n",
       "      <td>27130</td>\n",
       "      <td>Replacement of thigh bone and hip joint prosth...</td>\n",
       "      <td>14</td>\n",
       "      <td>230.51</td>\n",
       "      <td>Total hip arthroplasty</td>\n",
       "      <td>5115.0</td>\n",
       "      <td>10033</td>\n",
       "      <td>Level 5 Musculoskeletal Procedures</td>\n",
       "      <td>44.0</td>\n",
       "      <td>45</td>\n",
       "      <td>7872.50</td>\n",
       "    </tr>\n",
       "    <tr>\n",
       "      <td>9</td>\n",
       "      <td>1003006115</td>\n",
       "      <td>I</td>\n",
       "      <td>Physician Assistant</td>\n",
       "      <td>F</td>\n",
       "      <td>27130</td>\n",
       "      <td>Replacement of thigh bone and hip joint prosth...</td>\n",
       "      <td>14</td>\n",
       "      <td>230.51</td>\n",
       "      <td>Total hip arthroplasty</td>\n",
       "      <td>5115.0</td>\n",
       "      <td>10035</td>\n",
       "      <td>Level 5 Musculoskeletal Procedures</td>\n",
       "      <td>18.0</td>\n",
       "      <td>19</td>\n",
       "      <td>8910.95</td>\n",
       "    </tr>\n",
       "    <tr>\n",
       "      <td>10</td>\n",
       "      <td>1003006115</td>\n",
       "      <td>I</td>\n",
       "      <td>Physician Assistant</td>\n",
       "      <td>F</td>\n",
       "      <td>27130</td>\n",
       "      <td>Replacement of thigh bone and hip joint prosth...</td>\n",
       "      <td>14</td>\n",
       "      <td>230.51</td>\n",
       "      <td>Total hip arthroplasty</td>\n",
       "      <td>5115.0</td>\n",
       "      <td>10039</td>\n",
       "      <td>Level 5 Musculoskeletal Procedures</td>\n",
       "      <td>284.0</td>\n",
       "      <td>292</td>\n",
       "      <td>8264.41</td>\n",
       "    </tr>\n",
       "    <tr>\n",
       "      <td>11</td>\n",
       "      <td>1003006115</td>\n",
       "      <td>I</td>\n",
       "      <td>Physician Assistant</td>\n",
       "      <td>F</td>\n",
       "      <td>27130</td>\n",
       "      <td>Replacement of thigh bone and hip joint prosth...</td>\n",
       "      <td>14</td>\n",
       "      <td>230.51</td>\n",
       "      <td>Total hip arthroplasty</td>\n",
       "      <td>5115.0</td>\n",
       "      <td>10040</td>\n",
       "      <td>Level 5 Musculoskeletal Procedures</td>\n",
       "      <td>32.0</td>\n",
       "      <td>35</td>\n",
       "      <td>7872.68</td>\n",
       "    </tr>\n",
       "    <tr>\n",
       "      <td>12</td>\n",
       "      <td>1003006115</td>\n",
       "      <td>I</td>\n",
       "      <td>Physician Assistant</td>\n",
       "      <td>F</td>\n",
       "      <td>27130</td>\n",
       "      <td>Replacement of thigh bone and hip joint prosth...</td>\n",
       "      <td>14</td>\n",
       "      <td>230.51</td>\n",
       "      <td>Total hip arthroplasty</td>\n",
       "      <td>5115.0</td>\n",
       "      <td>10046</td>\n",
       "      <td>Level 5 Musculoskeletal Procedures</td>\n",
       "      <td>27.0</td>\n",
       "      <td>27</td>\n",
       "      <td>7819.35</td>\n",
       "    </tr>\n",
       "    <tr>\n",
       "      <td>13</td>\n",
       "      <td>1003006115</td>\n",
       "      <td>I</td>\n",
       "      <td>Physician Assistant</td>\n",
       "      <td>F</td>\n",
       "      <td>27130</td>\n",
       "      <td>Replacement of thigh bone and hip joint prosth...</td>\n",
       "      <td>14</td>\n",
       "      <td>230.51</td>\n",
       "      <td>Total hip arthroplasty</td>\n",
       "      <td>5115.0</td>\n",
       "      <td>10055</td>\n",
       "      <td>Level 5 Musculoskeletal Procedures</td>\n",
       "      <td>35.0</td>\n",
       "      <td>35</td>\n",
       "      <td>8076.22</td>\n",
       "    </tr>\n",
       "    <tr>\n",
       "      <td>14</td>\n",
       "      <td>1003006115</td>\n",
       "      <td>I</td>\n",
       "      <td>Physician Assistant</td>\n",
       "      <td>F</td>\n",
       "      <td>27130</td>\n",
       "      <td>Replacement of thigh bone and hip joint prosth...</td>\n",
       "      <td>14</td>\n",
       "      <td>230.51</td>\n",
       "      <td>Total hip arthroplasty</td>\n",
       "      <td>5115.0</td>\n",
       "      <td>10056</td>\n",
       "      <td>Level 5 Musculoskeletal Procedures</td>\n",
       "      <td>125.0</td>\n",
       "      <td>125</td>\n",
       "      <td>7767.35</td>\n",
       "    </tr>\n",
       "    <tr>\n",
       "      <td>15</td>\n",
       "      <td>1003006115</td>\n",
       "      <td>I</td>\n",
       "      <td>Physician Assistant</td>\n",
       "      <td>F</td>\n",
       "      <td>27130</td>\n",
       "      <td>Replacement of thigh bone and hip joint prosth...</td>\n",
       "      <td>14</td>\n",
       "      <td>230.51</td>\n",
       "      <td>Total hip arthroplasty</td>\n",
       "      <td>5115.0</td>\n",
       "      <td>10079</td>\n",
       "      <td>Level 5 Musculoskeletal Procedures</td>\n",
       "      <td>13.0</td>\n",
       "      <td>14</td>\n",
       "      <td>8500.74</td>\n",
       "    </tr>\n",
       "    <tr>\n",
       "      <td>16</td>\n",
       "      <td>1003006115</td>\n",
       "      <td>I</td>\n",
       "      <td>Physician Assistant</td>\n",
       "      <td>F</td>\n",
       "      <td>27130</td>\n",
       "      <td>Replacement of thigh bone and hip joint prosth...</td>\n",
       "      <td>14</td>\n",
       "      <td>230.51</td>\n",
       "      <td>Total hip arthroplasty</td>\n",
       "      <td>5115.0</td>\n",
       "      <td>10083</td>\n",
       "      <td>Level 5 Musculoskeletal Procedures</td>\n",
       "      <td>12.0</td>\n",
       "      <td>12</td>\n",
       "      <td>7443.05</td>\n",
       "    </tr>\n",
       "    <tr>\n",
       "      <td>17</td>\n",
       "      <td>1003006115</td>\n",
       "      <td>I</td>\n",
       "      <td>Physician Assistant</td>\n",
       "      <td>F</td>\n",
       "      <td>27130</td>\n",
       "      <td>Replacement of thigh bone and hip joint prosth...</td>\n",
       "      <td>14</td>\n",
       "      <td>230.51</td>\n",
       "      <td>Total hip arthroplasty</td>\n",
       "      <td>5115.0</td>\n",
       "      <td>10085</td>\n",
       "      <td>Level 5 Musculoskeletal Procedures</td>\n",
       "      <td>11.0</td>\n",
       "      <td>12</td>\n",
       "      <td>7381.59</td>\n",
       "    </tr>\n",
       "    <tr>\n",
       "      <td>18</td>\n",
       "      <td>1003006115</td>\n",
       "      <td>I</td>\n",
       "      <td>Physician Assistant</td>\n",
       "      <td>F</td>\n",
       "      <td>27130</td>\n",
       "      <td>Replacement of thigh bone and hip joint prosth...</td>\n",
       "      <td>14</td>\n",
       "      <td>230.51</td>\n",
       "      <td>Total hip arthroplasty</td>\n",
       "      <td>5115.0</td>\n",
       "      <td>10089</td>\n",
       "      <td>Level 5 Musculoskeletal Procedures</td>\n",
       "      <td>24.0</td>\n",
       "      <td>24</td>\n",
       "      <td>8020.35</td>\n",
       "    </tr>\n",
       "    <tr>\n",
       "      <td>19</td>\n",
       "      <td>1003006115</td>\n",
       "      <td>I</td>\n",
       "      <td>Physician Assistant</td>\n",
       "      <td>F</td>\n",
       "      <td>27130</td>\n",
       "      <td>Replacement of thigh bone and hip joint prosth...</td>\n",
       "      <td>14</td>\n",
       "      <td>230.51</td>\n",
       "      <td>Total hip arthroplasty</td>\n",
       "      <td>5115.0</td>\n",
       "      <td>10090</td>\n",
       "      <td>Level 5 Musculoskeletal Procedures</td>\n",
       "      <td>31.0</td>\n",
       "      <td>31</td>\n",
       "      <td>8066.72</td>\n",
       "    </tr>\n",
       "    <tr>\n",
       "      <td>20</td>\n",
       "      <td>1003006115</td>\n",
       "      <td>I</td>\n",
       "      <td>Physician Assistant</td>\n",
       "      <td>F</td>\n",
       "      <td>27130</td>\n",
       "      <td>Replacement of thigh bone and hip joint prosth...</td>\n",
       "      <td>14</td>\n",
       "      <td>230.51</td>\n",
       "      <td>Total hip arthroplasty</td>\n",
       "      <td>5115.0</td>\n",
       "      <td>10092</td>\n",
       "      <td>Level 5 Musculoskeletal Procedures</td>\n",
       "      <td>77.0</td>\n",
       "      <td>78</td>\n",
       "      <td>7868.12</td>\n",
       "    </tr>\n",
       "    <tr>\n",
       "      <td>21</td>\n",
       "      <td>1003006115</td>\n",
       "      <td>I</td>\n",
       "      <td>Physician Assistant</td>\n",
       "      <td>F</td>\n",
       "      <td>27130</td>\n",
       "      <td>Replacement of thigh bone and hip joint prosth...</td>\n",
       "      <td>14</td>\n",
       "      <td>230.51</td>\n",
       "      <td>Total hip arthroplasty</td>\n",
       "      <td>5115.0</td>\n",
       "      <td>10100</td>\n",
       "      <td>Level 5 Musculoskeletal Procedures</td>\n",
       "      <td>15.0</td>\n",
       "      <td>16</td>\n",
       "      <td>8128.00</td>\n",
       "    </tr>\n",
       "    <tr>\n",
       "      <td>22</td>\n",
       "      <td>1003006115</td>\n",
       "      <td>I</td>\n",
       "      <td>Physician Assistant</td>\n",
       "      <td>F</td>\n",
       "      <td>27130</td>\n",
       "      <td>Replacement of thigh bone and hip joint prosth...</td>\n",
       "      <td>14</td>\n",
       "      <td>230.51</td>\n",
       "      <td>Total hip arthroplasty</td>\n",
       "      <td>5115.0</td>\n",
       "      <td>10104</td>\n",
       "      <td>Level 5 Musculoskeletal Procedures</td>\n",
       "      <td>98.0</td>\n",
       "      <td>99</td>\n",
       "      <td>7984.71</td>\n",
       "    </tr>\n",
       "    <tr>\n",
       "      <td>23</td>\n",
       "      <td>1003006115</td>\n",
       "      <td>I</td>\n",
       "      <td>Physician Assistant</td>\n",
       "      <td>F</td>\n",
       "      <td>27130</td>\n",
       "      <td>Replacement of thigh bone and hip joint prosth...</td>\n",
       "      <td>14</td>\n",
       "      <td>230.51</td>\n",
       "      <td>Total hip arthroplasty</td>\n",
       "      <td>5115.0</td>\n",
       "      <td>10113</td>\n",
       "      <td>Level 5 Musculoskeletal Procedures</td>\n",
       "      <td>50.0</td>\n",
       "      <td>50</td>\n",
       "      <td>7534.82</td>\n",
       "    </tr>\n",
       "    <tr>\n",
       "      <td>24</td>\n",
       "      <td>1003006115</td>\n",
       "      <td>I</td>\n",
       "      <td>Physician Assistant</td>\n",
       "      <td>F</td>\n",
       "      <td>27130</td>\n",
       "      <td>Replacement of thigh bone and hip joint prosth...</td>\n",
       "      <td>14</td>\n",
       "      <td>230.51</td>\n",
       "      <td>Total hip arthroplasty</td>\n",
       "      <td>5115.0</td>\n",
       "      <td>10131</td>\n",
       "      <td>Level 5 Musculoskeletal Procedures</td>\n",
       "      <td>98.0</td>\n",
       "      <td>98</td>\n",
       "      <td>8039.41</td>\n",
       "    </tr>\n",
       "  </tbody>\n",
       "</table>\n",
       "</div>"
      ],
      "text/plain": [
       "           NPI Entity Type        Provider Type Place of Service HCPCS Code  \\\n",
       "0   1003006115           I  Physician Assistant                F      27130   \n",
       "1   1003006115           I  Physician Assistant                F      27130   \n",
       "2   1003006115           I  Physician Assistant                F      27130   \n",
       "3   1003006115           I  Physician Assistant                F      27130   \n",
       "4   1003006115           I  Physician Assistant                F      27130   \n",
       "5   1003006115           I  Physician Assistant                F      27130   \n",
       "6   1003006115           I  Physician Assistant                F      27130   \n",
       "7   1003006115           I  Physician Assistant                F      27130   \n",
       "8   1003006115           I  Physician Assistant                F      27130   \n",
       "9   1003006115           I  Physician Assistant                F      27130   \n",
       "10  1003006115           I  Physician Assistant                F      27130   \n",
       "11  1003006115           I  Physician Assistant                F      27130   \n",
       "12  1003006115           I  Physician Assistant                F      27130   \n",
       "13  1003006115           I  Physician Assistant                F      27130   \n",
       "14  1003006115           I  Physician Assistant                F      27130   \n",
       "15  1003006115           I  Physician Assistant                F      27130   \n",
       "16  1003006115           I  Physician Assistant                F      27130   \n",
       "17  1003006115           I  Physician Assistant                F      27130   \n",
       "18  1003006115           I  Physician Assistant                F      27130   \n",
       "19  1003006115           I  Physician Assistant                F      27130   \n",
       "20  1003006115           I  Physician Assistant                F      27130   \n",
       "21  1003006115           I  Physician Assistant                F      27130   \n",
       "22  1003006115           I  Physician Assistant                F      27130   \n",
       "23  1003006115           I  Physician Assistant                F      27130   \n",
       "24  1003006115           I  Physician Assistant                F      27130   \n",
       "\n",
       "                                           HCPCS Desc  \\\n",
       "0   Replacement of thigh bone and hip joint prosth...   \n",
       "1   Replacement of thigh bone and hip joint prosth...   \n",
       "2   Replacement of thigh bone and hip joint prosth...   \n",
       "3   Replacement of thigh bone and hip joint prosth...   \n",
       "4   Replacement of thigh bone and hip joint prosth...   \n",
       "5   Replacement of thigh bone and hip joint prosth...   \n",
       "6   Replacement of thigh bone and hip joint prosth...   \n",
       "7   Replacement of thigh bone and hip joint prosth...   \n",
       "8   Replacement of thigh bone and hip joint prosth...   \n",
       "9   Replacement of thigh bone and hip joint prosth...   \n",
       "10  Replacement of thigh bone and hip joint prosth...   \n",
       "11  Replacement of thigh bone and hip joint prosth...   \n",
       "12  Replacement of thigh bone and hip joint prosth...   \n",
       "13  Replacement of thigh bone and hip joint prosth...   \n",
       "14  Replacement of thigh bone and hip joint prosth...   \n",
       "15  Replacement of thigh bone and hip joint prosth...   \n",
       "16  Replacement of thigh bone and hip joint prosth...   \n",
       "17  Replacement of thigh bone and hip joint prosth...   \n",
       "18  Replacement of thigh bone and hip joint prosth...   \n",
       "19  Replacement of thigh bone and hip joint prosth...   \n",
       "20  Replacement of thigh bone and hip joint prosth...   \n",
       "21  Replacement of thigh bone and hip joint prosth...   \n",
       "22  Replacement of thigh bone and hip joint prosth...   \n",
       "23  Replacement of thigh bone and hip joint prosth...   \n",
       "24  Replacement of thigh bone and hip joint prosth...   \n",
       "\n",
       "    No. Distinct Medicare Beneficiaries Per Day Services  \\\n",
       "0                                                  14      \n",
       "1                                                  14      \n",
       "2                                                  14      \n",
       "3                                                  14      \n",
       "4                                                  14      \n",
       "5                                                  14      \n",
       "6                                                  14      \n",
       "7                                                  14      \n",
       "8                                                  14      \n",
       "9                                                  14      \n",
       "10                                                 14      \n",
       "11                                                 14      \n",
       "12                                                 14      \n",
       "13                                                 14      \n",
       "14                                                 14      \n",
       "15                                                 14      \n",
       "16                                                 14      \n",
       "17                                                 14      \n",
       "18                                                 14      \n",
       "19                                                 14      \n",
       "20                                                 14      \n",
       "21                                                 14      \n",
       "22                                                 14      \n",
       "23                                                 14      \n",
       "24                                                 14      \n",
       "\n",
       "    Avg Medicare Amt Allowed                APC Desc     APC  Provider_ID  \\\n",
       "0                     230.51  Total hip arthroplasty  5115.0        10001   \n",
       "1                     230.51  Total hip arthroplasty  5115.0        10005   \n",
       "2                     230.51  Total hip arthroplasty  5115.0        10006   \n",
       "3                     230.51  Total hip arthroplasty  5115.0        10011   \n",
       "4                     230.51  Total hip arthroplasty  5115.0        10016   \n",
       "5                     230.51  Total hip arthroplasty  5115.0        10023   \n",
       "6                     230.51  Total hip arthroplasty  5115.0        10024   \n",
       "7                     230.51  Total hip arthroplasty  5115.0        10029   \n",
       "8                     230.51  Total hip arthroplasty  5115.0        10033   \n",
       "9                     230.51  Total hip arthroplasty  5115.0        10035   \n",
       "10                    230.51  Total hip arthroplasty  5115.0        10039   \n",
       "11                    230.51  Total hip arthroplasty  5115.0        10040   \n",
       "12                    230.51  Total hip arthroplasty  5115.0        10046   \n",
       "13                    230.51  Total hip arthroplasty  5115.0        10055   \n",
       "14                    230.51  Total hip arthroplasty  5115.0        10056   \n",
       "15                    230.51  Total hip arthroplasty  5115.0        10079   \n",
       "16                    230.51  Total hip arthroplasty  5115.0        10083   \n",
       "17                    230.51  Total hip arthroplasty  5115.0        10085   \n",
       "18                    230.51  Total hip arthroplasty  5115.0        10089   \n",
       "19                    230.51  Total hip arthroplasty  5115.0        10090   \n",
       "20                    230.51  Total hip arthroplasty  5115.0        10092   \n",
       "21                    230.51  Total hip arthroplasty  5115.0        10100   \n",
       "22                    230.51  Total hip arthroplasty  5115.0        10104   \n",
       "23                    230.51  Total hip arthroplasty  5115.0        10113   \n",
       "24                    230.51  Total hip arthroplasty  5115.0        10131   \n",
       "\n",
       "                              APC_Desc  Beneficiaries  CAPC_Services  \\\n",
       "0   Level 5 Musculoskeletal Procedures           59.0             59   \n",
       "1   Level 5 Musculoskeletal Procedures           25.0             25   \n",
       "2   Level 5 Musculoskeletal Procedures           15.0             16   \n",
       "3   Level 5 Musculoskeletal Procedures           21.0             22   \n",
       "4   Level 5 Musculoskeletal Procedures           15.0             15   \n",
       "5   Level 5 Musculoskeletal Procedures           50.0             52   \n",
       "6   Level 5 Musculoskeletal Procedures           74.0             74   \n",
       "7   Level 5 Musculoskeletal Procedures           21.0             22   \n",
       "8   Level 5 Musculoskeletal Procedures           44.0             45   \n",
       "9   Level 5 Musculoskeletal Procedures           18.0             19   \n",
       "10  Level 5 Musculoskeletal Procedures          284.0            292   \n",
       "11  Level 5 Musculoskeletal Procedures           32.0             35   \n",
       "12  Level 5 Musculoskeletal Procedures           27.0             27   \n",
       "13  Level 5 Musculoskeletal Procedures           35.0             35   \n",
       "14  Level 5 Musculoskeletal Procedures          125.0            125   \n",
       "15  Level 5 Musculoskeletal Procedures           13.0             14   \n",
       "16  Level 5 Musculoskeletal Procedures           12.0             12   \n",
       "17  Level 5 Musculoskeletal Procedures           11.0             12   \n",
       "18  Level 5 Musculoskeletal Procedures           24.0             24   \n",
       "19  Level 5 Musculoskeletal Procedures           31.0             31   \n",
       "20  Level 5 Musculoskeletal Procedures           77.0             78   \n",
       "21  Level 5 Musculoskeletal Procedures           15.0             16   \n",
       "22  Level 5 Musculoskeletal Procedures           98.0             99   \n",
       "23  Level 5 Musculoskeletal Procedures           50.0             50   \n",
       "24  Level 5 Musculoskeletal Procedures           98.0             98   \n",
       "\n",
       "    Average_Medicare_Allowed_Amount  \n",
       "0                           8078.53  \n",
       "1                           8321.96  \n",
       "2                           7624.83  \n",
       "3                           7993.85  \n",
       "4                           7845.45  \n",
       "5                           7809.26  \n",
       "6                           7288.50  \n",
       "7                           8410.24  \n",
       "8                           7872.50  \n",
       "9                           8910.95  \n",
       "10                          8264.41  \n",
       "11                          7872.68  \n",
       "12                          7819.35  \n",
       "13                          8076.22  \n",
       "14                          7767.35  \n",
       "15                          8500.74  \n",
       "16                          7443.05  \n",
       "17                          7381.59  \n",
       "18                          8020.35  \n",
       "19                          8066.72  \n",
       "20                          7868.12  \n",
       "21                          8128.00  \n",
       "22                          7984.71  \n",
       "23                          7534.82  \n",
       "24                          8039.41  "
      ]
     },
     "execution_count": 106,
     "metadata": {},
     "output_type": "execute_result"
    }
   ],
   "source": [
    "F7_with_d2.head(25)"
   ]
  },
  {
   "cell_type": "code",
   "execution_count": 107,
   "metadata": {},
   "outputs": [
    {
     "data": {
      "text/plain": [
       "Index(['NPI', 'Entity Type', 'Provider Type', 'Place of Service', 'HCPCS Code',\n",
       "       'HCPCS Desc', 'No. Distinct Medicare Beneficiaries Per Day Services',\n",
       "       'Avg Medicare Amt Allowed', 'APC Desc', 'APC', 'Provider_ID',\n",
       "       'APC_Desc', 'Beneficiaries', 'CAPC_Services',\n",
       "       'Average_Medicare_Allowed_Amount'],\n",
       "      dtype='object')"
      ]
     },
     "execution_count": 107,
     "metadata": {},
     "output_type": "execute_result"
    }
   ],
   "source": [
    "F7_with_d2.columns"
   ]
  },
  {
   "cell_type": "code",
   "execution_count": 112,
   "metadata": {},
   "outputs": [
    {
     "data": {
      "text/plain": [
       "Orthopedic Surgery                     5498369\n",
       "Physician Assistant                    2876348\n",
       "Nurse Practitioner                      278856\n",
       "Sports Medicine                          25820\n",
       "General Surgery                          21947\n",
       "Family Practice                          14201\n",
       "Osteopathic Manipulative Medicine         7746\n",
       "Certified Clinical Nurse Specialist       6455\n",
       "General Practice                          3873\n",
       "Cardiology                                1291\n",
       "Emergency Medicine                        1291\n",
       "Thoracic Surgery                          1291\n",
       "Internal Medicine                         1291\n",
       "Podiatry                                  1291\n",
       "Obstetrics & Gynecology                   1291\n",
       "Anesthesiology                            1291\n",
       "Name: Provider Type, dtype: int64"
      ]
     },
     "execution_count": 112,
     "metadata": {},
     "output_type": "execute_result"
    }
   ],
   "source": [
    "F7_with_d2['Provider Type'].value_counts()"
   ]
  },
  {
   "cell_type": "code",
   "execution_count": 117,
   "metadata": {},
   "outputs": [
    {
     "data": {
      "text/html": [
       "<div>\n",
       "<style scoped>\n",
       "    .dataframe tbody tr th:only-of-type {\n",
       "        vertical-align: middle;\n",
       "    }\n",
       "\n",
       "    .dataframe tbody tr th {\n",
       "        vertical-align: top;\n",
       "    }\n",
       "\n",
       "    .dataframe thead th {\n",
       "        text-align: right;\n",
       "    }\n",
       "</style>\n",
       "<table border=\"1\" class=\"dataframe\">\n",
       "  <thead>\n",
       "    <tr style=\"text-align: right;\">\n",
       "      <th></th>\n",
       "      <th>NPI</th>\n",
       "      <th>Entity Type</th>\n",
       "      <th>Provider Type</th>\n",
       "      <th>Place of Service</th>\n",
       "      <th>HCPCS Code</th>\n",
       "      <th>HCPCS Desc</th>\n",
       "      <th>No. Distinct Medicare Beneficiaries Per Day Services</th>\n",
       "      <th>Avg Medicare Amt Allowed</th>\n",
       "      <th>APC Desc</th>\n",
       "      <th>APC</th>\n",
       "      <th>Provider_ID</th>\n",
       "      <th>APC_Desc</th>\n",
       "      <th>Beneficiaries</th>\n",
       "      <th>CAPC_Services</th>\n",
       "      <th>Average_Medicare_Allowed_Amount</th>\n",
       "    </tr>\n",
       "  </thead>\n",
       "  <tbody>\n",
       "    <tr>\n",
       "      <td>0</td>\n",
       "      <td>1003006115</td>\n",
       "      <td>I</td>\n",
       "      <td>Physician Assistant</td>\n",
       "      <td>F</td>\n",
       "      <td>27130</td>\n",
       "      <td>Replacement of thigh bone and hip joint prosth...</td>\n",
       "      <td>14</td>\n",
       "      <td>230.51</td>\n",
       "      <td>Total hip arthroplasty</td>\n",
       "      <td>5115.0</td>\n",
       "      <td>10001</td>\n",
       "      <td>Level 5 Musculoskeletal Procedures</td>\n",
       "      <td>59.0</td>\n",
       "      <td>59</td>\n",
       "      <td>8078.53</td>\n",
       "    </tr>\n",
       "    <tr>\n",
       "      <td>1</td>\n",
       "      <td>1003006115</td>\n",
       "      <td>I</td>\n",
       "      <td>Physician Assistant</td>\n",
       "      <td>F</td>\n",
       "      <td>27130</td>\n",
       "      <td>Replacement of thigh bone and hip joint prosth...</td>\n",
       "      <td>14</td>\n",
       "      <td>230.51</td>\n",
       "      <td>Total hip arthroplasty</td>\n",
       "      <td>5115.0</td>\n",
       "      <td>10005</td>\n",
       "      <td>Level 5 Musculoskeletal Procedures</td>\n",
       "      <td>25.0</td>\n",
       "      <td>25</td>\n",
       "      <td>8321.96</td>\n",
       "    </tr>\n",
       "    <tr>\n",
       "      <td>2</td>\n",
       "      <td>1003006115</td>\n",
       "      <td>I</td>\n",
       "      <td>Physician Assistant</td>\n",
       "      <td>F</td>\n",
       "      <td>27130</td>\n",
       "      <td>Replacement of thigh bone and hip joint prosth...</td>\n",
       "      <td>14</td>\n",
       "      <td>230.51</td>\n",
       "      <td>Total hip arthroplasty</td>\n",
       "      <td>5115.0</td>\n",
       "      <td>10006</td>\n",
       "      <td>Level 5 Musculoskeletal Procedures</td>\n",
       "      <td>15.0</td>\n",
       "      <td>16</td>\n",
       "      <td>7624.83</td>\n",
       "    </tr>\n",
       "    <tr>\n",
       "      <td>3</td>\n",
       "      <td>1003006115</td>\n",
       "      <td>I</td>\n",
       "      <td>Physician Assistant</td>\n",
       "      <td>F</td>\n",
       "      <td>27130</td>\n",
       "      <td>Replacement of thigh bone and hip joint prosth...</td>\n",
       "      <td>14</td>\n",
       "      <td>230.51</td>\n",
       "      <td>Total hip arthroplasty</td>\n",
       "      <td>5115.0</td>\n",
       "      <td>10011</td>\n",
       "      <td>Level 5 Musculoskeletal Procedures</td>\n",
       "      <td>21.0</td>\n",
       "      <td>22</td>\n",
       "      <td>7993.85</td>\n",
       "    </tr>\n",
       "    <tr>\n",
       "      <td>4</td>\n",
       "      <td>1003006115</td>\n",
       "      <td>I</td>\n",
       "      <td>Physician Assistant</td>\n",
       "      <td>F</td>\n",
       "      <td>27130</td>\n",
       "      <td>Replacement of thigh bone and hip joint prosth...</td>\n",
       "      <td>14</td>\n",
       "      <td>230.51</td>\n",
       "      <td>Total hip arthroplasty</td>\n",
       "      <td>5115.0</td>\n",
       "      <td>10016</td>\n",
       "      <td>Level 5 Musculoskeletal Procedures</td>\n",
       "      <td>15.0</td>\n",
       "      <td>15</td>\n",
       "      <td>7845.45</td>\n",
       "    </tr>\n",
       "  </tbody>\n",
       "</table>\n",
       "</div>"
      ],
      "text/plain": [
       "          NPI Entity Type        Provider Type Place of Service HCPCS Code  \\\n",
       "0  1003006115           I  Physician Assistant                F      27130   \n",
       "1  1003006115           I  Physician Assistant                F      27130   \n",
       "2  1003006115           I  Physician Assistant                F      27130   \n",
       "3  1003006115           I  Physician Assistant                F      27130   \n",
       "4  1003006115           I  Physician Assistant                F      27130   \n",
       "\n",
       "                                          HCPCS Desc  \\\n",
       "0  Replacement of thigh bone and hip joint prosth...   \n",
       "1  Replacement of thigh bone and hip joint prosth...   \n",
       "2  Replacement of thigh bone and hip joint prosth...   \n",
       "3  Replacement of thigh bone and hip joint prosth...   \n",
       "4  Replacement of thigh bone and hip joint prosth...   \n",
       "\n",
       "   No. Distinct Medicare Beneficiaries Per Day Services  \\\n",
       "0                                                 14      \n",
       "1                                                 14      \n",
       "2                                                 14      \n",
       "3                                                 14      \n",
       "4                                                 14      \n",
       "\n",
       "   Avg Medicare Amt Allowed                APC Desc     APC  Provider_ID  \\\n",
       "0                    230.51  Total hip arthroplasty  5115.0        10001   \n",
       "1                    230.51  Total hip arthroplasty  5115.0        10005   \n",
       "2                    230.51  Total hip arthroplasty  5115.0        10006   \n",
       "3                    230.51  Total hip arthroplasty  5115.0        10011   \n",
       "4                    230.51  Total hip arthroplasty  5115.0        10016   \n",
       "\n",
       "                             APC_Desc  Beneficiaries  CAPC_Services  \\\n",
       "0  Level 5 Musculoskeletal Procedures           59.0             59   \n",
       "1  Level 5 Musculoskeletal Procedures           25.0             25   \n",
       "2  Level 5 Musculoskeletal Procedures           15.0             16   \n",
       "3  Level 5 Musculoskeletal Procedures           21.0             22   \n",
       "4  Level 5 Musculoskeletal Procedures           15.0             15   \n",
       "\n",
       "   Average_Medicare_Allowed_Amount  \n",
       "0                          8078.53  \n",
       "1                          8321.96  \n",
       "2                          7624.83  \n",
       "3                          7993.85  \n",
       "4                          7845.45  "
      ]
     },
     "execution_count": 117,
     "metadata": {},
     "output_type": "execute_result"
    }
   ],
   "source": [
    "Filter8 = F7_with_d2['Provider Type'].isin(['Orthopedic Surgery', 'Physician Assistant'])\n",
    "F8=F7_with_d2[Filter8]\n",
    "F8.head()"
   ]
  },
  {
   "cell_type": "code",
   "execution_count": 118,
   "metadata": {},
   "outputs": [
    {
     "data": {
      "text/plain": [
       "<matplotlib.axes._subplots.AxesSubplot at 0x2acc7510588>"
      ]
     },
     "execution_count": 118,
     "metadata": {},
     "output_type": "execute_result"
    },
    {
     "data": {
      "image/png": "[encoded data removed]",
      "text/plain": [
       "<Figure size 432x288 with 1 Axes>"
      ]
     },
     "metadata": {
      "needs_background": "light"
     },
     "output_type": "display_data"
    }
   ],
   "source": [
    "F8['Avg Medicare Amt Allowed'].plot.hist()"
   ]
  },
  {
   "cell_type": "code",
   "execution_count": 109,
   "metadata": {},
   "outputs": [
    {
     "data": {
      "text/plain": [
       "<matplotlib.axes._subplots.AxesSubplot at 0x2acfbe36908>"
      ]
     },
     "execution_count": 109,
     "metadata": {},
     "output_type": "execute_result"
    },
    {
     "data": {
      "image/png": "[encoded data removed]",
      "text/plain": [
       "<Figure size 432x288 with 1 Axes>"
      ]
     },
     "metadata": {
      "needs_background": "light"
     },
     "output_type": "display_data"
    }
   ],
   "source": [
    "F7_with_d2['Avg Medicare Amt Allowed'].plot.hist()"
   ]
  },
  {
   "cell_type": "code",
   "execution_count": 110,
   "metadata": {},
   "outputs": [
    {
     "data": {
      "text/plain": [
       "<matplotlib.axes._subplots.AxesSubplot at 0x2acfa861048>"
      ]
     },
     "execution_count": 110,
     "metadata": {},
     "output_type": "execute_result"
    },
    {
     "data": {
      "image/png": "[encoded data removed]",
      "text/plain": [
       "<Figure size 432x288 with 1 Axes>"
      ]
     },
     "metadata": {
      "needs_background": "light"
     },
     "output_type": "display_data"
    }
   ],
   "source": [
    "F7_with_d2['Average_Medicare_Allowed_Amount'].plot.hist()"
   ]
  },
  {
   "cell_type": "code",
   "execution_count": 111,
   "metadata": {},
   "outputs": [
    {
     "ename": "SyntaxError",
     "evalue": "unexpected EOF while parsing (<ipython-input-111-c5414e3650a1>, line 1)",
     "output_type": "error",
     "traceback": [
      "\u001b[1;36m  File \u001b[1;32m\"<ipython-input-111-c5414e3650a1>\"\u001b[1;36m, line \u001b[1;32m1\u001b[0m\n\u001b[1;33m    all_tables=pd.merge(d1_d3_nn, d4, on=\u001b[0m\n\u001b[1;37m                                         ^\u001b[0m\n\u001b[1;31mSyntaxError\u001b[0m\u001b[1;31m:\u001b[0m unexpected EOF while parsing\n"
     ]
    }
   ],
   "source": [
    "all_tables=pd.merge(d1_d3_nn, d4, on="
   ]
  }
 ],
 "metadata": {
  "kernelspec": {
   "display_name": "Python 3",
   "language": "python",
   "name": "python3"
  },
  "language_info": {
   "codemirror_mode": {
    "name": "ipython",
    "version": 3
   },
   "file_extension": ".py",
   "mimetype": "text/x-python",
   "name": "python",
   "nbconvert_exporter": "python",
   "pygments_lexer": "ipython3",
   "version": "3.7.4"
  }
 },
 "nbformat": 4,
 "nbformat_minor": 2
}
