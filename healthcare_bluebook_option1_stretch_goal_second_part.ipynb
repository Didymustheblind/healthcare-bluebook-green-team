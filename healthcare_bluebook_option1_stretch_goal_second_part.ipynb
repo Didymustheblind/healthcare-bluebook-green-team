{
 "cells": [
  {
   "cell_type": "markdown",
   "metadata": {},
   "source": [
    "Question: How much are nearby Hospitals and Ambulatory Surgical Centers (surgery centers) paid for the same procedure / in the same area?"
   ]
  },
  {
   "cell_type": "code",
   "execution_count": 1,
   "metadata": {},
   "outputs": [],
   "source": [
    "import pandas as pd \n",
    "import numpy as np  \n",
    "import matplotlib.pyplot as plt  \n",
    "\n",
    "\n",
    "import seaborn as sns"
   ]
  },
  {
   "cell_type": "code",
   "execution_count": 2,
   "metadata": {},
   "outputs": [],
   "source": [
    "%matplotlib inline"
   ]
  },
  {
   "cell_type": "markdown",
   "metadata": {},
   "source": [
    "d1 = Medicare Provider Utilization and Payment Data: Physician and Other Supplier PUF CY2017"
   ]
  },
  {
   "cell_type": "markdown",
   "metadata": {},
   "source": [
    "Note: in the hopes of avoiding memory problems, I am only reading in the following columns:\n",
    "National Provider Identifier                                  \n",
    "Last Name/Organization Name of the Provider                  \n",
    "Entity Type of the Provider\n",
    "City of the Provider                                         \n",
    "Zip Code of the Provider                                     \n",
    "State Code of the Provider                                   \n",
    "Provider Type                                                \n",
    "Place of Service                                             \n",
    "HCPCS Code                                                   \n",
    "HCPCS Description                                            \n",
    "Number of Distinct Medicare Beneficiary/Per Day Services      \n",
    "Average Medicare Allowed Amount                             \n",
    "Average Medicare Payment Amount                             "
   ]
  },
  {
   "cell_type": "code",
   "execution_count": 22,
   "metadata": {},
   "outputs": [
    {
     "data": {
      "text/plain": [
       "National Provider Identifier                                  int64\n",
       "Last Name/Organization Name of the Provider                  object\n",
       "First Name of the Provider                                   object\n",
       "Middle Initial of the Provider                               object\n",
       "Credentials of the Provider                                  object\n",
       "Gender of the Provider                                       object\n",
       "Entity Type of the Provider                                  object\n",
       "Street Address 1 of the Provider                             object\n",
       "Street Address 2 of the Provider                             object\n",
       "City of the Provider                                         object\n",
       "Zip Code of the Provider                                     object\n",
       "State Code of the Provider                                   object\n",
       "Country Code of the Provider                                 object\n",
       "Provider Type                                                object\n",
       "Medicare Participation Indicator                             object\n",
       "Place of Service                                             object\n",
       "HCPCS Code                                                   object\n",
       "HCPCS Description                                            object\n",
       "HCPCS Drug Indicator                                         object\n",
       "Number of Services                                          float64\n",
       "Number of Medicare Beneficiaries                              int64\n",
       "Number of Distinct Medicare Beneficiary/Per Day Services      int64\n",
       "Average Medicare Allowed Amount                             float64\n",
       "Average Submitted Charge Amount                             float64\n",
       "Average Medicare Payment Amount                             float64\n",
       "Average Medicare Standardized Amount                        float64\n",
       "dtype: object"
      ]
     },
     "execution_count": 22,
     "metadata": {},
     "output_type": "execute_result"
    }
   ],
   "source": [
    "pd.read_csv('c:/users/erinm/Documents/healthcare-bluebook-green-team/data/Medicare_Provider_Utilization_and_Payment_Data__Physician_and_Other_Supplier_PUF_CY2017.tsv', sep='\\t').dtypes"
   ]
  },
  {
   "cell_type": "code",
   "execution_count": 23,
   "metadata": {},
   "outputs": [
    {
     "data": {
      "text/plain": [
       "(9847443, 13)"
      ]
     },
     "execution_count": 23,
     "metadata": {},
     "output_type": "execute_result"
    }
   ],
   "source": [
    "d1=pd.read_csv(\n",
    "        'c:/users/erinm/Documents/healthcare-bluebook-green-team/data/Medicare_Provider_Utilization_and_Payment_Data__Physician_and_Other_Supplier_PUF_CY2017.tsv', \n",
    "        sep='\\t',\n",
    "        usecols=['National Provider Identifier', \n",
    "                 'Last Name/Organization Name of the Provider',\n",
    "                 'Entity Type of the Provider',\n",
    "                 'City of the Provider', \n",
    "                 'Zip Code of the Provider', \n",
    "                 'State Code of the Provider',\n",
    "                 'Provider Type',\n",
    "                 'Place of Service',\n",
    "                 'HCPCS Code', \n",
    "                 'HCPCS Description', \n",
    "                 'Number of Distinct Medicare Beneficiary/Per Day Services', \n",
    "                 'Average Medicare Allowed Amount', \n",
    "                 'Average Medicare Payment Amount']\n",
    ")     \n",
    "d1.shape"
   ]
  },
  {
   "cell_type": "code",
   "execution_count": 24,
   "metadata": {},
   "outputs": [],
   "source": [
    "d1.columns = ['npi', 'last_name', 'entity_type', 'city', 'orig_zip', 'state', 'provider_type', 'place_of_service', 'hcpcs_code', 'hcpcs_desc', 'no_dist_ben_per_day_svcs', 'avg_med_allowed_amt', 'avg_med_pay_amt']"
   ]
  },
  {
   "cell_type": "code",
   "execution_count": 30,
   "metadata": {},
   "outputs": [
    {
     "data": {
      "text/plain": [
       "(9847443, 13)"
      ]
     },
     "execution_count": 30,
     "metadata": {},
     "output_type": "execute_result"
    }
   ],
   "source": [
    "d1.loc[:,'zip']= d1['orig_zip'].astype(str).str[:5]\n",
    "del d1['orig_zip']\n",
    "d1.shape"
   ]
  },
  {
   "cell_type": "code",
   "execution_count": 31,
   "metadata": {},
   "outputs": [
    {
     "data": {
      "text/html": [
       "<div>\n",
       "<style scoped>\n",
       "    .dataframe tbody tr th:only-of-type {\n",
       "        vertical-align: middle;\n",
       "    }\n",
       "\n",
       "    .dataframe tbody tr th {\n",
       "        vertical-align: top;\n",
       "    }\n",
       "\n",
       "    .dataframe thead th {\n",
       "        text-align: right;\n",
       "    }\n",
       "</style>\n",
       "<table border=\"1\" class=\"dataframe\">\n",
       "  <thead>\n",
       "    <tr style=\"text-align: right;\">\n",
       "      <th></th>\n",
       "      <th>npi</th>\n",
       "      <th>last_name</th>\n",
       "      <th>entity_type</th>\n",
       "      <th>city</th>\n",
       "      <th>state</th>\n",
       "      <th>provider_type</th>\n",
       "      <th>place_of_service</th>\n",
       "      <th>hcpcs_code</th>\n",
       "      <th>hcpcs_desc</th>\n",
       "      <th>no_dist_ben_per_day_svcs</th>\n",
       "      <th>avg_med_allowed_amt</th>\n",
       "      <th>avg_med_pay_amt</th>\n",
       "      <th>zip</th>\n",
       "    </tr>\n",
       "  </thead>\n",
       "  <tbody>\n",
       "    <tr>\n",
       "      <td>0</td>\n",
       "      <td>1003000126</td>\n",
       "      <td>ENKESHAFI</td>\n",
       "      <td>I</td>\n",
       "      <td>CUMBERLAND</td>\n",
       "      <td>MD</td>\n",
       "      <td>Internal Medicine</td>\n",
       "      <td>F</td>\n",
       "      <td>99217</td>\n",
       "      <td>Hospital observation care discharge</td>\n",
       "      <td>100</td>\n",
       "      <td>73.398800</td>\n",
       "      <td>56.827200</td>\n",
       "      <td>21502</td>\n",
       "    </tr>\n",
       "    <tr>\n",
       "      <td>1</td>\n",
       "      <td>1003000126</td>\n",
       "      <td>ENKESHAFI</td>\n",
       "      <td>I</td>\n",
       "      <td>CUMBERLAND</td>\n",
       "      <td>MD</td>\n",
       "      <td>Internal Medicine</td>\n",
       "      <td>F</td>\n",
       "      <td>99218</td>\n",
       "      <td>Hospital observation care typically 30 minutes</td>\n",
       "      <td>26</td>\n",
       "      <td>100.080000</td>\n",
       "      <td>78.460000</td>\n",
       "      <td>21502</td>\n",
       "    </tr>\n",
       "    <tr>\n",
       "      <td>2</td>\n",
       "      <td>1003000126</td>\n",
       "      <td>ENKESHAFI</td>\n",
       "      <td>I</td>\n",
       "      <td>CUMBERLAND</td>\n",
       "      <td>MD</td>\n",
       "      <td>Internal Medicine</td>\n",
       "      <td>F</td>\n",
       "      <td>99219</td>\n",
       "      <td>Hospital observation care typically 50 minutes</td>\n",
       "      <td>52</td>\n",
       "      <td>136.380000</td>\n",
       "      <td>102.807692</td>\n",
       "      <td>21502</td>\n",
       "    </tr>\n",
       "    <tr>\n",
       "      <td>3</td>\n",
       "      <td>1003000126</td>\n",
       "      <td>ENKESHAFI</td>\n",
       "      <td>I</td>\n",
       "      <td>CUMBERLAND</td>\n",
       "      <td>MD</td>\n",
       "      <td>Internal Medicine</td>\n",
       "      <td>F</td>\n",
       "      <td>99220</td>\n",
       "      <td>Hospital observation care typically 70 minutes...</td>\n",
       "      <td>59</td>\n",
       "      <td>190.363729</td>\n",
       "      <td>141.293559</td>\n",
       "      <td>21502</td>\n",
       "    </tr>\n",
       "    <tr>\n",
       "      <td>4</td>\n",
       "      <td>1003000126</td>\n",
       "      <td>ENKESHAFI</td>\n",
       "      <td>I</td>\n",
       "      <td>CUMBERLAND</td>\n",
       "      <td>MD</td>\n",
       "      <td>Internal Medicine</td>\n",
       "      <td>F</td>\n",
       "      <td>99221</td>\n",
       "      <td>Initial hospital inpatient care, typically 30 ...</td>\n",
       "      <td>16</td>\n",
       "      <td>101.680000</td>\n",
       "      <td>79.710000</td>\n",
       "      <td>21502</td>\n",
       "    </tr>\n",
       "  </tbody>\n",
       "</table>\n",
       "</div>"
      ],
      "text/plain": [
       "          npi  last_name entity_type        city state      provider_type  \\\n",
       "0  1003000126  ENKESHAFI           I  CUMBERLAND    MD  Internal Medicine   \n",
       "1  1003000126  ENKESHAFI           I  CUMBERLAND    MD  Internal Medicine   \n",
       "2  1003000126  ENKESHAFI           I  CUMBERLAND    MD  Internal Medicine   \n",
       "3  1003000126  ENKESHAFI           I  CUMBERLAND    MD  Internal Medicine   \n",
       "4  1003000126  ENKESHAFI           I  CUMBERLAND    MD  Internal Medicine   \n",
       "\n",
       "  place_of_service hcpcs_code  \\\n",
       "0                F      99217   \n",
       "1                F      99218   \n",
       "2                F      99219   \n",
       "3                F      99220   \n",
       "4                F      99221   \n",
       "\n",
       "                                          hcpcs_desc  \\\n",
       "0                Hospital observation care discharge   \n",
       "1     Hospital observation care typically 30 minutes   \n",
       "2     Hospital observation care typically 50 minutes   \n",
       "3  Hospital observation care typically 70 minutes...   \n",
       "4  Initial hospital inpatient care, typically 30 ...   \n",
       "\n",
       "   no_dist_ben_per_day_svcs  avg_med_allowed_amt  avg_med_pay_amt    zip  \n",
       "0                       100            73.398800        56.827200  21502  \n",
       "1                        26           100.080000        78.460000  21502  \n",
       "2                        52           136.380000       102.807692  21502  \n",
       "3                        59           190.363729       141.293559  21502  \n",
       "4                        16           101.680000        79.710000  21502  "
      ]
     },
     "execution_count": 31,
     "metadata": {},
     "output_type": "execute_result"
    }
   ],
   "source": [
    "d1.head()"
   ]
  },
  {
   "cell_type": "code",
   "execution_count": 32,
   "metadata": {},
   "outputs": [
    {
     "data": {
      "text/html": [
       "<div>\n",
       "<style scoped>\n",
       "    .dataframe tbody tr th:only-of-type {\n",
       "        vertical-align: middle;\n",
       "    }\n",
       "\n",
       "    .dataframe tbody tr th {\n",
       "        vertical-align: top;\n",
       "    }\n",
       "\n",
       "    .dataframe thead th {\n",
       "        text-align: right;\n",
       "    }\n",
       "</style>\n",
       "<table border=\"1\" class=\"dataframe\">\n",
       "  <thead>\n",
       "    <tr style=\"text-align: right;\">\n",
       "      <th></th>\n",
       "      <th>ZIP</th>\n",
       "      <th>CBSA</th>\n",
       "    </tr>\n",
       "  </thead>\n",
       "  <tbody>\n",
       "    <tr>\n",
       "      <td>0</td>\n",
       "      <td>00501</td>\n",
       "      <td>35620</td>\n",
       "    </tr>\n",
       "    <tr>\n",
       "      <td>1</td>\n",
       "      <td>00601</td>\n",
       "      <td>38660</td>\n",
       "    </tr>\n",
       "    <tr>\n",
       "      <td>2</td>\n",
       "      <td>00602</td>\n",
       "      <td>10380</td>\n",
       "    </tr>\n",
       "    <tr>\n",
       "      <td>3</td>\n",
       "      <td>00603</td>\n",
       "      <td>10380</td>\n",
       "    </tr>\n",
       "    <tr>\n",
       "      <td>4</td>\n",
       "      <td>00604</td>\n",
       "      <td>10380</td>\n",
       "    </tr>\n",
       "  </tbody>\n",
       "</table>\n",
       "</div>"
      ],
      "text/plain": [
       "     ZIP   CBSA\n",
       "0  00501  35620\n",
       "1  00601  38660\n",
       "2  00602  10380\n",
       "3  00603  10380\n",
       "4  00604  10380"
      ]
     },
     "execution_count": 32,
     "metadata": {},
     "output_type": "execute_result"
    }
   ],
   "source": [
    "d4 = pd.read_excel('c:/users/erinm/documents/healthcare-bluebook-green-team/data/ZIP_CBSA_032020.xlsx', dtype={'ZIP':'str'}, usecols=[0,1])\n",
    "d4.head()"
   ]
  },
  {
   "cell_type": "code",
   "execution_count": 33,
   "metadata": {},
   "outputs": [],
   "source": [
    "d4.columns = ['zip', 'cbsa']"
   ]
  },
  {
   "cell_type": "code",
   "execution_count": 34,
   "metadata": {},
   "outputs": [
    {
     "data": {
      "text/html": [
       "<div>\n",
       "<style scoped>\n",
       "    .dataframe tbody tr th:only-of-type {\n",
       "        vertical-align: middle;\n",
       "    }\n",
       "\n",
       "    .dataframe tbody tr th {\n",
       "        vertical-align: top;\n",
       "    }\n",
       "\n",
       "    .dataframe thead th {\n",
       "        text-align: right;\n",
       "    }\n",
       "</style>\n",
       "<table border=\"1\" class=\"dataframe\">\n",
       "  <thead>\n",
       "    <tr style=\"text-align: right;\">\n",
       "      <th></th>\n",
       "      <th>npi</th>\n",
       "      <th>last_name</th>\n",
       "      <th>entity_type</th>\n",
       "      <th>city</th>\n",
       "      <th>state</th>\n",
       "      <th>provider_type</th>\n",
       "      <th>place_of_service</th>\n",
       "      <th>hcpcs_code</th>\n",
       "      <th>hcpcs_desc</th>\n",
       "      <th>no_dist_ben_per_day_svcs</th>\n",
       "      <th>avg_med_allowed_amt</th>\n",
       "      <th>avg_med_pay_amt</th>\n",
       "      <th>zip</th>\n",
       "      <th>cbsa</th>\n",
       "    </tr>\n",
       "  </thead>\n",
       "  <tbody>\n",
       "    <tr>\n",
       "      <td>0</td>\n",
       "      <td>1003000126</td>\n",
       "      <td>ENKESHAFI</td>\n",
       "      <td>I</td>\n",
       "      <td>CUMBERLAND</td>\n",
       "      <td>MD</td>\n",
       "      <td>Internal Medicine</td>\n",
       "      <td>F</td>\n",
       "      <td>99217</td>\n",
       "      <td>Hospital observation care discharge</td>\n",
       "      <td>100</td>\n",
       "      <td>73.398800</td>\n",
       "      <td>56.827200</td>\n",
       "      <td>21502</td>\n",
       "      <td>19060</td>\n",
       "    </tr>\n",
       "    <tr>\n",
       "      <td>1</td>\n",
       "      <td>1003000126</td>\n",
       "      <td>ENKESHAFI</td>\n",
       "      <td>I</td>\n",
       "      <td>CUMBERLAND</td>\n",
       "      <td>MD</td>\n",
       "      <td>Internal Medicine</td>\n",
       "      <td>F</td>\n",
       "      <td>99218</td>\n",
       "      <td>Hospital observation care typically 30 minutes</td>\n",
       "      <td>26</td>\n",
       "      <td>100.080000</td>\n",
       "      <td>78.460000</td>\n",
       "      <td>21502</td>\n",
       "      <td>19060</td>\n",
       "    </tr>\n",
       "    <tr>\n",
       "      <td>2</td>\n",
       "      <td>1003000126</td>\n",
       "      <td>ENKESHAFI</td>\n",
       "      <td>I</td>\n",
       "      <td>CUMBERLAND</td>\n",
       "      <td>MD</td>\n",
       "      <td>Internal Medicine</td>\n",
       "      <td>F</td>\n",
       "      <td>99219</td>\n",
       "      <td>Hospital observation care typically 50 minutes</td>\n",
       "      <td>52</td>\n",
       "      <td>136.380000</td>\n",
       "      <td>102.807692</td>\n",
       "      <td>21502</td>\n",
       "      <td>19060</td>\n",
       "    </tr>\n",
       "    <tr>\n",
       "      <td>3</td>\n",
       "      <td>1003000126</td>\n",
       "      <td>ENKESHAFI</td>\n",
       "      <td>I</td>\n",
       "      <td>CUMBERLAND</td>\n",
       "      <td>MD</td>\n",
       "      <td>Internal Medicine</td>\n",
       "      <td>F</td>\n",
       "      <td>99220</td>\n",
       "      <td>Hospital observation care typically 70 minutes...</td>\n",
       "      <td>59</td>\n",
       "      <td>190.363729</td>\n",
       "      <td>141.293559</td>\n",
       "      <td>21502</td>\n",
       "      <td>19060</td>\n",
       "    </tr>\n",
       "    <tr>\n",
       "      <td>4</td>\n",
       "      <td>1003000126</td>\n",
       "      <td>ENKESHAFI</td>\n",
       "      <td>I</td>\n",
       "      <td>CUMBERLAND</td>\n",
       "      <td>MD</td>\n",
       "      <td>Internal Medicine</td>\n",
       "      <td>F</td>\n",
       "      <td>99221</td>\n",
       "      <td>Initial hospital inpatient care, typically 30 ...</td>\n",
       "      <td>16</td>\n",
       "      <td>101.680000</td>\n",
       "      <td>79.710000</td>\n",
       "      <td>21502</td>\n",
       "      <td>19060</td>\n",
       "    </tr>\n",
       "    <tr>\n",
       "      <td>...</td>\n",
       "      <td>...</td>\n",
       "      <td>...</td>\n",
       "      <td>...</td>\n",
       "      <td>...</td>\n",
       "      <td>...</td>\n",
       "      <td>...</td>\n",
       "      <td>...</td>\n",
       "      <td>...</td>\n",
       "      <td>...</td>\n",
       "      <td>...</td>\n",
       "      <td>...</td>\n",
       "      <td>...</td>\n",
       "      <td>...</td>\n",
       "      <td>...</td>\n",
       "    </tr>\n",
       "    <tr>\n",
       "      <td>10491617</td>\n",
       "      <td>1992990154</td>\n",
       "      <td>YOUNG</td>\n",
       "      <td>I</td>\n",
       "      <td>GILBERT</td>\n",
       "      <td>AZ</td>\n",
       "      <td>Physical Therapist in Private Practice</td>\n",
       "      <td>O</td>\n",
       "      <td>97110</td>\n",
       "      <td>Therapeutic exercise to develop strength, endu...</td>\n",
       "      <td>338</td>\n",
       "      <td>27.452543</td>\n",
       "      <td>21.212526</td>\n",
       "      <td>85246</td>\n",
       "      <td>38060</td>\n",
       "    </tr>\n",
       "    <tr>\n",
       "      <td>10491618</td>\n",
       "      <td>1992990154</td>\n",
       "      <td>YOUNG</td>\n",
       "      <td>I</td>\n",
       "      <td>GILBERT</td>\n",
       "      <td>AZ</td>\n",
       "      <td>Physical Therapist in Private Practice</td>\n",
       "      <td>O</td>\n",
       "      <td>97112</td>\n",
       "      <td>Therapeutic procedure to re-educate brain-to-n...</td>\n",
       "      <td>116</td>\n",
       "      <td>31.496838</td>\n",
       "      <td>23.968309</td>\n",
       "      <td>85246</td>\n",
       "      <td>38060</td>\n",
       "    </tr>\n",
       "    <tr>\n",
       "      <td>10491619</td>\n",
       "      <td>1992990154</td>\n",
       "      <td>YOUNG</td>\n",
       "      <td>I</td>\n",
       "      <td>GILBERT</td>\n",
       "      <td>AZ</td>\n",
       "      <td>Physical Therapist in Private Practice</td>\n",
       "      <td>O</td>\n",
       "      <td>97140</td>\n",
       "      <td>Manual (physical) therapy techniques to 1 or m...</td>\n",
       "      <td>329</td>\n",
       "      <td>22.761894</td>\n",
       "      <td>17.583320</td>\n",
       "      <td>85246</td>\n",
       "      <td>38060</td>\n",
       "    </tr>\n",
       "    <tr>\n",
       "      <td>10491620</td>\n",
       "      <td>1992990154</td>\n",
       "      <td>YOUNG</td>\n",
       "      <td>I</td>\n",
       "      <td>GILBERT</td>\n",
       "      <td>AZ</td>\n",
       "      <td>Physical Therapist in Private Practice</td>\n",
       "      <td>O</td>\n",
       "      <td>97162</td>\n",
       "      <td>Evaluation of physical therapy, typically 30 m...</td>\n",
       "      <td>18</td>\n",
       "      <td>81.520000</td>\n",
       "      <td>60.368889</td>\n",
       "      <td>85246</td>\n",
       "      <td>38060</td>\n",
       "    </tr>\n",
       "    <tr>\n",
       "      <td>10491621</td>\n",
       "      <td>1992990154</td>\n",
       "      <td>YOUNG</td>\n",
       "      <td>I</td>\n",
       "      <td>GILBERT</td>\n",
       "      <td>AZ</td>\n",
       "      <td>Physical Therapist in Private Practice</td>\n",
       "      <td>O</td>\n",
       "      <td>G0283</td>\n",
       "      <td>Electrical stimulation (unattended), to one or...</td>\n",
       "      <td>99</td>\n",
       "      <td>10.310000</td>\n",
       "      <td>7.835152</td>\n",
       "      <td>85246</td>\n",
       "      <td>38060</td>\n",
       "    </tr>\n",
       "  </tbody>\n",
       "</table>\n",
       "<p>10491622 rows × 14 columns</p>\n",
       "</div>"
      ],
      "text/plain": [
       "                 npi  last_name entity_type        city state  \\\n",
       "0         1003000126  ENKESHAFI           I  CUMBERLAND    MD   \n",
       "1         1003000126  ENKESHAFI           I  CUMBERLAND    MD   \n",
       "2         1003000126  ENKESHAFI           I  CUMBERLAND    MD   \n",
       "3         1003000126  ENKESHAFI           I  CUMBERLAND    MD   \n",
       "4         1003000126  ENKESHAFI           I  CUMBERLAND    MD   \n",
       "...              ...        ...         ...         ...   ...   \n",
       "10491617  1992990154      YOUNG           I     GILBERT    AZ   \n",
       "10491618  1992990154      YOUNG           I     GILBERT    AZ   \n",
       "10491619  1992990154      YOUNG           I     GILBERT    AZ   \n",
       "10491620  1992990154      YOUNG           I     GILBERT    AZ   \n",
       "10491621  1992990154      YOUNG           I     GILBERT    AZ   \n",
       "\n",
       "                                   provider_type place_of_service hcpcs_code  \\\n",
       "0                              Internal Medicine                F      99217   \n",
       "1                              Internal Medicine                F      99218   \n",
       "2                              Internal Medicine                F      99219   \n",
       "3                              Internal Medicine                F      99220   \n",
       "4                              Internal Medicine                F      99221   \n",
       "...                                          ...              ...        ...   \n",
       "10491617  Physical Therapist in Private Practice                O      97110   \n",
       "10491618  Physical Therapist in Private Practice                O      97112   \n",
       "10491619  Physical Therapist in Private Practice                O      97140   \n",
       "10491620  Physical Therapist in Private Practice                O      97162   \n",
       "10491621  Physical Therapist in Private Practice                O      G0283   \n",
       "\n",
       "                                                 hcpcs_desc  \\\n",
       "0                       Hospital observation care discharge   \n",
       "1            Hospital observation care typically 30 minutes   \n",
       "2            Hospital observation care typically 50 minutes   \n",
       "3         Hospital observation care typically 70 minutes...   \n",
       "4         Initial hospital inpatient care, typically 30 ...   \n",
       "...                                                     ...   \n",
       "10491617  Therapeutic exercise to develop strength, endu...   \n",
       "10491618  Therapeutic procedure to re-educate brain-to-n...   \n",
       "10491619  Manual (physical) therapy techniques to 1 or m...   \n",
       "10491620  Evaluation of physical therapy, typically 30 m...   \n",
       "10491621  Electrical stimulation (unattended), to one or...   \n",
       "\n",
       "          no_dist_ben_per_day_svcs  avg_med_allowed_amt  avg_med_pay_amt  \\\n",
       "0                              100            73.398800        56.827200   \n",
       "1                               26           100.080000        78.460000   \n",
       "2                               52           136.380000       102.807692   \n",
       "3                               59           190.363729       141.293559   \n",
       "4                               16           101.680000        79.710000   \n",
       "...                            ...                  ...              ...   \n",
       "10491617                       338            27.452543        21.212526   \n",
       "10491618                       116            31.496838        23.968309   \n",
       "10491619                       329            22.761894        17.583320   \n",
       "10491620                        18            81.520000        60.368889   \n",
       "10491621                        99            10.310000         7.835152   \n",
       "\n",
       "            zip   cbsa  \n",
       "0         21502  19060  \n",
       "1         21502  19060  \n",
       "2         21502  19060  \n",
       "3         21502  19060  \n",
       "4         21502  19060  \n",
       "...         ...    ...  \n",
       "10491617  85246  38060  \n",
       "10491618  85246  38060  \n",
       "10491619  85246  38060  \n",
       "10491620  85246  38060  \n",
       "10491621  85246  38060  \n",
       "\n",
       "[10491622 rows x 14 columns]"
      ]
     },
     "execution_count": 34,
     "metadata": {},
     "output_type": "execute_result"
    }
   ],
   "source": [
    "provider_cbsas = pd.merge(d1, d4, on=('zip'), how='inner')\n",
    "provider_cbsas"
   ]
  },
  {
   "cell_type": "markdown",
   "metadata": {},
   "source": [
    "## Option 1 Stretch Goal (2nd part)\n",
    "Filters for Physician/Other Supplier\n",
    "Entity Type = I\n",
    "Place of Service = O\n",
    "HCPCS = 99213 (or any office visit – 99211-99215 / 99201-99205)\n",
    "\n",
    "EA note: HCPCS 99211-15 are office/outpatient visits for ESTABLISHED patients, for 5, 10, 15, 25, & 40 min; \n",
    "         HCPCS 99201-05 are office/outpatient visits for NEW patients, for 10, 20, 30, 45, and 65 mins."
   ]
  },
  {
   "cell_type": "code",
   "execution_count": 53,
   "metadata": {},
   "outputs": [
    {
     "data": {
      "text/plain": [
       "(6179882, 14)"
      ]
     },
     "execution_count": 53,
     "metadata": {},
     "output_type": "execute_result"
    }
   ],
   "source": [
    "#constant filters\n",
    "filter1 = provider_cbsas['entity_type'].isin(['I'])\n",
    "filter2 = provider_cbsas['place_of_service'].isin(['O'])\n",
    "\n",
    "constant_filters = provider_cbsas[filter1 & filter2]\n",
    "constant_filters.shape"
   ]
  },
  {
   "cell_type": "code",
   "execution_count": 36,
   "metadata": {},
   "outputs": [
    {
     "data": {
      "text/plain": [
       "(1083167, 14)"
      ]
     },
     "execution_count": 36,
     "metadata": {},
     "output_type": "execute_result"
    }
   ],
   "source": [
    "#variable filter 3 (hcpcs)\n",
    "\n",
    "#new patient HCPCS\n",
    "#filter3_new = d1['hcpcs_code'].isin(['99201', '99202', '99203', '99204', '99205'])\n",
    "\n",
    "#est patient HCPCS\n",
    "filter3_est = constant_filters['hcpcs_code'].isin(['99211','99212','99213','99214','99215'])\n",
    "\n",
    "\n",
    "hcpcs_filter = constant_filters[filter3_est]\n",
    "hcpcs_filter.shape"
   ]
  },
  {
   "cell_type": "code",
   "execution_count": 38,
   "metadata": {},
   "outputs": [
    {
     "data": {
      "text/html": [
       "<div>\n",
       "<style scoped>\n",
       "    .dataframe tbody tr th:only-of-type {\n",
       "        vertical-align: middle;\n",
       "    }\n",
       "\n",
       "    .dataframe tbody tr th {\n",
       "        vertical-align: top;\n",
       "    }\n",
       "\n",
       "    .dataframe thead th {\n",
       "        text-align: right;\n",
       "    }\n",
       "</style>\n",
       "<table border=\"1\" class=\"dataframe\">\n",
       "  <thead>\n",
       "    <tr style=\"text-align: right;\">\n",
       "      <th></th>\n",
       "      <th>npi</th>\n",
       "      <th>last_name</th>\n",
       "      <th>entity_type</th>\n",
       "      <th>city</th>\n",
       "      <th>state</th>\n",
       "      <th>provider_type</th>\n",
       "      <th>place_of_service</th>\n",
       "      <th>hcpcs_code</th>\n",
       "      <th>hcpcs_desc</th>\n",
       "      <th>no_dist_ben_per_day_svcs</th>\n",
       "      <th>avg_med_allowed_amt</th>\n",
       "      <th>avg_med_pay_amt</th>\n",
       "      <th>zip</th>\n",
       "      <th>cbsa</th>\n",
       "    </tr>\n",
       "  </thead>\n",
       "  <tbody>\n",
       "    <tr>\n",
       "      <td>39</td>\n",
       "      <td>1003826983</td>\n",
       "      <td>FOSTER</td>\n",
       "      <td>I</td>\n",
       "      <td>CUMBERLAND</td>\n",
       "      <td>MD</td>\n",
       "      <td>Pain Management</td>\n",
       "      <td>O</td>\n",
       "      <td>99212</td>\n",
       "      <td>Established patient office or other outpatient...</td>\n",
       "      <td>13</td>\n",
       "      <td>45.280000</td>\n",
       "      <td>32.769231</td>\n",
       "      <td>21502</td>\n",
       "      <td>19060</td>\n",
       "    </tr>\n",
       "    <tr>\n",
       "      <td>40</td>\n",
       "      <td>1003826983</td>\n",
       "      <td>FOSTER</td>\n",
       "      <td>I</td>\n",
       "      <td>CUMBERLAND</td>\n",
       "      <td>MD</td>\n",
       "      <td>Pain Management</td>\n",
       "      <td>O</td>\n",
       "      <td>99213</td>\n",
       "      <td>Established patient office or other outpatient...</td>\n",
       "      <td>48</td>\n",
       "      <td>75.700000</td>\n",
       "      <td>57.361667</td>\n",
       "      <td>21502</td>\n",
       "      <td>19060</td>\n",
       "    </tr>\n",
       "    <tr>\n",
       "      <td>41</td>\n",
       "      <td>1003826983</td>\n",
       "      <td>FOSTER</td>\n",
       "      <td>I</td>\n",
       "      <td>CUMBERLAND</td>\n",
       "      <td>MD</td>\n",
       "      <td>Pain Management</td>\n",
       "      <td>O</td>\n",
       "      <td>99214</td>\n",
       "      <td>Established patient office or other outpatient...</td>\n",
       "      <td>3078</td>\n",
       "      <td>111.280000</td>\n",
       "      <td>81.841462</td>\n",
       "      <td>21502</td>\n",
       "      <td>19060</td>\n",
       "    </tr>\n",
       "    <tr>\n",
       "      <td>42</td>\n",
       "      <td>1003826983</td>\n",
       "      <td>FOSTER</td>\n",
       "      <td>I</td>\n",
       "      <td>CUMBERLAND</td>\n",
       "      <td>MD</td>\n",
       "      <td>Pain Management</td>\n",
       "      <td>O</td>\n",
       "      <td>99215</td>\n",
       "      <td>Established patient office or other outpatient...</td>\n",
       "      <td>54</td>\n",
       "      <td>149.770000</td>\n",
       "      <td>104.812593</td>\n",
       "      <td>21502</td>\n",
       "      <td>19060</td>\n",
       "    </tr>\n",
       "    <tr>\n",
       "      <td>49</td>\n",
       "      <td>1003951625</td>\n",
       "      <td>MATYASIK</td>\n",
       "      <td>I</td>\n",
       "      <td>CUMBERLAND</td>\n",
       "      <td>MD</td>\n",
       "      <td>Pulmonary Disease</td>\n",
       "      <td>O</td>\n",
       "      <td>99213</td>\n",
       "      <td>Established patient office or other outpatient...</td>\n",
       "      <td>596</td>\n",
       "      <td>75.689279</td>\n",
       "      <td>53.417550</td>\n",
       "      <td>21502</td>\n",
       "      <td>19060</td>\n",
       "    </tr>\n",
       "  </tbody>\n",
       "</table>\n",
       "</div>"
      ],
      "text/plain": [
       "           npi last_name entity_type        city state      provider_type  \\\n",
       "39  1003826983    FOSTER           I  CUMBERLAND    MD    Pain Management   \n",
       "40  1003826983    FOSTER           I  CUMBERLAND    MD    Pain Management   \n",
       "41  1003826983    FOSTER           I  CUMBERLAND    MD    Pain Management   \n",
       "42  1003826983    FOSTER           I  CUMBERLAND    MD    Pain Management   \n",
       "49  1003951625  MATYASIK           I  CUMBERLAND    MD  Pulmonary Disease   \n",
       "\n",
       "   place_of_service hcpcs_code  \\\n",
       "39                O      99212   \n",
       "40                O      99213   \n",
       "41                O      99214   \n",
       "42                O      99215   \n",
       "49                O      99213   \n",
       "\n",
       "                                           hcpcs_desc  \\\n",
       "39  Established patient office or other outpatient...   \n",
       "40  Established patient office or other outpatient...   \n",
       "41  Established patient office or other outpatient...   \n",
       "42  Established patient office or other outpatient...   \n",
       "49  Established patient office or other outpatient...   \n",
       "\n",
       "    no_dist_ben_per_day_svcs  avg_med_allowed_amt  avg_med_pay_amt    zip  \\\n",
       "39                        13            45.280000        32.769231  21502   \n",
       "40                        48            75.700000        57.361667  21502   \n",
       "41                      3078           111.280000        81.841462  21502   \n",
       "42                        54           149.770000       104.812593  21502   \n",
       "49                       596            75.689279        53.417550  21502   \n",
       "\n",
       "     cbsa  \n",
       "39  19060  \n",
       "40  19060  \n",
       "41  19060  \n",
       "42  19060  \n",
       "49  19060  "
      ]
     },
     "execution_count": 38,
     "metadata": {},
     "output_type": "execute_result"
    }
   ],
   "source": [
    "hcpcs_filter.head()"
   ]
  },
  {
   "cell_type": "code",
   "execution_count": 40,
   "metadata": {},
   "outputs": [
    {
     "data": {
      "text/plain": [
       "Established patient office or other outpatient visit, typically 15 minutes    427247\n",
       "Established patient office or other outpatient, visit typically 25 minutes    392403\n",
       "Established patient office or other outpatient visit, typically 10 minutes    129055\n",
       "Established patient office or other outpatient, visit typically 40 minutes    101891\n",
       "Established patient office or other outpatient visit, typically 5 minutes      32571\n",
       "Name: hcpcs_desc, dtype: int64"
      ]
     },
     "execution_count": 40,
     "metadata": {},
     "output_type": "execute_result"
    }
   ],
   "source": [
    "hcpcs_filter['hcpcs_desc'].value_counts()"
   ]
  },
  {
   "cell_type": "code",
   "execution_count": 42,
   "metadata": {},
   "outputs": [
    {
     "data": {
      "text/plain": [
       "Family Practice                                   176850\n",
       "Internal Medicine                                 136543\n",
       "Nurse Practitioner                                129187\n",
       "Physician Assistant                                78970\n",
       "Orthopedic Surgery                                 45547\n",
       "                                                   ...  \n",
       "Physical Therapist in Private Practice                 3\n",
       "Chiropractic                                           3\n",
       "Registered Dietitian or Nutrition Professional         2\n",
       "Speech Language Pathologist                            1\n",
       "Licensed Clinical Social Worker                        1\n",
       "Name: provider_type, Length: 76, dtype: int64"
      ]
     },
     "execution_count": 42,
     "metadata": {},
     "output_type": "execute_result"
    }
   ],
   "source": [
    "hcpcs_filter['provider_type'].value_counts()"
   ]
  },
  {
   "cell_type": "markdown",
   "metadata": {},
   "source": [
    "Since 99203 (office/outpatient visit for 30 min) is the most frequent for new patients, I use that one first.\n",
    "Compare to 99214 (estab patient, 25 min, which is 2nd most populous)"
   ]
  },
  {
   "cell_type": "code",
   "execution_count": 76,
   "metadata": {},
   "outputs": [
    {
     "ename": "AttributeError",
     "evalue": "'list' object has no attribute 'head'",
     "output_type": "error",
     "traceback": [
      "\u001b[1;31m---------------------------------------------------------------------------\u001b[0m",
      "\u001b[1;31mAttributeError\u001b[0m                            Traceback (most recent call last)",
      "\u001b[1;32m<ipython-input-76-402f06b75918>\u001b[0m in \u001b[0;36m<module>\u001b[1;34m\u001b[0m\n\u001b[0;32m     28\u001b[0m \u001b[1;31m#est_chi_famprac = [filter_hcpcs_estpat & filter_cbsa_chi & filter_prov_famprac]\u001b[0m\u001b[1;33m\u001b[0m\u001b[1;33m\u001b[0m\u001b[1;33m\u001b[0m\u001b[0m\n\u001b[0;32m     29\u001b[0m \u001b[1;33m\u001b[0m\u001b[0m\n\u001b[1;32m---> 30\u001b[1;33m \u001b[0mnew_atl_np\u001b[0m\u001b[1;33m.\u001b[0m\u001b[0mhead\u001b[0m\u001b[1;33m(\u001b[0m\u001b[1;33m)\u001b[0m\u001b[1;33m\u001b[0m\u001b[1;33m\u001b[0m\u001b[0m\n\u001b[0m",
      "\u001b[1;31mAttributeError\u001b[0m: 'list' object has no attribute 'head'"
     ]
    }
   ],
   "source": [
    "#variable filters (hcpcs, cbsas, provider type)\n",
    "\n",
    "# HCPCS\n",
    "filter_hcpcs_newpat = constant_filters['hcpcs_code'].isin(['99203'])\n",
    "filter_hcpcs_estpat = constant_filters['hcpcs_code'].isin(['99214'])\n",
    "\n",
    "#cbsas\n",
    "filter_cbsa_nash = constant_filters['cbsa'].isin(['34980'])\n",
    "filter_cbsa_atl = constant_filters['cbsa'].isin(['12060'])\n",
    "filter_cbsa_chi = constant_filters['cbsa'].isin(['16980'])\n",
    "\n",
    "#provider type\n",
    "filter_prov_np = constant_filters['provider_type'].isin(['Nurse Practitioner'])\n",
    "filter_prov_famprac = constant_filters['provider_type'].isin(['Family Practice'])\n",
    "\n",
    "#new_nash_np = constant_filters[filter_hcpcs_newpat & filter_cbsa_nash & filter_prov_np]\n",
    "#new_nash_famprac = [filter_hcpcs_newpat & filter_cbsa_nash & filter_prov_famprac]\n",
    "new_atl_np = [filter_hcpcs_newpat & filter_cbsa_atl & filter_prov_np]\n",
    "#new_atl_famprac =[filter_hcpcs_newpat & filter_cbsa_atl & filter_prov_famprac]\n",
    "#new_chi_np = [filter_hcpcs_newpat & filter_cbsa_chi & filter_prov_np]\n",
    "#new_chi_famprac = [[filter_hcpcs_newpat & filter_cbsa_chi & filter_prov_famprac]\n",
    "\n",
    "#est_nash_np = constant_filters[filter_hcpcs_estpat & filter_cbsa_nash & filter_prov_np]\n",
    "#est_nash_famprac = [filter_hcpcs_estpat & filter_cbsa_nash & filter_prov_famprac]\n",
    "#est_atl_np = [filter_hcpcs_estpat & filter_cbsa_atl & filter_prov_np]\n",
    "#est_atl_famprac = [filter_hcpcs_estpat & filter_cbsa_atl & filter_prov_famprac]\n",
    "#est_chi_np = [filter_hcpcs_estpat & filter_cbsa_chi & filter_prov_np]\n",
    "#est_chi_famprac = [filter_hcpcs_estpat & filter_cbsa_chi & filter_prov_famprac]\n",
    "\n",
    "new_atl_np.head()\n"
   ]
  },
  {
   "cell_type": "code",
   "execution_count": 103,
   "metadata": {},
   "outputs": [
    {
     "data": {
      "text/plain": [
       "(679, 14)"
      ]
     },
     "execution_count": 103,
     "metadata": {},
     "output_type": "execute_result"
    }
   ],
   "source": [
    "#variable filters (hcpcs, cbsas, provider type)\n",
    "\n",
    "# HCPCS\n",
    "filter_hcpcs_estpat = constant_filters['hcpcs_code'].isin(['99214'])\n",
    "\n",
    "#cbsas\n",
    "filter_cbsa_nash = constant_filters['cbsa'].isin(['34980'])\n",
    "\n",
    "\n",
    "#provider type\n",
    "filter_prov_famprac = constant_filters['provider_type'].isin(['Nurse Practitioner'])\n",
    "\n",
    "new_nash_famprac= constant_filters[filter_hcpcs_estpat & filter_cbsa_nash & filter_prov_famprac]\n",
    "\n",
    "new_nash_famprac.shape"
   ]
  },
  {
   "cell_type": "code",
   "execution_count": 104,
   "metadata": {},
   "outputs": [
    {
     "data": {
      "text/plain": [
       "count    679.000000\n",
       "mean      86.099169\n",
       "std        2.318339\n",
       "min       64.380000\n",
       "25%       86.308966\n",
       "50%       86.620000\n",
       "75%       86.620000\n",
       "max       92.940000\n",
       "Name: avg_med_allowed_amt, dtype: float64"
      ]
     },
     "execution_count": 104,
     "metadata": {},
     "output_type": "execute_result"
    }
   ],
   "source": [
    "new_nash_famprac['avg_med_allowed_amt'].describe()"
   ]
  },
  {
   "cell_type": "code",
   "execution_count": 85,
   "metadata": {},
   "outputs": [
    {
     "data": {
      "text/plain": [
       "count    323.000000\n",
       "mean      33.235294\n",
       "std       27.877511\n",
       "min       11.000000\n",
       "25%       15.000000\n",
       "50%       23.000000\n",
       "75%       39.000000\n",
       "max      212.000000\n",
       "Name: no_dist_ben_per_day_svcs, dtype: float64"
      ]
     },
     "execution_count": 85,
     "metadata": {},
     "output_type": "execute_result"
    }
   ],
   "source": [
    "new_nash_famprac['no_dist_ben_per_day_svcs'].describe()"
   ]
  },
  {
   "cell_type": "markdown",
   "metadata": {},
   "source": [
    "The CBSA covering Nashville is 34980. \n",
    "CBSA 12060 (includes Atlanta)\n",
    "CBSA 16980 (includes Chicago)\n"
   ]
  },
  {
   "cell_type": "code",
   "execution_count": null,
   "metadata": {},
   "outputs": [],
   "source": [
    "nashville_cbsa = provider_crosswalk[provider_crosswalk['cbsa'].isin(['16980'])]\n",
    "nashville_cbsa.shape"
   ]
  },
  {
   "cell_type": "code",
   "execution_count": null,
   "metadata": {},
   "outputs": [],
   "source": [
    "nashville_cbsa.head(6)"
   ]
  },
  {
   "cell_type": "code",
   "execution_count": null,
   "metadata": {},
   "outputs": [],
   "source": [
    "nashville_cbsa['provider_type'].value_counts()"
   ]
  },
  {
   "cell_type": "markdown",
   "metadata": {},
   "source": [
    "nurse practitioner (nashville=304, atl = 300, chic = 460)  \n",
    "family practice (nashville = , atl = 323, chic = 452 )"
   ]
  }
 ],
 "metadata": {
  "kernelspec": {
   "display_name": "Python 3",
   "language": "python",
   "name": "python3"
  },
  "language_info": {
   "codemirror_mode": {
    "name": "ipython",
    "version": 3
   },
   "file_extension": ".py",
   "mimetype": "text/x-python",
   "name": "python",
   "nbconvert_exporter": "python",
   "pygments_lexer": "ipython3",
   "version": "3.7.4"
  }
 },
 "nbformat": 4,
 "nbformat_minor": 2
}
