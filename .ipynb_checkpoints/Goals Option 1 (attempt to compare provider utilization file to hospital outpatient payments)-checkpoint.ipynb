{
 "cells": [
  {
   "cell_type": "markdown",
   "metadata": {},
   "source": [
    "## Goals Option 1: How much are nearby Hospitals and ASCs paid for the same procedure?"
   ]
  },
  {
   "cell_type": "code",
   "execution_count": 1,
   "metadata": {},
   "outputs": [],
   "source": [
    "import pandas as pd \n",
    "import numpy as np  \n",
    "import matplotlib.pyplot as plt  \n",
    "import seaborn as sns"
   ]
  },
  {
   "cell_type": "code",
   "execution_count": 2,
   "metadata": {},
   "outputs": [],
   "source": [
    "%matplotlib inline"
   ]
  },
  {
   "cell_type": "markdown",
   "metadata": {},
   "source": [
    "### d1 = Medicare Provider Utilization and Payment Data: Physician and Other Supplier PUF CY2017"
   ]
  },
  {
   "cell_type": "markdown",
   "metadata": {},
   "source": [
    "Only reading in certain columns to avoid low memory error."
   ]
  },
  {
   "cell_type": "code",
   "execution_count": 3,
   "metadata": {},
   "outputs": [
    {
     "name": "stderr",
     "output_type": "stream",
     "text": [
      "C:\\Users\\erinm\\Anaconda3\\lib\\site-packages\\IPython\\core\\interactiveshell.py:3058: DtypeWarning: Columns (10) have mixed types. Specify dtype option on import or set low_memory=False.\n",
      "  interactivity=interactivity, compiler=compiler, result=result)\n"
     ]
    },
    {
     "data": {
      "text/plain": [
       "(9847443, 10)"
      ]
     },
     "execution_count": 3,
     "metadata": {},
     "output_type": "execute_result"
    }
   ],
   "source": [
    "d1=pd.read_csv(\n",
    "        'c:/users/erinm/Documents/healthcare-bluebook-green-team/data/Medicare_Provider_Utilization_and_Payment_Data__Physician_and_Other_Supplier_PUF_CY2017.tsv', \n",
    "        sep='\\t',\n",
    "        usecols=['National Provider Identifier', 'Entity Type of the Provider', 'Zip Code of the Provider', 'Provider Type', 'Place of Service', 'HCPCS Code', 'HCPCS Description', 'Number of Distinct Medicare Beneficiary/Per Day Services', 'Average Medicare Allowed Amount', 'Average Medicare Payment Amount']\n",
    ")\n",
    "d1.shape"
   ]
  },
  {
   "cell_type": "code",
   "execution_count": 4,
   "metadata": {},
   "outputs": [],
   "source": [
    "d1.columns = ['npi', 'entity_type', 'orig_zip', 'provider_type', 'place_of_service', 'hcpcs_code', 'hcpcs_desc', 'no_dist_ben_per_day_svcs', 'avg_med_allowed_amt', 'avg_med_pay_amt']"
   ]
  },
  {
   "cell_type": "code",
   "execution_count": 5,
   "metadata": {},
   "outputs": [
    {
     "data": {
      "text/plain": [
       "Index(['npi', 'entity_type', 'provider_type', 'place_of_service', 'hcpcs_code',\n",
       "       'hcpcs_desc', 'no_dist_ben_per_day_svcs', 'avg_med_allowed_amt',\n",
       "       'avg_med_pay_amt', 'zip'],\n",
       "      dtype='object')"
      ]
     },
     "execution_count": 5,
     "metadata": {},
     "output_type": "execute_result"
    }
   ],
   "source": [
    "d1.loc[:,'zip']= d1['orig_zip'].astype(str).str[:5]\n",
    "del d1['orig_zip']\n",
    "d1.columns"
   ]
  },
  {
   "cell_type": "code",
   "execution_count": 6,
   "metadata": {},
   "outputs": [
    {
     "data": {
      "text/html": [
       "<div>\n",
       "<style scoped>\n",
       "    .dataframe tbody tr th:only-of-type {\n",
       "        vertical-align: middle;\n",
       "    }\n",
       "\n",
       "    .dataframe tbody tr th {\n",
       "        vertical-align: top;\n",
       "    }\n",
       "\n",
       "    .dataframe thead th {\n",
       "        text-align: right;\n",
       "    }\n",
       "</style>\n",
       "<table border=\"1\" class=\"dataframe\">\n",
       "  <thead>\n",
       "    <tr style=\"text-align: right;\">\n",
       "      <th></th>\n",
       "      <th>npi</th>\n",
       "      <th>entity_type</th>\n",
       "      <th>provider_type</th>\n",
       "      <th>place_of_service</th>\n",
       "      <th>hcpcs_code</th>\n",
       "      <th>hcpcs_desc</th>\n",
       "      <th>no_dist_ben_per_day_svcs</th>\n",
       "      <th>avg_med_allowed_amt</th>\n",
       "      <th>avg_med_pay_amt</th>\n",
       "      <th>zip</th>\n",
       "    </tr>\n",
       "  </thead>\n",
       "  <tbody>\n",
       "    <tr>\n",
       "      <td>0</td>\n",
       "      <td>1003000126</td>\n",
       "      <td>I</td>\n",
       "      <td>Internal Medicine</td>\n",
       "      <td>F</td>\n",
       "      <td>99217</td>\n",
       "      <td>Hospital observation care discharge</td>\n",
       "      <td>100</td>\n",
       "      <td>73.398800</td>\n",
       "      <td>56.827200</td>\n",
       "      <td>21502</td>\n",
       "    </tr>\n",
       "    <tr>\n",
       "      <td>1</td>\n",
       "      <td>1003000126</td>\n",
       "      <td>I</td>\n",
       "      <td>Internal Medicine</td>\n",
       "      <td>F</td>\n",
       "      <td>99218</td>\n",
       "      <td>Hospital observation care typically 30 minutes</td>\n",
       "      <td>26</td>\n",
       "      <td>100.080000</td>\n",
       "      <td>78.460000</td>\n",
       "      <td>21502</td>\n",
       "    </tr>\n",
       "    <tr>\n",
       "      <td>2</td>\n",
       "      <td>1003000126</td>\n",
       "      <td>I</td>\n",
       "      <td>Internal Medicine</td>\n",
       "      <td>F</td>\n",
       "      <td>99219</td>\n",
       "      <td>Hospital observation care typically 50 minutes</td>\n",
       "      <td>52</td>\n",
       "      <td>136.380000</td>\n",
       "      <td>102.807692</td>\n",
       "      <td>21502</td>\n",
       "    </tr>\n",
       "    <tr>\n",
       "      <td>3</td>\n",
       "      <td>1003000126</td>\n",
       "      <td>I</td>\n",
       "      <td>Internal Medicine</td>\n",
       "      <td>F</td>\n",
       "      <td>99220</td>\n",
       "      <td>Hospital observation care typically 70 minutes...</td>\n",
       "      <td>59</td>\n",
       "      <td>190.363729</td>\n",
       "      <td>141.293559</td>\n",
       "      <td>21502</td>\n",
       "    </tr>\n",
       "    <tr>\n",
       "      <td>4</td>\n",
       "      <td>1003000126</td>\n",
       "      <td>I</td>\n",
       "      <td>Internal Medicine</td>\n",
       "      <td>F</td>\n",
       "      <td>99221</td>\n",
       "      <td>Initial hospital inpatient care, typically 30 ...</td>\n",
       "      <td>16</td>\n",
       "      <td>101.680000</td>\n",
       "      <td>79.710000</td>\n",
       "      <td>21502</td>\n",
       "    </tr>\n",
       "  </tbody>\n",
       "</table>\n",
       "</div>"
      ],
      "text/plain": [
       "          npi entity_type      provider_type place_of_service hcpcs_code  \\\n",
       "0  1003000126           I  Internal Medicine                F      99217   \n",
       "1  1003000126           I  Internal Medicine                F      99218   \n",
       "2  1003000126           I  Internal Medicine                F      99219   \n",
       "3  1003000126           I  Internal Medicine                F      99220   \n",
       "4  1003000126           I  Internal Medicine                F      99221   \n",
       "\n",
       "                                          hcpcs_desc  \\\n",
       "0                Hospital observation care discharge   \n",
       "1     Hospital observation care typically 30 minutes   \n",
       "2     Hospital observation care typically 50 minutes   \n",
       "3  Hospital observation care typically 70 minutes...   \n",
       "4  Initial hospital inpatient care, typically 30 ...   \n",
       "\n",
       "   no_dist_ben_per_day_svcs  avg_med_allowed_amt  avg_med_pay_amt    zip  \n",
       "0                       100            73.398800        56.827200  21502  \n",
       "1                        26           100.080000        78.460000  21502  \n",
       "2                        52           136.380000       102.807692  21502  \n",
       "3                        59           190.363729       141.293559  21502  \n",
       "4                        16           101.680000        79.710000  21502  "
      ]
     },
     "execution_count": 6,
     "metadata": {},
     "output_type": "execute_result"
    }
   ],
   "source": [
    "d1.head()"
   ]
  },
  {
   "cell_type": "code",
   "execution_count": 43,
   "metadata": {},
   "outputs": [
    {
     "data": {
      "text/plain": [
       "(9847443, 10)"
      ]
     },
     "execution_count": 43,
     "metadata": {},
     "output_type": "execute_result"
    }
   ],
   "source": [
    "d1.shape"
   ]
  },
  {
   "cell_type": "markdown",
   "metadata": {},
   "source": [
    "### create avg_patient_resp_% column"
   ]
  },
  {
   "cell_type": "code",
   "execution_count": 46,
   "metadata": {},
   "outputs": [],
   "source": [
    "d1['avg_patient_resp_%'] = d1['avg_med_pay_amt'] / d1['avg_med_allowed_amt']"
   ]
  },
  {
   "cell_type": "code",
   "execution_count": 48,
   "metadata": {},
   "outputs": [
    {
     "data": {
      "text/html": [
       "<div>\n",
       "<style scoped>\n",
       "    .dataframe tbody tr th:only-of-type {\n",
       "        vertical-align: middle;\n",
       "    }\n",
       "\n",
       "    .dataframe tbody tr th {\n",
       "        vertical-align: top;\n",
       "    }\n",
       "\n",
       "    .dataframe thead th {\n",
       "        text-align: right;\n",
       "    }\n",
       "</style>\n",
       "<table border=\"1\" class=\"dataframe\">\n",
       "  <thead>\n",
       "    <tr style=\"text-align: right;\">\n",
       "      <th></th>\n",
       "      <th>npi</th>\n",
       "      <th>entity_type</th>\n",
       "      <th>provider_type</th>\n",
       "      <th>place_of_service</th>\n",
       "      <th>hcpcs_code</th>\n",
       "      <th>hcpcs_desc</th>\n",
       "      <th>no_dist_ben_per_day_svcs</th>\n",
       "      <th>avg_med_allowed_amt</th>\n",
       "      <th>avg_med_pay_amt</th>\n",
       "      <th>zip</th>\n",
       "      <th>avg_patient_resp_%</th>\n",
       "    </tr>\n",
       "  </thead>\n",
       "  <tbody>\n",
       "    <tr>\n",
       "      <td>0</td>\n",
       "      <td>1003000126</td>\n",
       "      <td>I</td>\n",
       "      <td>Internal Medicine</td>\n",
       "      <td>F</td>\n",
       "      <td>99217</td>\n",
       "      <td>Hospital observation care discharge</td>\n",
       "      <td>100</td>\n",
       "      <td>73.398800</td>\n",
       "      <td>56.827200</td>\n",
       "      <td>21502</td>\n",
       "      <td>0.774225</td>\n",
       "    </tr>\n",
       "    <tr>\n",
       "      <td>1</td>\n",
       "      <td>1003000126</td>\n",
       "      <td>I</td>\n",
       "      <td>Internal Medicine</td>\n",
       "      <td>F</td>\n",
       "      <td>99218</td>\n",
       "      <td>Hospital observation care typically 30 minutes</td>\n",
       "      <td>26</td>\n",
       "      <td>100.080000</td>\n",
       "      <td>78.460000</td>\n",
       "      <td>21502</td>\n",
       "      <td>0.783973</td>\n",
       "    </tr>\n",
       "    <tr>\n",
       "      <td>2</td>\n",
       "      <td>1003000126</td>\n",
       "      <td>I</td>\n",
       "      <td>Internal Medicine</td>\n",
       "      <td>F</td>\n",
       "      <td>99219</td>\n",
       "      <td>Hospital observation care typically 50 minutes</td>\n",
       "      <td>52</td>\n",
       "      <td>136.380000</td>\n",
       "      <td>102.807692</td>\n",
       "      <td>21502</td>\n",
       "      <td>0.753833</td>\n",
       "    </tr>\n",
       "    <tr>\n",
       "      <td>3</td>\n",
       "      <td>1003000126</td>\n",
       "      <td>I</td>\n",
       "      <td>Internal Medicine</td>\n",
       "      <td>F</td>\n",
       "      <td>99220</td>\n",
       "      <td>Hospital observation care typically 70 minutes...</td>\n",
       "      <td>59</td>\n",
       "      <td>190.363729</td>\n",
       "      <td>141.293559</td>\n",
       "      <td>21502</td>\n",
       "      <td>0.742229</td>\n",
       "    </tr>\n",
       "    <tr>\n",
       "      <td>4</td>\n",
       "      <td>1003000126</td>\n",
       "      <td>I</td>\n",
       "      <td>Internal Medicine</td>\n",
       "      <td>F</td>\n",
       "      <td>99221</td>\n",
       "      <td>Initial hospital inpatient care, typically 30 ...</td>\n",
       "      <td>16</td>\n",
       "      <td>101.680000</td>\n",
       "      <td>79.710000</td>\n",
       "      <td>21502</td>\n",
       "      <td>0.783930</td>\n",
       "    </tr>\n",
       "  </tbody>\n",
       "</table>\n",
       "</div>"
      ],
      "text/plain": [
       "          npi entity_type      provider_type place_of_service hcpcs_code  \\\n",
       "0  1003000126           I  Internal Medicine                F      99217   \n",
       "1  1003000126           I  Internal Medicine                F      99218   \n",
       "2  1003000126           I  Internal Medicine                F      99219   \n",
       "3  1003000126           I  Internal Medicine                F      99220   \n",
       "4  1003000126           I  Internal Medicine                F      99221   \n",
       "\n",
       "                                          hcpcs_desc  \\\n",
       "0                Hospital observation care discharge   \n",
       "1     Hospital observation care typically 30 minutes   \n",
       "2     Hospital observation care typically 50 minutes   \n",
       "3  Hospital observation care typically 70 minutes...   \n",
       "4  Initial hospital inpatient care, typically 30 ...   \n",
       "\n",
       "   no_dist_ben_per_day_svcs  avg_med_allowed_amt  avg_med_pay_amt    zip  \\\n",
       "0                       100            73.398800        56.827200  21502   \n",
       "1                        26           100.080000        78.460000  21502   \n",
       "2                        52           136.380000       102.807692  21502   \n",
       "3                        59           190.363729       141.293559  21502   \n",
       "4                        16           101.680000        79.710000  21502   \n",
       "\n",
       "   avg_patient_resp_%  \n",
       "0            0.774225  \n",
       "1            0.783973  \n",
       "2            0.753833  \n",
       "3            0.742229  \n",
       "4            0.783930  "
      ]
     },
     "execution_count": 48,
     "metadata": {},
     "output_type": "execute_result"
    }
   ],
   "source": [
    "d1.head()"
   ]
  },
  {
   "cell_type": "markdown",
   "metadata": {},
   "source": [
    "### d2 = Provider Outpatient Hospital Charge Data by APC, CY2017"
   ]
  },
  {
   "cell_type": "code",
   "execution_count": 8,
   "metadata": {},
   "outputs": [
    {
     "data": {
      "text/plain": [
       "Index(['Provider_ID', 'Provider_Name', 'Provider_Street_Address',\n",
       "       'Provider_City', 'Provider_State', 'Provider_Zip_Code', 'Provider_HRR',\n",
       "       'APC', 'APC_Desc', 'Beneficiaries', 'CAPC_Services',\n",
       "       'Average_Total_Submitted_Charges', 'Average_Medicare_Allowed_Amount',\n",
       "       'Average_Medicare_Payment_Amount', 'Outlier_Services',\n",
       "       'Average_Medicare_Outlier_Amount'],\n",
       "      dtype='object')"
      ]
     },
     "execution_count": 8,
     "metadata": {},
     "output_type": "execute_result"
    }
   ],
   "source": [
    "pd.read_csv(\n",
    "    'c:/users/erinm/Documents/healthcare-bluebook-green-team/data/Provider_Outpatient_Hospital_Charge_Data_by_APC__CY2017.tsv', \n",
    "    sep='\\t').columns"
   ]
  },
  {
   "cell_type": "code",
   "execution_count": 52,
   "metadata": {},
   "outputs": [
    {
     "data": {
      "text/plain": [
       "(61779, 9)"
      ]
     },
     "execution_count": 52,
     "metadata": {},
     "output_type": "execute_result"
    }
   ],
   "source": [
    "d2 = pd.read_csv(\n",
    "    'c:/users/erinm/Documents/healthcare-bluebook-green-team/data/Provider_Outpatient_Hospital_Charge_Data_by_APC__CY2017.tsv', \n",
    "    sep='\\t',\n",
    "     dtype={'Provider_Zip_Code':'str'}, \n",
    "    usecols=['Provider_ID','Provider_Name','Provider_Zip_Code','APC','APC_Desc', 'Beneficiaries', 'CAPC_Services','Average_Medicare_Allowed_Amount', 'Average_Medicare_Payment_Amount']\n",
    ")\n",
    "d2.shape"
   ]
  },
  {
   "cell_type": "code",
   "execution_count": 53,
   "metadata": {},
   "outputs": [],
   "source": [
    "d2.columns = ['id', 'name', 'zip', 'apc', 'apc_desc', 'bens', 'capcs_svcs', 'avg_med_allowed_amt', 'avg_med_pay_amt']"
   ]
  },
  {
   "cell_type": "code",
   "execution_count": 54,
   "metadata": {},
   "outputs": [
    {
     "data": {
      "text/plain": [
       "Index(['id', 'name', 'zip', 'apc', 'apc_desc', 'bens', 'capcs_svcs',\n",
       "       'avg_med_allowed_amt', 'avg_med_pay_amt'],\n",
       "      dtype='object')"
      ]
     },
     "execution_count": 54,
     "metadata": {},
     "output_type": "execute_result"
    }
   ],
   "source": [
    "d2.columns"
   ]
  },
  {
   "cell_type": "code",
   "execution_count": 55,
   "metadata": {},
   "outputs": [
    {
     "data": {
      "text/html": [
       "<div>\n",
       "<style scoped>\n",
       "    .dataframe tbody tr th:only-of-type {\n",
       "        vertical-align: middle;\n",
       "    }\n",
       "\n",
       "    .dataframe tbody tr th {\n",
       "        vertical-align: top;\n",
       "    }\n",
       "\n",
       "    .dataframe thead th {\n",
       "        text-align: right;\n",
       "    }\n",
       "</style>\n",
       "<table border=\"1\" class=\"dataframe\">\n",
       "  <thead>\n",
       "    <tr style=\"text-align: right;\">\n",
       "      <th></th>\n",
       "      <th>ZIP</th>\n",
       "      <th>CBSA</th>\n",
       "    </tr>\n",
       "  </thead>\n",
       "  <tbody>\n",
       "    <tr>\n",
       "      <td>0</td>\n",
       "      <td>00501</td>\n",
       "      <td>35620</td>\n",
       "    </tr>\n",
       "    <tr>\n",
       "      <td>1</td>\n",
       "      <td>00601</td>\n",
       "      <td>38660</td>\n",
       "    </tr>\n",
       "    <tr>\n",
       "      <td>2</td>\n",
       "      <td>00602</td>\n",
       "      <td>10380</td>\n",
       "    </tr>\n",
       "    <tr>\n",
       "      <td>3</td>\n",
       "      <td>00603</td>\n",
       "      <td>10380</td>\n",
       "    </tr>\n",
       "    <tr>\n",
       "      <td>4</td>\n",
       "      <td>00604</td>\n",
       "      <td>10380</td>\n",
       "    </tr>\n",
       "  </tbody>\n",
       "</table>\n",
       "</div>"
      ],
      "text/plain": [
       "     ZIP   CBSA\n",
       "0  00501  35620\n",
       "1  00601  38660\n",
       "2  00602  10380\n",
       "3  00603  10380\n",
       "4  00604  10380"
      ]
     },
     "execution_count": 55,
     "metadata": {},
     "output_type": "execute_result"
    }
   ],
   "source": [
    "d4 = pd.read_excel('c:/users/erinm/documents/healthcare-bluebook-green-team/data/ZIP_CBSA_032020.xlsx', dtype={'ZIP':'str'}, usecols=[0,1])\n",
    "d4.head()"
   ]
  },
  {
   "cell_type": "code",
   "execution_count": 56,
   "metadata": {},
   "outputs": [],
   "source": [
    "d4.columns = ['zip', 'cbsa']"
   ]
  },
  {
   "cell_type": "code",
   "execution_count": 57,
   "metadata": {},
   "outputs": [],
   "source": [
    "d2['avg_patient_resp_%'] = d1['avg_med_pay_amt'] / d1['avg_med_allowed_amt']"
   ]
  },
  {
   "cell_type": "code",
   "execution_count": 58,
   "metadata": {},
   "outputs": [
    {
     "data": {
      "text/html": [
       "<div>\n",
       "<style scoped>\n",
       "    .dataframe tbody tr th:only-of-type {\n",
       "        vertical-align: middle;\n",
       "    }\n",
       "\n",
       "    .dataframe tbody tr th {\n",
       "        vertical-align: top;\n",
       "    }\n",
       "\n",
       "    .dataframe thead th {\n",
       "        text-align: right;\n",
       "    }\n",
       "</style>\n",
       "<table border=\"1\" class=\"dataframe\">\n",
       "  <thead>\n",
       "    <tr style=\"text-align: right;\">\n",
       "      <th></th>\n",
       "      <th>id</th>\n",
       "      <th>name</th>\n",
       "      <th>zip</th>\n",
       "      <th>apc</th>\n",
       "      <th>apc_desc</th>\n",
       "      <th>bens</th>\n",
       "      <th>capcs_svcs</th>\n",
       "      <th>avg_med_allowed_amt</th>\n",
       "      <th>avg_med_pay_amt</th>\n",
       "      <th>avg_patient_resp_%</th>\n",
       "    </tr>\n",
       "  </thead>\n",
       "  <tbody>\n",
       "    <tr>\n",
       "      <td>0</td>\n",
       "      <td>10001</td>\n",
       "      <td>Southeast Alabama Medical Center</td>\n",
       "      <td>36301</td>\n",
       "      <td>5072</td>\n",
       "      <td>Level 2 Excision/ Biopsy/ Incision and Drainage</td>\n",
       "      <td>249.0</td>\n",
       "      <td>259</td>\n",
       "      <td>1038.45</td>\n",
       "      <td>826.28</td>\n",
       "      <td>0.774225</td>\n",
       "    </tr>\n",
       "    <tr>\n",
       "      <td>1</td>\n",
       "      <td>10001</td>\n",
       "      <td>Southeast Alabama Medical Center</td>\n",
       "      <td>36301</td>\n",
       "      <td>5073</td>\n",
       "      <td>Level 3 Excision/ Biopsy/ Incision and Drainage</td>\n",
       "      <td>52.0</td>\n",
       "      <td>53</td>\n",
       "      <td>1792.60</td>\n",
       "      <td>1423.25</td>\n",
       "      <td>0.783973</td>\n",
       "    </tr>\n",
       "    <tr>\n",
       "      <td>2</td>\n",
       "      <td>10001</td>\n",
       "      <td>Southeast Alabama Medical Center</td>\n",
       "      <td>36301</td>\n",
       "      <td>5091</td>\n",
       "      <td>Level 1 Breast/Lymphatic Surgery and Related P...</td>\n",
       "      <td>26.0</td>\n",
       "      <td>27</td>\n",
       "      <td>2113.58</td>\n",
       "      <td>1683.99</td>\n",
       "      <td>0.753833</td>\n",
       "    </tr>\n",
       "    <tr>\n",
       "      <td>3</td>\n",
       "      <td>10001</td>\n",
       "      <td>Southeast Alabama Medical Center</td>\n",
       "      <td>36301</td>\n",
       "      <td>5092</td>\n",
       "      <td>Level 2 Breast/Lymphatic Surgery and Related P...</td>\n",
       "      <td>23.0</td>\n",
       "      <td>23</td>\n",
       "      <td>3737.14</td>\n",
       "      <td>2977.55</td>\n",
       "      <td>0.742229</td>\n",
       "    </tr>\n",
       "    <tr>\n",
       "      <td>4</td>\n",
       "      <td>10001</td>\n",
       "      <td>Southeast Alabama Medical Center</td>\n",
       "      <td>36301</td>\n",
       "      <td>5112</td>\n",
       "      <td>Level 2 Musculoskeletal Procedures</td>\n",
       "      <td>17.0</td>\n",
       "      <td>17</td>\n",
       "      <td>1029.46</td>\n",
       "      <td>820.21</td>\n",
       "      <td>0.783930</td>\n",
       "    </tr>\n",
       "  </tbody>\n",
       "</table>\n",
       "</div>"
      ],
      "text/plain": [
       "      id                              name    zip   apc  \\\n",
       "0  10001  Southeast Alabama Medical Center  36301  5072   \n",
       "1  10001  Southeast Alabama Medical Center  36301  5073   \n",
       "2  10001  Southeast Alabama Medical Center  36301  5091   \n",
       "3  10001  Southeast Alabama Medical Center  36301  5092   \n",
       "4  10001  Southeast Alabama Medical Center  36301  5112   \n",
       "\n",
       "                                            apc_desc   bens  capcs_svcs  \\\n",
       "0    Level 2 Excision/ Biopsy/ Incision and Drainage  249.0         259   \n",
       "1    Level 3 Excision/ Biopsy/ Incision and Drainage   52.0          53   \n",
       "2  Level 1 Breast/Lymphatic Surgery and Related P...   26.0          27   \n",
       "3  Level 2 Breast/Lymphatic Surgery and Related P...   23.0          23   \n",
       "4                 Level 2 Musculoskeletal Procedures   17.0          17   \n",
       "\n",
       "   avg_med_allowed_amt  avg_med_pay_amt  avg_patient_resp_%  \n",
       "0              1038.45           826.28            0.774225  \n",
       "1              1792.60          1423.25            0.783973  \n",
       "2              2113.58          1683.99            0.753833  \n",
       "3              3737.14          2977.55            0.742229  \n",
       "4              1029.46           820.21            0.783930  "
      ]
     },
     "execution_count": 58,
     "metadata": {},
     "output_type": "execute_result"
    }
   ],
   "source": [
    "d2.head()"
   ]
  },
  {
   "cell_type": "markdown",
   "metadata": {},
   "source": [
    "## Merge d1 with zip code crosswalk"
   ]
  },
  {
   "cell_type": "code",
   "execution_count": 49,
   "metadata": {},
   "outputs": [
    {
     "data": {
      "text/html": [
       "<div>\n",
       "<style scoped>\n",
       "    .dataframe tbody tr th:only-of-type {\n",
       "        vertical-align: middle;\n",
       "    }\n",
       "\n",
       "    .dataframe tbody tr th {\n",
       "        vertical-align: top;\n",
       "    }\n",
       "\n",
       "    .dataframe thead th {\n",
       "        text-align: right;\n",
       "    }\n",
       "</style>\n",
       "<table border=\"1\" class=\"dataframe\">\n",
       "  <thead>\n",
       "    <tr style=\"text-align: right;\">\n",
       "      <th></th>\n",
       "      <th>npi</th>\n",
       "      <th>entity_type</th>\n",
       "      <th>provider_type</th>\n",
       "      <th>place_of_service</th>\n",
       "      <th>hcpcs_code</th>\n",
       "      <th>hcpcs_desc</th>\n",
       "      <th>no_dist_ben_per_day_svcs</th>\n",
       "      <th>avg_med_allowed_amt</th>\n",
       "      <th>avg_med_pay_amt</th>\n",
       "      <th>zip</th>\n",
       "      <th>avg_patient_resp_%</th>\n",
       "      <th>cbsa</th>\n",
       "    </tr>\n",
       "  </thead>\n",
       "  <tbody>\n",
       "    <tr>\n",
       "      <td>0</td>\n",
       "      <td>1003000126</td>\n",
       "      <td>I</td>\n",
       "      <td>Internal Medicine</td>\n",
       "      <td>F</td>\n",
       "      <td>99217</td>\n",
       "      <td>Hospital observation care discharge</td>\n",
       "      <td>100</td>\n",
       "      <td>73.398800</td>\n",
       "      <td>56.827200</td>\n",
       "      <td>21502</td>\n",
       "      <td>0.774225</td>\n",
       "      <td>19060</td>\n",
       "    </tr>\n",
       "    <tr>\n",
       "      <td>1</td>\n",
       "      <td>1003000126</td>\n",
       "      <td>I</td>\n",
       "      <td>Internal Medicine</td>\n",
       "      <td>F</td>\n",
       "      <td>99218</td>\n",
       "      <td>Hospital observation care typically 30 minutes</td>\n",
       "      <td>26</td>\n",
       "      <td>100.080000</td>\n",
       "      <td>78.460000</td>\n",
       "      <td>21502</td>\n",
       "      <td>0.783973</td>\n",
       "      <td>19060</td>\n",
       "    </tr>\n",
       "    <tr>\n",
       "      <td>2</td>\n",
       "      <td>1003000126</td>\n",
       "      <td>I</td>\n",
       "      <td>Internal Medicine</td>\n",
       "      <td>F</td>\n",
       "      <td>99219</td>\n",
       "      <td>Hospital observation care typically 50 minutes</td>\n",
       "      <td>52</td>\n",
       "      <td>136.380000</td>\n",
       "      <td>102.807692</td>\n",
       "      <td>21502</td>\n",
       "      <td>0.753833</td>\n",
       "      <td>19060</td>\n",
       "    </tr>\n",
       "    <tr>\n",
       "      <td>3</td>\n",
       "      <td>1003000126</td>\n",
       "      <td>I</td>\n",
       "      <td>Internal Medicine</td>\n",
       "      <td>F</td>\n",
       "      <td>99220</td>\n",
       "      <td>Hospital observation care typically 70 minutes...</td>\n",
       "      <td>59</td>\n",
       "      <td>190.363729</td>\n",
       "      <td>141.293559</td>\n",
       "      <td>21502</td>\n",
       "      <td>0.742229</td>\n",
       "      <td>19060</td>\n",
       "    </tr>\n",
       "    <tr>\n",
       "      <td>4</td>\n",
       "      <td>1003000126</td>\n",
       "      <td>I</td>\n",
       "      <td>Internal Medicine</td>\n",
       "      <td>F</td>\n",
       "      <td>99221</td>\n",
       "      <td>Initial hospital inpatient care, typically 30 ...</td>\n",
       "      <td>16</td>\n",
       "      <td>101.680000</td>\n",
       "      <td>79.710000</td>\n",
       "      <td>21502</td>\n",
       "      <td>0.783930</td>\n",
       "      <td>19060</td>\n",
       "    </tr>\n",
       "  </tbody>\n",
       "</table>\n",
       "</div>"
      ],
      "text/plain": [
       "          npi entity_type      provider_type place_of_service hcpcs_code  \\\n",
       "0  1003000126           I  Internal Medicine                F      99217   \n",
       "1  1003000126           I  Internal Medicine                F      99218   \n",
       "2  1003000126           I  Internal Medicine                F      99219   \n",
       "3  1003000126           I  Internal Medicine                F      99220   \n",
       "4  1003000126           I  Internal Medicine                F      99221   \n",
       "\n",
       "                                          hcpcs_desc  \\\n",
       "0                Hospital observation care discharge   \n",
       "1     Hospital observation care typically 30 minutes   \n",
       "2     Hospital observation care typically 50 minutes   \n",
       "3  Hospital observation care typically 70 minutes...   \n",
       "4  Initial hospital inpatient care, typically 30 ...   \n",
       "\n",
       "   no_dist_ben_per_day_svcs  avg_med_allowed_amt  avg_med_pay_amt    zip  \\\n",
       "0                       100            73.398800        56.827200  21502   \n",
       "1                        26           100.080000        78.460000  21502   \n",
       "2                        52           136.380000       102.807692  21502   \n",
       "3                        59           190.363729       141.293559  21502   \n",
       "4                        16           101.680000        79.710000  21502   \n",
       "\n",
       "   avg_patient_resp_%   cbsa  \n",
       "0            0.774225  19060  \n",
       "1            0.783973  19060  \n",
       "2            0.753833  19060  \n",
       "3            0.742229  19060  \n",
       "4            0.783930  19060  "
      ]
     },
     "execution_count": 49,
     "metadata": {},
     "output_type": "execute_result"
    }
   ],
   "source": [
    "d1_d4 = pd.merge(d1, d4, on=('zip'), how='inner')\n",
    "d1_d4.head()"
   ]
  },
  {
   "cell_type": "code",
   "execution_count": 50,
   "metadata": {},
   "outputs": [
    {
     "data": {
      "text/plain": [
       "(10491622, 12)"
      ]
     },
     "execution_count": 50,
     "metadata": {},
     "output_type": "execute_result"
    }
   ],
   "source": [
    "d1_d4.shape"
   ]
  },
  {
   "cell_type": "markdown",
   "metadata": {},
   "source": [
    "## Merge d2 with zip code crosswalk"
   ]
  },
  {
   "cell_type": "code",
   "execution_count": 16,
   "metadata": {},
   "outputs": [
    {
     "data": {
      "text/html": [
       "<div>\n",
       "<style scoped>\n",
       "    .dataframe tbody tr th:only-of-type {\n",
       "        vertical-align: middle;\n",
       "    }\n",
       "\n",
       "    .dataframe tbody tr th {\n",
       "        vertical-align: top;\n",
       "    }\n",
       "\n",
       "    .dataframe thead th {\n",
       "        text-align: right;\n",
       "    }\n",
       "</style>\n",
       "<table border=\"1\" class=\"dataframe\">\n",
       "  <thead>\n",
       "    <tr style=\"text-align: right;\">\n",
       "      <th></th>\n",
       "      <th>id</th>\n",
       "      <th>name</th>\n",
       "      <th>zip</th>\n",
       "      <th>apc</th>\n",
       "      <th>apc_desc</th>\n",
       "      <th>bens</th>\n",
       "      <th>capcs_svcs</th>\n",
       "      <th>avg_med_allowed_amt</th>\n",
       "      <th>avg_med_pay_amount</th>\n",
       "      <th>cbsa</th>\n",
       "    </tr>\n",
       "  </thead>\n",
       "  <tbody>\n",
       "    <tr>\n",
       "      <td>0</td>\n",
       "      <td>10001</td>\n",
       "      <td>Southeast Alabama Medical Center</td>\n",
       "      <td>36301</td>\n",
       "      <td>5072</td>\n",
       "      <td>Level 2 Excision/ Biopsy/ Incision and Drainage</td>\n",
       "      <td>249.0</td>\n",
       "      <td>259</td>\n",
       "      <td>1038.45</td>\n",
       "      <td>826.28</td>\n",
       "      <td>20020</td>\n",
       "    </tr>\n",
       "    <tr>\n",
       "      <td>1</td>\n",
       "      <td>10001</td>\n",
       "      <td>Southeast Alabama Medical Center</td>\n",
       "      <td>36301</td>\n",
       "      <td>5073</td>\n",
       "      <td>Level 3 Excision/ Biopsy/ Incision and Drainage</td>\n",
       "      <td>52.0</td>\n",
       "      <td>53</td>\n",
       "      <td>1792.60</td>\n",
       "      <td>1423.25</td>\n",
       "      <td>20020</td>\n",
       "    </tr>\n",
       "    <tr>\n",
       "      <td>2</td>\n",
       "      <td>10001</td>\n",
       "      <td>Southeast Alabama Medical Center</td>\n",
       "      <td>36301</td>\n",
       "      <td>5091</td>\n",
       "      <td>Level 1 Breast/Lymphatic Surgery and Related P...</td>\n",
       "      <td>26.0</td>\n",
       "      <td>27</td>\n",
       "      <td>2113.58</td>\n",
       "      <td>1683.99</td>\n",
       "      <td>20020</td>\n",
       "    </tr>\n",
       "    <tr>\n",
       "      <td>3</td>\n",
       "      <td>10001</td>\n",
       "      <td>Southeast Alabama Medical Center</td>\n",
       "      <td>36301</td>\n",
       "      <td>5092</td>\n",
       "      <td>Level 2 Breast/Lymphatic Surgery and Related P...</td>\n",
       "      <td>23.0</td>\n",
       "      <td>23</td>\n",
       "      <td>3737.14</td>\n",
       "      <td>2977.55</td>\n",
       "      <td>20020</td>\n",
       "    </tr>\n",
       "    <tr>\n",
       "      <td>4</td>\n",
       "      <td>10001</td>\n",
       "      <td>Southeast Alabama Medical Center</td>\n",
       "      <td>36301</td>\n",
       "      <td>5112</td>\n",
       "      <td>Level 2 Musculoskeletal Procedures</td>\n",
       "      <td>17.0</td>\n",
       "      <td>17</td>\n",
       "      <td>1029.46</td>\n",
       "      <td>820.21</td>\n",
       "      <td>20020</td>\n",
       "    </tr>\n",
       "  </tbody>\n",
       "</table>\n",
       "</div>"
      ],
      "text/plain": [
       "      id                              name    zip   apc  \\\n",
       "0  10001  Southeast Alabama Medical Center  36301  5072   \n",
       "1  10001  Southeast Alabama Medical Center  36301  5073   \n",
       "2  10001  Southeast Alabama Medical Center  36301  5091   \n",
       "3  10001  Southeast Alabama Medical Center  36301  5092   \n",
       "4  10001  Southeast Alabama Medical Center  36301  5112   \n",
       "\n",
       "                                            apc_desc   bens  capcs_svcs  \\\n",
       "0    Level 2 Excision/ Biopsy/ Incision and Drainage  249.0         259   \n",
       "1    Level 3 Excision/ Biopsy/ Incision and Drainage   52.0          53   \n",
       "2  Level 1 Breast/Lymphatic Surgery and Related P...   26.0          27   \n",
       "3  Level 2 Breast/Lymphatic Surgery and Related P...   23.0          23   \n",
       "4                 Level 2 Musculoskeletal Procedures   17.0          17   \n",
       "\n",
       "   avg_med_allowed_amt  avg_med_pay_amount   cbsa  \n",
       "0              1038.45              826.28  20020  \n",
       "1              1792.60             1423.25  20020  \n",
       "2              2113.58             1683.99  20020  \n",
       "3              3737.14             2977.55  20020  \n",
       "4              1029.46              820.21  20020  "
      ]
     },
     "execution_count": 16,
     "metadata": {},
     "output_type": "execute_result"
    }
   ],
   "source": [
    "d2_d4 = pd.merge(d2, d4, on=('zip'), how='inner')\n",
    "d2_d4.head()"
   ]
  },
  {
   "cell_type": "markdown",
   "metadata": {},
   "source": [
    "## d3 = APC to CPT/HCPCS crosswalk (Jan 2020 Addendum B)"
   ]
  },
  {
   "cell_type": "code",
   "execution_count": 17,
   "metadata": {},
   "outputs": [
    {
     "data": {
      "text/html": [
       "<div>\n",
       "<style scoped>\n",
       "    .dataframe tbody tr th:only-of-type {\n",
       "        vertical-align: middle;\n",
       "    }\n",
       "\n",
       "    .dataframe tbody tr th {\n",
       "        vertical-align: top;\n",
       "    }\n",
       "\n",
       "    .dataframe thead th {\n",
       "        text-align: right;\n",
       "    }\n",
       "</style>\n",
       "<table border=\"1\" class=\"dataframe\">\n",
       "  <thead>\n",
       "    <tr style=\"text-align: right;\">\n",
       "      <th></th>\n",
       "      <th>HCPCS Code</th>\n",
       "      <th>Short Descriptor</th>\n",
       "      <th>APC</th>\n",
       "    </tr>\n",
       "  </thead>\n",
       "  <tbody>\n",
       "    <tr>\n",
       "      <td>0</td>\n",
       "      <td>00100</td>\n",
       "      <td>Anesth salivary gland</td>\n",
       "      <td>NaN</td>\n",
       "    </tr>\n",
       "    <tr>\n",
       "      <td>1</td>\n",
       "      <td>00102</td>\n",
       "      <td>Anesth repair of cleft lip</td>\n",
       "      <td>NaN</td>\n",
       "    </tr>\n",
       "    <tr>\n",
       "      <td>2</td>\n",
       "      <td>00103</td>\n",
       "      <td>Anesth blepharoplasty</td>\n",
       "      <td>NaN</td>\n",
       "    </tr>\n",
       "    <tr>\n",
       "      <td>3</td>\n",
       "      <td>00104</td>\n",
       "      <td>Anesth electroshock</td>\n",
       "      <td>NaN</td>\n",
       "    </tr>\n",
       "    <tr>\n",
       "      <td>4</td>\n",
       "      <td>00120</td>\n",
       "      <td>Anesth ear surgery</td>\n",
       "      <td>NaN</td>\n",
       "    </tr>\n",
       "  </tbody>\n",
       "</table>\n",
       "</div>"
      ],
      "text/plain": [
       "  HCPCS Code            Short Descriptor  APC \n",
       "0      00100       Anesth salivary gland   NaN\n",
       "1      00102  Anesth repair of cleft lip   NaN\n",
       "2      00103       Anesth blepharoplasty   NaN\n",
       "3      00104         Anesth electroshock   NaN\n",
       "4      00120          Anesth ear surgery   NaN"
      ]
     },
     "execution_count": 17,
     "metadata": {},
     "output_type": "execute_result"
    }
   ],
   "source": [
    "d3 = pd.read_excel('c:/users/erinm/Documents/healthcare-bluebook-green-team/data/2020_january_web_addendum_b.12312019.xlsx',usecols=[0,1,3], skiprows=2)\n",
    "d3.head()"
   ]
  },
  {
   "cell_type": "code",
   "execution_count": 18,
   "metadata": {},
   "outputs": [],
   "source": [
    "d3.columns=['hcpcs_code', 'crosswalk_short_desc', 'apc']"
   ]
  },
  {
   "cell_type": "code",
   "execution_count": 19,
   "metadata": {},
   "outputs": [
    {
     "data": {
      "text/plain": [
       "(16628, 3)"
      ]
     },
     "execution_count": 19,
     "metadata": {},
     "output_type": "execute_result"
    }
   ],
   "source": [
    "d3.shape"
   ]
  },
  {
   "cell_type": "code",
   "execution_count": 20,
   "metadata": {},
   "outputs": [
    {
     "data": {
      "text/plain": [
       "(5942, 3)"
      ]
     },
     "execution_count": 20,
     "metadata": {},
     "output_type": "execute_result"
    }
   ],
   "source": [
    "d3_nn=d3[d3['apc'].notnull()]\n",
    "d3_nn.shape"
   ]
  },
  {
   "cell_type": "code",
   "execution_count": 21,
   "metadata": {},
   "outputs": [
    {
     "data": {
      "text/plain": [
       "(5942, 3)"
      ]
     },
     "execution_count": 21,
     "metadata": {},
     "output_type": "execute_result"
    }
   ],
   "source": [
    "d3_nnnn=d3_nn[d3_nn['hcpcs_code'].notnull()]\n",
    "d3_nnnn.shape"
   ]
  },
  {
   "cell_type": "markdown",
   "metadata": {},
   "source": [
    "## Merge d1_d4 with d3 (zip code crosswalk)"
   ]
  },
  {
   "cell_type": "code",
   "execution_count": 22,
   "metadata": {},
   "outputs": [
    {
     "data": {
      "text/plain": [
       "(4258746, 13)"
      ]
     },
     "execution_count": 22,
     "metadata": {},
     "output_type": "execute_result"
    }
   ],
   "source": [
    "d1_d3_d4 = pd.merge(d1_d4, d3_nnnn, on=('hcpcs_code'), how='inner')\n",
    "d1_d3_d4.shape"
   ]
  },
  {
   "cell_type": "markdown",
   "metadata": {},
   "source": [
    "## Merge d2 with d3 (zip code crosswalk)"
   ]
  },
  {
   "cell_type": "code",
   "execution_count": 23,
   "metadata": {},
   "outputs": [
    {
     "data": {
      "text/plain": [
       "(5563029, 12)"
      ]
     },
     "execution_count": 23,
     "metadata": {},
     "output_type": "execute_result"
    }
   ],
   "source": [
    "d2_d3_d4 = pd.merge(d2_d4, d3_nnnn, on=('apc'), how='inner')\n",
    "d2_d3_d4.shape"
   ]
  },
  {
   "cell_type": "markdown",
   "metadata": {},
   "source": [
    "## Filters for Goals Option 1 -provider data\n",
    "\n",
    "Physician/Other Supplier Data Filters\n",
    "\n",
    "Entity Type = 'O'\n",
    "\n",
    "Provider Type = Ambulatory Surgical Center\n",
    "\n",
    "CPT = 43249"
   ]
  },
  {
   "cell_type": "code",
   "execution_count": 27,
   "metadata": {},
   "outputs": [
    {
     "data": {
      "text/plain": [
       "(651, 13)"
      ]
     },
     "execution_count": 27,
     "metadata": {},
     "output_type": "execute_result"
    }
   ],
   "source": [
    "filter1 = d1_d3_d4['entity_type'].isin(['O'])\n",
    "filter2 = d1_d3_d4['provider_type'].isin(['Ambulatory Surgical Center'])\n",
    "filter3 = d1_d3_d4['hcpcs_code'].isin(['43249'])\n",
    "\n",
    "d134_option1_filters = d1_d3_d4[filter1 & filter2 & filter3]\n",
    "d134_option1_filters.shape"
   ]
  },
  {
   "cell_type": "code",
   "execution_count": 29,
   "metadata": {},
   "outputs": [],
   "source": [
    "d134_option1_filters.to_csv('d1_filtered.csv')"
   ]
  },
  {
   "cell_type": "code",
   "execution_count": 30,
   "metadata": {},
   "outputs": [
    {
     "data": {
      "text/html": [
       "<div>\n",
       "<style scoped>\n",
       "    .dataframe tbody tr th:only-of-type {\n",
       "        vertical-align: middle;\n",
       "    }\n",
       "\n",
       "    .dataframe tbody tr th {\n",
       "        vertical-align: top;\n",
       "    }\n",
       "\n",
       "    .dataframe thead th {\n",
       "        text-align: right;\n",
       "    }\n",
       "</style>\n",
       "<table border=\"1\" class=\"dataframe\">\n",
       "  <thead>\n",
       "    <tr style=\"text-align: right;\">\n",
       "      <th></th>\n",
       "      <th>npi</th>\n",
       "      <th>entity_type</th>\n",
       "      <th>provider_type</th>\n",
       "      <th>place_of_service</th>\n",
       "      <th>hcpcs_code</th>\n",
       "      <th>hcpcs_desc</th>\n",
       "      <th>no_dist_ben_per_day_svcs</th>\n",
       "      <th>avg_med_allowed_amt</th>\n",
       "      <th>avg_med_pay_amt</th>\n",
       "      <th>zip</th>\n",
       "      <th>cbsa</th>\n",
       "      <th>crosswalk_short_desc</th>\n",
       "      <th>apc</th>\n",
       "    </tr>\n",
       "  </thead>\n",
       "  <tbody>\n",
       "    <tr>\n",
       "      <td>2010002</td>\n",
       "      <td>1699054098</td>\n",
       "      <td>O</td>\n",
       "      <td>Ambulatory Surgical Center</td>\n",
       "      <td>F</td>\n",
       "      <td>43249</td>\n",
       "      <td>Balloon dilation of esophagus using an endoscope</td>\n",
       "      <td>35</td>\n",
       "      <td>529.940000</td>\n",
       "      <td>403.025714</td>\n",
       "      <td>21502</td>\n",
       "      <td>19060</td>\n",
       "      <td>Esoph egd dilation &lt;30 mm</td>\n",
       "      <td>5302.0</td>\n",
       "    </tr>\n",
       "    <tr>\n",
       "      <td>2010006</td>\n",
       "      <td>1386796332</td>\n",
       "      <td>O</td>\n",
       "      <td>Ambulatory Surgical Center</td>\n",
       "      <td>F</td>\n",
       "      <td>43249</td>\n",
       "      <td>Balloon dilation of esophagus using an endoscope</td>\n",
       "      <td>45</td>\n",
       "      <td>576.920000</td>\n",
       "      <td>438.582000</td>\n",
       "      <td>43623</td>\n",
       "      <td>45780</td>\n",
       "      <td>Esoph egd dilation &lt;30 mm</td>\n",
       "      <td>5302.0</td>\n",
       "    </tr>\n",
       "    <tr>\n",
       "      <td>2010021</td>\n",
       "      <td>1427491547</td>\n",
       "      <td>O</td>\n",
       "      <td>Ambulatory Surgical Center</td>\n",
       "      <td>F</td>\n",
       "      <td>43249</td>\n",
       "      <td>Balloon dilation of esophagus using an endoscope</td>\n",
       "      <td>26</td>\n",
       "      <td>591.328846</td>\n",
       "      <td>458.089231</td>\n",
       "      <td>77030</td>\n",
       "      <td>26420</td>\n",
       "      <td>Esoph egd dilation &lt;30 mm</td>\n",
       "      <td>5302.0</td>\n",
       "    </tr>\n",
       "    <tr>\n",
       "      <td>2010024</td>\n",
       "      <td>1679585772</td>\n",
       "      <td>O</td>\n",
       "      <td>Ambulatory Surgical Center</td>\n",
       "      <td>F</td>\n",
       "      <td>43249</td>\n",
       "      <td>Balloon dilation of esophagus using an endoscope</td>\n",
       "      <td>46</td>\n",
       "      <td>599.010000</td>\n",
       "      <td>459.262609</td>\n",
       "      <td>77030</td>\n",
       "      <td>26420</td>\n",
       "      <td>Esoph egd dilation &lt;30 mm</td>\n",
       "      <td>5302.0</td>\n",
       "    </tr>\n",
       "    <tr>\n",
       "      <td>2010027</td>\n",
       "      <td>1073587416</td>\n",
       "      <td>O</td>\n",
       "      <td>Ambulatory Surgical Center</td>\n",
       "      <td>F</td>\n",
       "      <td>43249</td>\n",
       "      <td>Balloon dilation of esophagus using an endoscope</td>\n",
       "      <td>35</td>\n",
       "      <td>605.460000</td>\n",
       "      <td>472.930857</td>\n",
       "      <td>13210</td>\n",
       "      <td>45060</td>\n",
       "      <td>Esoph egd dilation &lt;30 mm</td>\n",
       "      <td>5302.0</td>\n",
       "    </tr>\n",
       "  </tbody>\n",
       "</table>\n",
       "</div>"
      ],
      "text/plain": [
       "                npi entity_type               provider_type place_of_service  \\\n",
       "2010002  1699054098           O  Ambulatory Surgical Center                F   \n",
       "2010006  1386796332           O  Ambulatory Surgical Center                F   \n",
       "2010021  1427491547           O  Ambulatory Surgical Center                F   \n",
       "2010024  1679585772           O  Ambulatory Surgical Center                F   \n",
       "2010027  1073587416           O  Ambulatory Surgical Center                F   \n",
       "\n",
       "        hcpcs_code                                        hcpcs_desc  \\\n",
       "2010002      43249  Balloon dilation of esophagus using an endoscope   \n",
       "2010006      43249  Balloon dilation of esophagus using an endoscope   \n",
       "2010021      43249  Balloon dilation of esophagus using an endoscope   \n",
       "2010024      43249  Balloon dilation of esophagus using an endoscope   \n",
       "2010027      43249  Balloon dilation of esophagus using an endoscope   \n",
       "\n",
       "         no_dist_ben_per_day_svcs  avg_med_allowed_amt  avg_med_pay_amt  \\\n",
       "2010002                        35           529.940000       403.025714   \n",
       "2010006                        45           576.920000       438.582000   \n",
       "2010021                        26           591.328846       458.089231   \n",
       "2010024                        46           599.010000       459.262609   \n",
       "2010027                        35           605.460000       472.930857   \n",
       "\n",
       "           zip   cbsa       crosswalk_short_desc     apc  \n",
       "2010002  21502  19060  Esoph egd dilation <30 mm  5302.0  \n",
       "2010006  43623  45780  Esoph egd dilation <30 mm  5302.0  \n",
       "2010021  77030  26420  Esoph egd dilation <30 mm  5302.0  \n",
       "2010024  77030  26420  Esoph egd dilation <30 mm  5302.0  \n",
       "2010027  13210  45060  Esoph egd dilation <30 mm  5302.0  "
      ]
     },
     "execution_count": 30,
     "metadata": {},
     "output_type": "execute_result"
    }
   ],
   "source": [
    "d134_option1_filters.head()"
   ]
  },
  {
   "cell_type": "code",
   "execution_count": 32,
   "metadata": {},
   "outputs": [
    {
     "data": {
      "text/plain": [
       "<matplotlib.axes._subplots.AxesSubplot at 0x26a356f75c8>"
      ]
     },
     "execution_count": 32,
     "metadata": {},
     "output_type": "execute_result"
    },
    {
     "data": {
      "image/png": "[encoded data removed]",
      "text/plain": [
       "<Figure size 432x288 with 1 Axes>"
      ]
     },
     "metadata": {
      "needs_background": "light"
     },
     "output_type": "display_data"
    }
   ],
   "source": [
    "d134_option1_filters['avg_med_allowed_amt'].plot.hist()"
   ]
  },
  {
   "cell_type": "markdown",
   "metadata": {},
   "source": [
    "## Filters for Goals Option 1 -hospital data\n",
    "\n",
    "Filters for Hospital Outpatient\n",
    "\n",
    "APC =5302"
   ]
  },
  {
   "cell_type": "code",
   "execution_count": 34,
   "metadata": {},
   "outputs": [
    {
     "data": {
      "text/plain": [
       "(157117, 12)"
      ]
     },
     "execution_count": 34,
     "metadata": {},
     "output_type": "execute_result"
    }
   ],
   "source": [
    "filter4 = d2_d3_d4['apc'].isin(['5302'])\n",
    "\n",
    "d234_option1_filters = d2_d3_d4[filter4]\n",
    "d234_option1_filters.shape"
   ]
  },
  {
   "cell_type": "code",
   "execution_count": 35,
   "metadata": {},
   "outputs": [],
   "source": [
    "d234_option1_filters.to_csv('d2_filtered.csv')"
   ]
  },
  {
   "cell_type": "code",
   "execution_count": 38,
   "metadata": {},
   "outputs": [
    {
     "data": {
      "text/plain": [
       "<matplotlib.axes._subplots.AxesSubplot at 0x26a354195c8>"
      ]
     },
     "execution_count": 38,
     "metadata": {},
     "output_type": "execute_result"
    },
    {
     "data": {
      "image/png": "[encoded data removed]",
      "text/plain": [
       "<Figure size 432x288 with 1 Axes>"
      ]
     },
     "metadata": {
      "needs_background": "light"
     },
     "output_type": "display_data"
    }
   ],
   "source": [
    "d234_option1_filters['avg_med_allowed_amt'].plot.hist()"
   ]
  },
  {
   "cell_type": "code",
   "execution_count": 39,
   "metadata": {},
   "outputs": [
    {
     "data": {
      "text/plain": [
       "Index(['id', 'name', 'zip', 'apc', 'apc_desc', 'bens', 'capcs_svcs',\n",
       "       'avg_med_allowed_amt', 'avg_med_pay_amount', 'cbsa', 'hcpcs_code',\n",
       "       'crosswalk_short_desc'],\n",
       "      dtype='object')"
      ]
     },
     "execution_count": 39,
     "metadata": {},
     "output_type": "execute_result"
    }
   ],
   "source": [
    "d234_option1_filters.columns"
   ]
  },
  {
   "cell_type": "code",
   "execution_count": 42,
   "metadata": {},
   "outputs": [
    {
     "name": "stderr",
     "output_type": "stream",
     "text": [
      "C:\\Users\\erinm\\Anaconda3\\lib\\site-packages\\ipykernel_launcher.py:1: SettingWithCopyWarning: \n",
      "A value is trying to be set on a copy of a slice from a DataFrame.\n",
      "Try using .loc[row_indexer,col_indexer] = value instead\n",
      "\n",
      "See the caveats in the documentation: http://pandas.pydata.org/pandas-docs/stable/user_guide/indexing.html#returning-a-view-versus-a-copy\n",
      "  \"\"\"Entry point for launching an IPython kernel.\n"
     ]
    }
   ],
   "source": [
    "d234_option1_filters['avg_patient_resp_%'] = d234_option1_filters['avg_med_pay_amount'] / d234_option1_filters['avg_med_allowed_amt']"
   ]
  },
  {
   "cell_type": "code",
   "execution_count": null,
   "metadata": {},
   "outputs": [],
   "source": [
    "d1.loc[:,'zip']= d1['orig_zip'].astype(str).str[:5]"
   ]
  }
 ],
 "metadata": {
  "kernelspec": {
   "display_name": "Python 3",
   "language": "python",
   "name": "python3"
  },
  "language_info": {
   "codemirror_mode": {
    "name": "ipython",
    "version": 3
   },
   "file_extension": ".py",
   "mimetype": "text/x-python",
   "name": "python",
   "nbconvert_exporter": "python",
   "pygments_lexer": "ipython3",
   "version": "3.7.4"
  }
 },
 "nbformat": 4,
 "nbformat_minor": 2
}
